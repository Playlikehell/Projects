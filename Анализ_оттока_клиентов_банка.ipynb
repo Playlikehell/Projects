{
 "cells": [
  {
   "cell_type": "markdown",
   "metadata": {},
   "source": [
    "# Анализ оттока клиентов банка \"Метанпром\""
   ]
  },
  {
   "cell_type": "markdown",
   "metadata": {},
   "source": [
    "##  Цель:"
   ]
  },
  {
   "cell_type": "markdown",
   "metadata": {},
   "source": [
    "Проанализировать клиентов банка и выделить сегменты клиентов, которые склонны уходить из банка. Дать рекомндации по их удержанию."
   ]
  },
  {
   "cell_type": "markdown",
   "metadata": {},
   "source": [
    "##  Задачи проекта:"
   ]
  },
  {
   "cell_type": "markdown",
   "metadata": {},
   "source": [
    "### Загрузка и описание данных"
   ]
  },
  {
   "cell_type": "markdown",
   "metadata": {},
   "source": [
    "###  Подготовка данных"
   ]
  },
  {
   "cell_type": "markdown",
   "metadata": {},
   "source": [
    "####  кодирование (для использования в анализе корреляции)"
   ]
  },
  {
   "cell_type": "markdown",
   "metadata": {},
   "source": [
    " - выполнить анализ методами Пирсона или Спирмена  \n",
    " - определить технику кодирования в зависимости от признака (упорядоченный или неупорядоченный)\n",
    " - кодирование не применяется при использование метода `phik`"
   ]
  },
  {
   "cell_type": "markdown",
   "metadata": {},
   "source": [
    "####  Классификация пропусков  (анализ природы пропусков и их разумная обработка)"
   ]
  },
  {
   "cell_type": "markdown",
   "metadata": {},
   "source": [
    "- для каждого признака с пропусками сделать отдельный технический признак со значениеми 1 или 0  \n",
    "- с помощью матрицы корреляции проанализировать связь с другими признаками таблицы и определить имеется ли связь между пропусками или нет  \n",
    "- исходя из полученных результатов принять решение что делать с пропусками"
   ]
  },
  {
   "cell_type": "markdown",
   "metadata": {},
   "source": [
    "####  выполнить анализ неявных дубликатов по user_id"
   ]
  },
  {
   "cell_type": "markdown",
   "metadata": {},
   "source": [
    "###  Exploratory Data Analysis (EDA) - разведочный анализ данных"
   ]
  },
  {
   "cell_type": "markdown",
   "metadata": {},
   "source": [
    "####  анализ распределения признаков в разрезе оттока"
   ]
  },
  {
   "cell_type": "markdown",
   "metadata": {},
   "source": [
    " - для непрерывных величин - ищем отточные интервалы, для категориальных/дискретных - ищем значения признака с оттоком выше, чем по банку\n",
    " - построить распределение признака в разрезе оттока с помощью нормированной гистограммы (для возраста строим норм.гистограмму в разрезре оттока, далее делаем срез по таблице - получаем сегмент)"
   ]
  },
  {
   "cell_type": "markdown",
   "metadata": {},
   "source": [
    "####  анализ портретов клиентов в разрезе оттока (описание мер центральных тенденций характеризующих типичные значение)"
   ]
  },
  {
   "cell_type": "markdown",
   "metadata": {},
   "source": [
    " - построим сводную таблицу  (значения признака оттока - столбцы), в каждом столбце определяем меру центральной тенденции (для непрерывных признаков - ср.знач, для дискретных - медиану, для категориальных - моду; далее строим 3 столбец с относительной разницей для непрерывных призаков."
   ]
  },
  {
   "cell_type": "markdown",
   "metadata": {},
   "source": [
    "####  корреляционный анализ признака churn с другими признаками (в тч интерпретация по Чеддоку)"
   ]
  },
  {
   "cell_type": "markdown",
   "metadata": {},
   "source": [
    "- построим полную матрицу корреляции всех признаков со всеми признаками\n",
    "- визуализируем столбец Churn из этой матрицы и интерпретируем каждый признак по шкале Чеддока"
   ]
  },
  {
   "cell_type": "markdown",
   "metadata": {},
   "source": [
    "###  Проверка статистических гипотез"
   ]
  },
  {
   "cell_type": "markdown",
   "metadata": {},
   "source": [
    " - минимум две гипотезы\n",
    " - выполним обоснование инструмента\n",
    " - все гипотезы должны быть связаны с оттоком"
   ]
  },
  {
   "cell_type": "markdown",
   "metadata": {},
   "source": [
    "###  Подведение промежуточных итогов"
   ]
  },
  {
   "cell_type": "markdown",
   "metadata": {},
   "source": [
    " - выводы по результатам EDA, корреляционного анализа и гипотез, выделение признаков, влияющих на оттток\n",
    " - общий краткий вывод\n",
    " - установить признаки, их значения и интервал для распрделения на сегменты"
   ]
  },
  {
   "cell_type": "markdown",
   "metadata": {},
   "source": [
    "###  Сегментация"
   ]
  },
  {
   "cell_type": "markdown",
   "metadata": {},
   "source": [
    " - от 500 клиентов на сегмент, не менее трёх\n",
    " - отток выше, чем средний уровень оттока по банку\n",
    " - сегменты должны быть неоднородными, для каждого сегмента не менее двух признаков, и признаки не должны пересекаться для разных сегментов"
   ]
  },
  {
   "cell_type": "markdown",
   "metadata": {},
   "source": [
    "###  Приоритизация сегментов"
   ]
  },
  {
   "cell_type": "markdown",
   "metadata": {},
   "source": [
    " - определить приоритеты сегментов (первый приоритет - самые большие по количеству и величине оттока)"
   ]
  },
  {
   "cell_type": "markdown",
   "metadata": {},
   "source": [
    "###  Формирование рекомендаций"
   ]
  },
  {
   "cell_type": "markdown",
   "metadata": {},
   "source": [
    " - выдать рекомендации на каждый сегмент индивидуально\n",
    " - рекомендации должны соответствовать сегменту, то есть быть таргетированными"
   ]
  },
  {
   "cell_type": "markdown",
   "metadata": {},
   "source": [
    "## Выполнение проекта"
   ]
  },
  {
   "cell_type": "markdown",
   "metadata": {},
   "source": [
    "### Загрузка и описание данных"
   ]
  },
  {
   "cell_type": "markdown",
   "metadata": {},
   "source": [
    "Загрузим необходимые библиотеки"
   ]
  },
  {
   "cell_type": "code",
   "execution_count": 1,
   "metadata": {},
   "outputs": [],
   "source": [
    "import pandas as pd\n",
    "import numpy as np\n",
    "import seaborn as sns\n",
    "import matplotlib.pyplot as plt\n",
    "from scipy import stats as st\n",
    "import itertools\n",
    "from statsmodels.stats.proportion import proportions_ztest\n",
    "import os"
   ]
  },
  {
   "cell_type": "markdown",
   "metadata": {},
   "source": [
    "Загрузим данные"
   ]
  },
  {
   "cell_type": "code",
   "execution_count": 2,
   "metadata": {},
   "outputs": [],
   "source": [
    "data = pd.read_csv('/datasets/bank_scrooge.csv')"
   ]
  },
  {
   "cell_type": "code",
   "execution_count": 3,
   "metadata": {},
   "outputs": [],
   "source": [
    "path1 = '/datasets/bank_scrooge.csv'\n",
    "path2 = 'https://code.s3.yandex.net/datasets/bank_scrooge.csv'\n",
    "\n",
    "if os.path.exists(path1):\n",
    "    data = pd.read_csv(path1)\n",
    "elif os.path.exists(pth2):\n",
    "    data = pd.read_csv(path2)\n",
    "else:\n",
    "    print('Error')"
   ]
  },
  {
   "cell_type": "markdown",
   "metadata": {},
   "source": [
    "Выполним обзор данных"
   ]
  },
  {
   "cell_type": "code",
   "execution_count": 4,
   "metadata": {},
   "outputs": [
    {
     "data": {
      "text/html": [
       "<div>\n",
       "<style scoped>\n",
       "    .dataframe tbody tr th:only-of-type {\n",
       "        vertical-align: middle;\n",
       "    }\n",
       "\n",
       "    .dataframe tbody tr th {\n",
       "        vertical-align: top;\n",
       "    }\n",
       "\n",
       "    .dataframe thead th {\n",
       "        text-align: right;\n",
       "    }\n",
       "</style>\n",
       "<table border=\"1\" class=\"dataframe\">\n",
       "  <thead>\n",
       "    <tr style=\"text-align: right;\">\n",
       "      <th></th>\n",
       "      <th>USERID</th>\n",
       "      <th>score</th>\n",
       "      <th>city</th>\n",
       "      <th>gender</th>\n",
       "      <th>age</th>\n",
       "      <th>equity</th>\n",
       "      <th>balance</th>\n",
       "      <th>products</th>\n",
       "      <th>credit_card</th>\n",
       "      <th>last_activity</th>\n",
       "      <th>EST_SALARY</th>\n",
       "      <th>churn</th>\n",
       "    </tr>\n",
       "  </thead>\n",
       "  <tbody>\n",
       "    <tr>\n",
       "      <th>0</th>\n",
       "      <td>183012</td>\n",
       "      <td>850.0</td>\n",
       "      <td>Рыбинск</td>\n",
       "      <td>Ж</td>\n",
       "      <td>25.0</td>\n",
       "      <td>1</td>\n",
       "      <td>59214.82</td>\n",
       "      <td>2</td>\n",
       "      <td>0</td>\n",
       "      <td>1</td>\n",
       "      <td>75719.14</td>\n",
       "      <td>1</td>\n",
       "    </tr>\n",
       "    <tr>\n",
       "      <th>1</th>\n",
       "      <td>146556</td>\n",
       "      <td>861.0</td>\n",
       "      <td>Рыбинск</td>\n",
       "      <td>Ж</td>\n",
       "      <td>37.0</td>\n",
       "      <td>5</td>\n",
       "      <td>850594.33</td>\n",
       "      <td>3</td>\n",
       "      <td>1</td>\n",
       "      <td>0</td>\n",
       "      <td>86621.77</td>\n",
       "      <td>0</td>\n",
       "    </tr>\n",
       "    <tr>\n",
       "      <th>2</th>\n",
       "      <td>120722</td>\n",
       "      <td>892.0</td>\n",
       "      <td>Рыбинск</td>\n",
       "      <td>Ж</td>\n",
       "      <td>30.0</td>\n",
       "      <td>0</td>\n",
       "      <td>NaN</td>\n",
       "      <td>1</td>\n",
       "      <td>1</td>\n",
       "      <td>1</td>\n",
       "      <td>107683.34</td>\n",
       "      <td>0</td>\n",
       "    </tr>\n",
       "    <tr>\n",
       "      <th>3</th>\n",
       "      <td>225363</td>\n",
       "      <td>866.0</td>\n",
       "      <td>Ярославль</td>\n",
       "      <td>Ж</td>\n",
       "      <td>51.0</td>\n",
       "      <td>5</td>\n",
       "      <td>1524746.26</td>\n",
       "      <td>2</td>\n",
       "      <td>0</td>\n",
       "      <td>1</td>\n",
       "      <td>174423.53</td>\n",
       "      <td>1</td>\n",
       "    </tr>\n",
       "    <tr>\n",
       "      <th>4</th>\n",
       "      <td>157978</td>\n",
       "      <td>730.0</td>\n",
       "      <td>Ярославль</td>\n",
       "      <td>М</td>\n",
       "      <td>34.0</td>\n",
       "      <td>5</td>\n",
       "      <td>174.00</td>\n",
       "      <td>1</td>\n",
       "      <td>1</td>\n",
       "      <td>0</td>\n",
       "      <td>67353.16</td>\n",
       "      <td>1</td>\n",
       "    </tr>\n",
       "    <tr>\n",
       "      <th>5</th>\n",
       "      <td>202305</td>\n",
       "      <td>856.0</td>\n",
       "      <td>Рыбинск</td>\n",
       "      <td>М</td>\n",
       "      <td>56.0</td>\n",
       "      <td>4</td>\n",
       "      <td>863687.24</td>\n",
       "      <td>3</td>\n",
       "      <td>1</td>\n",
       "      <td>0</td>\n",
       "      <td>156619.80</td>\n",
       "      <td>0</td>\n",
       "    </tr>\n",
       "    <tr>\n",
       "      <th>6</th>\n",
       "      <td>177259</td>\n",
       "      <td>807.0</td>\n",
       "      <td>Ярославль</td>\n",
       "      <td>Ж</td>\n",
       "      <td>39.0</td>\n",
       "      <td>3</td>\n",
       "      <td>405042.44</td>\n",
       "      <td>3</td>\n",
       "      <td>0</td>\n",
       "      <td>1</td>\n",
       "      <td>103838.32</td>\n",
       "      <td>0</td>\n",
       "    </tr>\n",
       "    <tr>\n",
       "      <th>7</th>\n",
       "      <td>218868</td>\n",
       "      <td>825.0</td>\n",
       "      <td>Ярославль</td>\n",
       "      <td>Ж</td>\n",
       "      <td>38.0</td>\n",
       "      <td>4</td>\n",
       "      <td>458145.40</td>\n",
       "      <td>2</td>\n",
       "      <td>1</td>\n",
       "      <td>1</td>\n",
       "      <td>68085.48</td>\n",
       "      <td>0</td>\n",
       "    </tr>\n",
       "    <tr>\n",
       "      <th>8</th>\n",
       "      <td>211686</td>\n",
       "      <td>923.0</td>\n",
       "      <td>Ярославль</td>\n",
       "      <td>М</td>\n",
       "      <td>54.0</td>\n",
       "      <td>5</td>\n",
       "      <td>1206337.87</td>\n",
       "      <td>2</td>\n",
       "      <td>1</td>\n",
       "      <td>0</td>\n",
       "      <td>155371.79</td>\n",
       "      <td>0</td>\n",
       "    </tr>\n",
       "    <tr>\n",
       "      <th>9</th>\n",
       "      <td>133130</td>\n",
       "      <td>906.0</td>\n",
       "      <td>Ярославль</td>\n",
       "      <td>Ж</td>\n",
       "      <td>67.0</td>\n",
       "      <td>0</td>\n",
       "      <td>NaN</td>\n",
       "      <td>1</td>\n",
       "      <td>0</td>\n",
       "      <td>1</td>\n",
       "      <td>238055.53</td>\n",
       "      <td>0</td>\n",
       "    </tr>\n",
       "  </tbody>\n",
       "</table>\n",
       "</div>"
      ],
      "text/plain": [
       "   USERID  score       city gender   age  equity     balance  products  \\\n",
       "0  183012  850.0    Рыбинск      Ж  25.0       1    59214.82         2   \n",
       "1  146556  861.0    Рыбинск      Ж  37.0       5   850594.33         3   \n",
       "2  120722  892.0    Рыбинск      Ж  30.0       0         NaN         1   \n",
       "3  225363  866.0  Ярославль      Ж  51.0       5  1524746.26         2   \n",
       "4  157978  730.0  Ярославль      М  34.0       5      174.00         1   \n",
       "5  202305  856.0    Рыбинск      М  56.0       4   863687.24         3   \n",
       "6  177259  807.0  Ярославль      Ж  39.0       3   405042.44         3   \n",
       "7  218868  825.0  Ярославль      Ж  38.0       4   458145.40         2   \n",
       "8  211686  923.0  Ярославль      М  54.0       5  1206337.87         2   \n",
       "9  133130  906.0  Ярославль      Ж  67.0       0         NaN         1   \n",
       "\n",
       "   credit_card  last_activity  EST_SALARY  churn  \n",
       "0            0              1    75719.14      1  \n",
       "1            1              0    86621.77      0  \n",
       "2            1              1   107683.34      0  \n",
       "3            0              1   174423.53      1  \n",
       "4            1              0    67353.16      1  \n",
       "5            1              0   156619.80      0  \n",
       "6            0              1   103838.32      0  \n",
       "7            1              1    68085.48      0  \n",
       "8            1              0   155371.79      0  \n",
       "9            0              1   238055.53      0  "
      ]
     },
     "execution_count": 4,
     "metadata": {},
     "output_type": "execute_result"
    }
   ],
   "source": [
    "data.head(10)"
   ]
  },
  {
   "cell_type": "code",
   "execution_count": 5,
   "metadata": {},
   "outputs": [
    {
     "name": "stdout",
     "output_type": "stream",
     "text": [
      "<class 'pandas.core.frame.DataFrame'>\n",
      "RangeIndex: 10000 entries, 0 to 9999\n",
      "Data columns (total 12 columns):\n",
      " #   Column         Non-Null Count  Dtype  \n",
      "---  ------         --------------  -----  \n",
      " 0   USERID         10000 non-null  int64  \n",
      " 1   score          10000 non-null  float64\n",
      " 2   city           10000 non-null  object \n",
      " 3   gender         10000 non-null  object \n",
      " 4   age            9974 non-null   float64\n",
      " 5   equity         10000 non-null  int64  \n",
      " 6   balance        7705 non-null   float64\n",
      " 7   products       10000 non-null  int64  \n",
      " 8   credit_card    10000 non-null  int64  \n",
      " 9   last_activity  10000 non-null  int64  \n",
      " 10  EST_SALARY     10000 non-null  float64\n",
      " 11  churn          10000 non-null  int64  \n",
      "dtypes: float64(4), int64(6), object(2)\n",
      "memory usage: 937.6+ KB\n"
     ]
    }
   ],
   "source": [
    "data.info()"
   ]
  },
  {
   "cell_type": "code",
   "execution_count": 6,
   "metadata": {},
   "outputs": [
    {
     "data": {
      "text/html": [
       "<div>\n",
       "<style scoped>\n",
       "    .dataframe tbody tr th:only-of-type {\n",
       "        vertical-align: middle;\n",
       "    }\n",
       "\n",
       "    .dataframe tbody tr th {\n",
       "        vertical-align: top;\n",
       "    }\n",
       "\n",
       "    .dataframe thead th {\n",
       "        text-align: right;\n",
       "    }\n",
       "</style>\n",
       "<table border=\"1\" class=\"dataframe\">\n",
       "  <thead>\n",
       "    <tr style=\"text-align: right;\">\n",
       "      <th></th>\n",
       "      <th>USERID</th>\n",
       "      <th>score</th>\n",
       "      <th>age</th>\n",
       "      <th>equity</th>\n",
       "      <th>balance</th>\n",
       "      <th>products</th>\n",
       "      <th>credit_card</th>\n",
       "      <th>last_activity</th>\n",
       "      <th>EST_SALARY</th>\n",
       "      <th>churn</th>\n",
       "    </tr>\n",
       "  </thead>\n",
       "  <tbody>\n",
       "    <tr>\n",
       "      <th>count</th>\n",
       "      <td>10000.00</td>\n",
       "      <td>10000.00</td>\n",
       "      <td>9974.00</td>\n",
       "      <td>10000.00</td>\n",
       "      <td>7.705000e+03</td>\n",
       "      <td>10000.00</td>\n",
       "      <td>10000.00</td>\n",
       "      <td>10000.00</td>\n",
       "      <td>10000.00</td>\n",
       "      <td>10000.00</td>\n",
       "    </tr>\n",
       "    <tr>\n",
       "      <th>mean</th>\n",
       "      <td>171814.71</td>\n",
       "      <td>848.70</td>\n",
       "      <td>42.73</td>\n",
       "      <td>2.63</td>\n",
       "      <td>8.277943e+05</td>\n",
       "      <td>1.87</td>\n",
       "      <td>0.68</td>\n",
       "      <td>0.52</td>\n",
       "      <td>147866.89</td>\n",
       "      <td>0.18</td>\n",
       "    </tr>\n",
       "    <tr>\n",
       "      <th>std</th>\n",
       "      <td>33708.24</td>\n",
       "      <td>65.45</td>\n",
       "      <td>12.18</td>\n",
       "      <td>1.98</td>\n",
       "      <td>1.980614e+06</td>\n",
       "      <td>0.79</td>\n",
       "      <td>0.47</td>\n",
       "      <td>0.50</td>\n",
       "      <td>139388.51</td>\n",
       "      <td>0.39</td>\n",
       "    </tr>\n",
       "    <tr>\n",
       "      <th>min</th>\n",
       "      <td>94561.00</td>\n",
       "      <td>642.00</td>\n",
       "      <td>18.00</td>\n",
       "      <td>0.00</td>\n",
       "      <td>0.000000e+00</td>\n",
       "      <td>0.00</td>\n",
       "      <td>0.00</td>\n",
       "      <td>0.00</td>\n",
       "      <td>2546.30</td>\n",
       "      <td>0.00</td>\n",
       "    </tr>\n",
       "    <tr>\n",
       "      <th>25%</th>\n",
       "      <td>142810.25</td>\n",
       "      <td>802.00</td>\n",
       "      <td>33.00</td>\n",
       "      <td>0.00</td>\n",
       "      <td>2.955542e+05</td>\n",
       "      <td>1.00</td>\n",
       "      <td>0.00</td>\n",
       "      <td>0.00</td>\n",
       "      <td>75251.90</td>\n",
       "      <td>0.00</td>\n",
       "    </tr>\n",
       "    <tr>\n",
       "      <th>50%</th>\n",
       "      <td>172728.00</td>\n",
       "      <td>853.00</td>\n",
       "      <td>40.00</td>\n",
       "      <td>3.00</td>\n",
       "      <td>5.242722e+05</td>\n",
       "      <td>2.00</td>\n",
       "      <td>1.00</td>\n",
       "      <td>1.00</td>\n",
       "      <td>119658.10</td>\n",
       "      <td>0.00</td>\n",
       "    </tr>\n",
       "    <tr>\n",
       "      <th>75%</th>\n",
       "      <td>201261.75</td>\n",
       "      <td>900.00</td>\n",
       "      <td>51.00</td>\n",
       "      <td>4.00</td>\n",
       "      <td>9.807058e+05</td>\n",
       "      <td>2.00</td>\n",
       "      <td>1.00</td>\n",
       "      <td>1.00</td>\n",
       "      <td>174500.54</td>\n",
       "      <td>0.00</td>\n",
       "    </tr>\n",
       "    <tr>\n",
       "      <th>max</th>\n",
       "      <td>229145.00</td>\n",
       "      <td>1000.00</td>\n",
       "      <td>86.00</td>\n",
       "      <td>9.00</td>\n",
       "      <td>1.191136e+08</td>\n",
       "      <td>5.00</td>\n",
       "      <td>1.00</td>\n",
       "      <td>1.00</td>\n",
       "      <td>1395064.45</td>\n",
       "      <td>1.00</td>\n",
       "    </tr>\n",
       "  </tbody>\n",
       "</table>\n",
       "</div>"
      ],
      "text/plain": [
       "          USERID     score      age    equity       balance  products  \\\n",
       "count   10000.00  10000.00  9974.00  10000.00  7.705000e+03  10000.00   \n",
       "mean   171814.71    848.70    42.73      2.63  8.277943e+05      1.87   \n",
       "std     33708.24     65.45    12.18      1.98  1.980614e+06      0.79   \n",
       "min     94561.00    642.00    18.00      0.00  0.000000e+00      0.00   \n",
       "25%    142810.25    802.00    33.00      0.00  2.955542e+05      1.00   \n",
       "50%    172728.00    853.00    40.00      3.00  5.242722e+05      2.00   \n",
       "75%    201261.75    900.00    51.00      4.00  9.807058e+05      2.00   \n",
       "max    229145.00   1000.00    86.00      9.00  1.191136e+08      5.00   \n",
       "\n",
       "       credit_card  last_activity  EST_SALARY     churn  \n",
       "count     10000.00       10000.00    10000.00  10000.00  \n",
       "mean          0.68           0.52   147866.89      0.18  \n",
       "std           0.47           0.50   139388.51      0.39  \n",
       "min           0.00           0.00     2546.30      0.00  \n",
       "25%           0.00           0.00    75251.90      0.00  \n",
       "50%           1.00           1.00   119658.10      0.00  \n",
       "75%           1.00           1.00   174500.54      0.00  \n",
       "max           1.00           1.00  1395064.45      1.00  "
      ]
     },
     "execution_count": 6,
     "metadata": {},
     "output_type": "execute_result"
    }
   ],
   "source": [
    "data.describe().round(2)"
   ]
  },
  {
   "cell_type": "markdown",
   "metadata": {},
   "source": [
    "Определим количетсов пропусков"
   ]
  },
  {
   "cell_type": "code",
   "execution_count": 7,
   "metadata": {},
   "outputs": [
    {
     "data": {
      "text/plain": [
       "USERID              0\n",
       "score               0\n",
       "city                0\n",
       "gender              0\n",
       "age                26\n",
       "equity              0\n",
       "balance          2295\n",
       "products            0\n",
       "credit_card         0\n",
       "last_activity       0\n",
       "EST_SALARY          0\n",
       "churn               0\n",
       "dtype: int64"
      ]
     },
     "execution_count": 7,
     "metadata": {},
     "output_type": "execute_result"
    }
   ],
   "source": [
    "data.isnull().sum()"
   ]
  },
  {
   "cell_type": "markdown",
   "metadata": {},
   "source": [
    "Доля пропусков в столбце `balance`"
   ]
  },
  {
   "cell_type": "code",
   "execution_count": 8,
   "metadata": {},
   "outputs": [
    {
     "data": {
      "text/plain": [
       "0.23"
      ]
     },
     "execution_count": 8,
     "metadata": {},
     "output_type": "execute_result"
    }
   ],
   "source": [
    "data['balance'].isnull().mean().round(2)"
   ]
  },
  {
   "cell_type": "markdown",
   "metadata": {},
   "source": [
    "Доля пропусков в столбце `age`"
   ]
  },
  {
   "cell_type": "code",
   "execution_count": 9,
   "metadata": {},
   "outputs": [
    {
     "data": {
      "text/plain": [
       "0.0026"
      ]
     },
     "execution_count": 9,
     "metadata": {},
     "output_type": "execute_result"
    }
   ],
   "source": [
    "data['age'].isnull().mean()"
   ]
  },
  {
   "cell_type": "markdown",
   "metadata": {},
   "source": [
    "Проверим наличие полных дубликатов"
   ]
  },
  {
   "cell_type": "code",
   "execution_count": 10,
   "metadata": {},
   "outputs": [
    {
     "data": {
      "text/plain": [
       "0"
      ]
     },
     "execution_count": 10,
     "metadata": {},
     "output_type": "execute_result"
    }
   ],
   "source": [
    "data.duplicated().sum()"
   ]
  },
  {
   "cell_type": "code",
   "execution_count": 11,
   "metadata": {},
   "outputs": [
    {
     "data": {
      "text/plain": [
       "73"
      ]
     },
     "execution_count": 11,
     "metadata": {},
     "output_type": "execute_result"
    }
   ],
   "source": [
    "data['USERID'].duplicated().sum()"
   ]
  },
  {
   "cell_type": "markdown",
   "metadata": {},
   "source": [
    "**Выводы**  \n",
    "- в датасете 10000 строк, 10 столбцов с данными  \n",
    "- необходимо привести регистр названий столбцов к нижнему\n",
    "- в колонке `balance` 23% пропусков. Данные пропуски, вероятно, возникли не случайно, необходимо провести анализ и принять решение по пропускам\n",
    "- в колонке `age` 26 пропусков. Предположительно данные пропуски возникли случайно.\n",
    "- необходимо привести тип данных в столбце `age` к типу `int`\n",
    "- полных дубликатов не обнаружено\n",
    "- обнаружено 73 дубликата в столбце `USERID`, необходим дополнительный анализ неявных дубликатов\n",
    "- также имеются клиенты с нулевым количеством продуктов\n",
    "- доля оттока по банку состоявлет 18% пользователей"
   ]
  },
  {
   "cell_type": "markdown",
   "metadata": {},
   "source": [
    "### Подготовка данных"
   ]
  },
  {
   "cell_type": "markdown",
   "metadata": {},
   "source": [
    "Приведем наименования столбцов к корректному виду"
   ]
  },
  {
   "cell_type": "code",
   "execution_count": 12,
   "metadata": {
    "scrolled": true
   },
   "outputs": [
    {
     "data": {
      "text/html": [
       "<div>\n",
       "<style scoped>\n",
       "    .dataframe tbody tr th:only-of-type {\n",
       "        vertical-align: middle;\n",
       "    }\n",
       "\n",
       "    .dataframe tbody tr th {\n",
       "        vertical-align: top;\n",
       "    }\n",
       "\n",
       "    .dataframe thead th {\n",
       "        text-align: right;\n",
       "    }\n",
       "</style>\n",
       "<table border=\"1\" class=\"dataframe\">\n",
       "  <thead>\n",
       "    <tr style=\"text-align: right;\">\n",
       "      <th></th>\n",
       "      <th>user_id</th>\n",
       "      <th>score</th>\n",
       "      <th>city</th>\n",
       "      <th>gender</th>\n",
       "      <th>age</th>\n",
       "      <th>equity</th>\n",
       "      <th>balance</th>\n",
       "      <th>products</th>\n",
       "      <th>credit_card</th>\n",
       "      <th>last_activity</th>\n",
       "      <th>est_salary</th>\n",
       "      <th>churn</th>\n",
       "    </tr>\n",
       "  </thead>\n",
       "  <tbody>\n",
       "    <tr>\n",
       "      <th>0</th>\n",
       "      <td>183012</td>\n",
       "      <td>850.0</td>\n",
       "      <td>Рыбинск</td>\n",
       "      <td>Ж</td>\n",
       "      <td>25.0</td>\n",
       "      <td>1</td>\n",
       "      <td>59214.82</td>\n",
       "      <td>2</td>\n",
       "      <td>0</td>\n",
       "      <td>1</td>\n",
       "      <td>75719.14</td>\n",
       "      <td>1</td>\n",
       "    </tr>\n",
       "    <tr>\n",
       "      <th>1</th>\n",
       "      <td>146556</td>\n",
       "      <td>861.0</td>\n",
       "      <td>Рыбинск</td>\n",
       "      <td>Ж</td>\n",
       "      <td>37.0</td>\n",
       "      <td>5</td>\n",
       "      <td>850594.33</td>\n",
       "      <td>3</td>\n",
       "      <td>1</td>\n",
       "      <td>0</td>\n",
       "      <td>86621.77</td>\n",
       "      <td>0</td>\n",
       "    </tr>\n",
       "  </tbody>\n",
       "</table>\n",
       "</div>"
      ],
      "text/plain": [
       "   user_id  score     city gender   age  equity    balance  products  \\\n",
       "0   183012  850.0  Рыбинск      Ж  25.0       1   59214.82         2   \n",
       "1   146556  861.0  Рыбинск      Ж  37.0       5  850594.33         3   \n",
       "\n",
       "   credit_card  last_activity  est_salary  churn  \n",
       "0            0              1    75719.14      1  \n",
       "1            1              0    86621.77      0  "
      ]
     },
     "execution_count": 12,
     "metadata": {},
     "output_type": "execute_result"
    }
   ],
   "source": [
    "data = data.rename (columns = {'USERID':'user_id', 'EST_SALARY':'est_salary'})\n",
    "data.head(2)"
   ]
  },
  {
   "cell_type": "markdown",
   "metadata": {},
   "source": [
    "В ходе обзора данных было обнаружено, что имеются клиенты с нулевым количеством продуктов."
   ]
  },
  {
   "cell_type": "code",
   "execution_count": 13,
   "metadata": {
    "scrolled": false
   },
   "outputs": [
    {
     "data": {
      "text/html": [
       "<div>\n",
       "<style scoped>\n",
       "    .dataframe tbody tr th:only-of-type {\n",
       "        vertical-align: middle;\n",
       "    }\n",
       "\n",
       "    .dataframe tbody tr th {\n",
       "        vertical-align: top;\n",
       "    }\n",
       "\n",
       "    .dataframe thead th {\n",
       "        text-align: right;\n",
       "    }\n",
       "</style>\n",
       "<table border=\"1\" class=\"dataframe\">\n",
       "  <thead>\n",
       "    <tr style=\"text-align: right;\">\n",
       "      <th></th>\n",
       "      <th>user_id</th>\n",
       "      <th>score</th>\n",
       "      <th>city</th>\n",
       "      <th>gender</th>\n",
       "      <th>age</th>\n",
       "      <th>equity</th>\n",
       "      <th>balance</th>\n",
       "      <th>products</th>\n",
       "      <th>credit_card</th>\n",
       "      <th>last_activity</th>\n",
       "      <th>est_salary</th>\n",
       "      <th>churn</th>\n",
       "    </tr>\n",
       "  </thead>\n",
       "  <tbody>\n",
       "    <tr>\n",
       "      <th>8957</th>\n",
       "      <td>147837</td>\n",
       "      <td>962.0</td>\n",
       "      <td>Рыбинск</td>\n",
       "      <td>Ж</td>\n",
       "      <td>79.0</td>\n",
       "      <td>3</td>\n",
       "      <td>NaN</td>\n",
       "      <td>0</td>\n",
       "      <td>0</td>\n",
       "      <td>0</td>\n",
       "      <td>25063.96</td>\n",
       "      <td>1</td>\n",
       "    </tr>\n",
       "  </tbody>\n",
       "</table>\n",
       "</div>"
      ],
      "text/plain": [
       "      user_id  score     city gender   age  equity  balance  products  \\\n",
       "8957   147837  962.0  Рыбинск      Ж  79.0       3      NaN         0   \n",
       "\n",
       "      credit_card  last_activity  est_salary  churn  \n",
       "8957            0              0    25063.96      1  "
      ]
     },
     "execution_count": 13,
     "metadata": {},
     "output_type": "execute_result"
    }
   ],
   "source": [
    "data.query('products==0')"
   ]
  },
  {
   "cell_type": "markdown",
   "metadata": {},
   "source": [
    "Найден всего, один пользователь, следовательно можно сделать вывод, что это ошибка связанная с человеческим фактором. Заменим количество продуктов, на 1, чтобы не удалять данную строчку."
   ]
  },
  {
   "cell_type": "code",
   "execution_count": 14,
   "metadata": {
    "scrolled": true
   },
   "outputs": [],
   "source": [
    "data.loc[data['products'] == 0, 'products'] = 1"
   ]
  },
  {
   "cell_type": "code",
   "execution_count": 15,
   "metadata": {
    "scrolled": false
   },
   "outputs": [
    {
     "data": {
      "text/plain": [
       "count    10000.000000\n",
       "mean         1.870200\n",
       "std          0.792474\n",
       "min          1.000000\n",
       "25%          1.000000\n",
       "50%          2.000000\n",
       "75%          2.000000\n",
       "max          5.000000\n",
       "Name: products, dtype: float64"
      ]
     },
     "execution_count": 15,
     "metadata": {},
     "output_type": "execute_result"
    }
   ],
   "source": [
    "data['products'].describe()"
   ]
  },
  {
   "cell_type": "markdown",
   "metadata": {},
   "source": [
    "#### Выполним кодирование неупорядоченных категориальных переменных - столбцы `city`, `gender`. Для того, чтобы применять среднее и смотреть корреляции какого-то числового показателя с категориальным неупорядоченными в дальнейших расчетах"
   ]
  },
  {
   "cell_type": "markdown",
   "metadata": {},
   "source": [
    "Создадим копии столбцов `city`, `age`"
   ]
  },
  {
   "cell_type": "code",
   "execution_count": 16,
   "metadata": {
    "scrolled": true
   },
   "outputs": [
    {
     "data": {
      "text/html": [
       "<div>\n",
       "<style scoped>\n",
       "    .dataframe tbody tr th:only-of-type {\n",
       "        vertical-align: middle;\n",
       "    }\n",
       "\n",
       "    .dataframe tbody tr th {\n",
       "        vertical-align: top;\n",
       "    }\n",
       "\n",
       "    .dataframe thead th {\n",
       "        text-align: right;\n",
       "    }\n",
       "</style>\n",
       "<table border=\"1\" class=\"dataframe\">\n",
       "  <thead>\n",
       "    <tr style=\"text-align: right;\">\n",
       "      <th></th>\n",
       "      <th>user_id</th>\n",
       "      <th>score</th>\n",
       "      <th>city</th>\n",
       "      <th>gender</th>\n",
       "      <th>age</th>\n",
       "      <th>equity</th>\n",
       "      <th>balance</th>\n",
       "      <th>products</th>\n",
       "      <th>credit_card</th>\n",
       "      <th>last_activity</th>\n",
       "      <th>est_salary</th>\n",
       "      <th>churn</th>\n",
       "      <th>city_</th>\n",
       "      <th>gender_</th>\n",
       "    </tr>\n",
       "  </thead>\n",
       "  <tbody>\n",
       "    <tr>\n",
       "      <th>0</th>\n",
       "      <td>183012</td>\n",
       "      <td>850.0</td>\n",
       "      <td>Рыбинск</td>\n",
       "      <td>Ж</td>\n",
       "      <td>25.0</td>\n",
       "      <td>1</td>\n",
       "      <td>59214.82</td>\n",
       "      <td>2</td>\n",
       "      <td>0</td>\n",
       "      <td>1</td>\n",
       "      <td>75719.14</td>\n",
       "      <td>1</td>\n",
       "      <td>Рыбинск</td>\n",
       "      <td>Ж</td>\n",
       "    </tr>\n",
       "    <tr>\n",
       "      <th>1</th>\n",
       "      <td>146556</td>\n",
       "      <td>861.0</td>\n",
       "      <td>Рыбинск</td>\n",
       "      <td>Ж</td>\n",
       "      <td>37.0</td>\n",
       "      <td>5</td>\n",
       "      <td>850594.33</td>\n",
       "      <td>3</td>\n",
       "      <td>1</td>\n",
       "      <td>0</td>\n",
       "      <td>86621.77</td>\n",
       "      <td>0</td>\n",
       "      <td>Рыбинск</td>\n",
       "      <td>Ж</td>\n",
       "    </tr>\n",
       "  </tbody>\n",
       "</table>\n",
       "</div>"
      ],
      "text/plain": [
       "   user_id  score     city gender   age  equity    balance  products  \\\n",
       "0   183012  850.0  Рыбинск      Ж  25.0       1   59214.82         2   \n",
       "1   146556  861.0  Рыбинск      Ж  37.0       5  850594.33         3   \n",
       "\n",
       "   credit_card  last_activity  est_salary  churn    city_ gender_  \n",
       "0            0              1    75719.14      1  Рыбинск       Ж  \n",
       "1            1              0    86621.77      0  Рыбинск       Ж  "
      ]
     },
     "execution_count": 16,
     "metadata": {},
     "output_type": "execute_result"
    }
   ],
   "source": [
    "data['city_'] = data['city']\n",
    "data['gender_'] = data['gender']\n",
    "data.head(2)"
   ]
  },
  {
   "cell_type": "markdown",
   "metadata": {},
   "source": [
    "Выполним кодирование в новых столбцах"
   ]
  },
  {
   "cell_type": "code",
   "execution_count": 17,
   "metadata": {},
   "outputs": [],
   "source": [
    "data = pd.get_dummies(data, columns = ['city_', 'gender_'])"
   ]
  },
  {
   "cell_type": "code",
   "execution_count": 18,
   "metadata": {},
   "outputs": [],
   "source": [
    "data = data.rename (columns = ({'city__Ростов':'Rostov', 'city__Рыбинск':'Rybinsk',\n",
    "                                'city__Ярославль':'Yaroslavl', \n",
    "                                'gender__Ж':'female', 'gender__М':'male'}))"
   ]
  },
  {
   "cell_type": "code",
   "execution_count": 19,
   "metadata": {
    "scrolled": true
   },
   "outputs": [
    {
     "data": {
      "text/html": [
       "<div>\n",
       "<style scoped>\n",
       "    .dataframe tbody tr th:only-of-type {\n",
       "        vertical-align: middle;\n",
       "    }\n",
       "\n",
       "    .dataframe tbody tr th {\n",
       "        vertical-align: top;\n",
       "    }\n",
       "\n",
       "    .dataframe thead th {\n",
       "        text-align: right;\n",
       "    }\n",
       "</style>\n",
       "<table border=\"1\" class=\"dataframe\">\n",
       "  <thead>\n",
       "    <tr style=\"text-align: right;\">\n",
       "      <th></th>\n",
       "      <th>user_id</th>\n",
       "      <th>score</th>\n",
       "      <th>city</th>\n",
       "      <th>gender</th>\n",
       "      <th>age</th>\n",
       "      <th>equity</th>\n",
       "      <th>balance</th>\n",
       "      <th>products</th>\n",
       "      <th>credit_card</th>\n",
       "      <th>last_activity</th>\n",
       "      <th>est_salary</th>\n",
       "      <th>churn</th>\n",
       "      <th>Rostov</th>\n",
       "      <th>Rybinsk</th>\n",
       "      <th>Yaroslavl</th>\n",
       "      <th>female</th>\n",
       "      <th>male</th>\n",
       "    </tr>\n",
       "  </thead>\n",
       "  <tbody>\n",
       "    <tr>\n",
       "      <th>0</th>\n",
       "      <td>183012</td>\n",
       "      <td>850.0</td>\n",
       "      <td>Рыбинск</td>\n",
       "      <td>Ж</td>\n",
       "      <td>25.0</td>\n",
       "      <td>1</td>\n",
       "      <td>59214.82</td>\n",
       "      <td>2</td>\n",
       "      <td>0</td>\n",
       "      <td>1</td>\n",
       "      <td>75719.14</td>\n",
       "      <td>1</td>\n",
       "      <td>0</td>\n",
       "      <td>1</td>\n",
       "      <td>0</td>\n",
       "      <td>1</td>\n",
       "      <td>0</td>\n",
       "    </tr>\n",
       "    <tr>\n",
       "      <th>1</th>\n",
       "      <td>146556</td>\n",
       "      <td>861.0</td>\n",
       "      <td>Рыбинск</td>\n",
       "      <td>Ж</td>\n",
       "      <td>37.0</td>\n",
       "      <td>5</td>\n",
       "      <td>850594.33</td>\n",
       "      <td>3</td>\n",
       "      <td>1</td>\n",
       "      <td>0</td>\n",
       "      <td>86621.77</td>\n",
       "      <td>0</td>\n",
       "      <td>0</td>\n",
       "      <td>1</td>\n",
       "      <td>0</td>\n",
       "      <td>1</td>\n",
       "      <td>0</td>\n",
       "    </tr>\n",
       "  </tbody>\n",
       "</table>\n",
       "</div>"
      ],
      "text/plain": [
       "   user_id  score     city gender   age  equity    balance  products  \\\n",
       "0   183012  850.0  Рыбинск      Ж  25.0       1   59214.82         2   \n",
       "1   146556  861.0  Рыбинск      Ж  37.0       5  850594.33         3   \n",
       "\n",
       "   credit_card  last_activity  est_salary  churn  Rostov  Rybinsk  Yaroslavl  \\\n",
       "0            0              1    75719.14      1       0        1          0   \n",
       "1            1              0    86621.77      0       0        1          0   \n",
       "\n",
       "   female  male  \n",
       "0       1     0  \n",
       "1       1     0  "
      ]
     },
     "execution_count": 19,
     "metadata": {},
     "output_type": "execute_result"
    }
   ],
   "source": [
    "data.head(2)"
   ]
  },
  {
   "cell_type": "markdown",
   "metadata": {},
   "source": [
    "#### Создадим столбецы с признаком (1 или 0) в зависимости от наличия пропусков в столбецах `balance` и `age`"
   ]
  },
  {
   "cell_type": "code",
   "execution_count": 20,
   "metadata": {},
   "outputs": [],
   "source": [
    "data['balance_null'] = data['balance']\n",
    "data['balance_null'] = np.where(data['balance'].isna(), 1, 0)"
   ]
  },
  {
   "cell_type": "code",
   "execution_count": 21,
   "metadata": {},
   "outputs": [],
   "source": [
    "data['age_null'] = data['age']\n",
    "data['age_null'] = np.where(data['age'].isna(), 1, 0)"
   ]
  },
  {
   "cell_type": "code",
   "execution_count": 22,
   "metadata": {
    "scrolled": true
   },
   "outputs": [
    {
     "data": {
      "text/html": [
       "<div>\n",
       "<style scoped>\n",
       "    .dataframe tbody tr th:only-of-type {\n",
       "        vertical-align: middle;\n",
       "    }\n",
       "\n",
       "    .dataframe tbody tr th {\n",
       "        vertical-align: top;\n",
       "    }\n",
       "\n",
       "    .dataframe thead th {\n",
       "        text-align: right;\n",
       "    }\n",
       "</style>\n",
       "<table border=\"1\" class=\"dataframe\">\n",
       "  <thead>\n",
       "    <tr style=\"text-align: right;\">\n",
       "      <th></th>\n",
       "      <th>user_id</th>\n",
       "      <th>score</th>\n",
       "      <th>city</th>\n",
       "      <th>gender</th>\n",
       "      <th>age</th>\n",
       "      <th>equity</th>\n",
       "      <th>balance</th>\n",
       "      <th>products</th>\n",
       "      <th>credit_card</th>\n",
       "      <th>last_activity</th>\n",
       "      <th>est_salary</th>\n",
       "      <th>churn</th>\n",
       "      <th>Rostov</th>\n",
       "      <th>Rybinsk</th>\n",
       "      <th>Yaroslavl</th>\n",
       "      <th>female</th>\n",
       "      <th>male</th>\n",
       "      <th>balance_null</th>\n",
       "      <th>age_null</th>\n",
       "    </tr>\n",
       "  </thead>\n",
       "  <tbody>\n",
       "    <tr>\n",
       "      <th>0</th>\n",
       "      <td>183012</td>\n",
       "      <td>850.0</td>\n",
       "      <td>Рыбинск</td>\n",
       "      <td>Ж</td>\n",
       "      <td>25.0</td>\n",
       "      <td>1</td>\n",
       "      <td>59214.82</td>\n",
       "      <td>2</td>\n",
       "      <td>0</td>\n",
       "      <td>1</td>\n",
       "      <td>75719.14</td>\n",
       "      <td>1</td>\n",
       "      <td>0</td>\n",
       "      <td>1</td>\n",
       "      <td>0</td>\n",
       "      <td>1</td>\n",
       "      <td>0</td>\n",
       "      <td>0</td>\n",
       "      <td>0</td>\n",
       "    </tr>\n",
       "    <tr>\n",
       "      <th>1</th>\n",
       "      <td>146556</td>\n",
       "      <td>861.0</td>\n",
       "      <td>Рыбинск</td>\n",
       "      <td>Ж</td>\n",
       "      <td>37.0</td>\n",
       "      <td>5</td>\n",
       "      <td>850594.33</td>\n",
       "      <td>3</td>\n",
       "      <td>1</td>\n",
       "      <td>0</td>\n",
       "      <td>86621.77</td>\n",
       "      <td>0</td>\n",
       "      <td>0</td>\n",
       "      <td>1</td>\n",
       "      <td>0</td>\n",
       "      <td>1</td>\n",
       "      <td>0</td>\n",
       "      <td>0</td>\n",
       "      <td>0</td>\n",
       "    </tr>\n",
       "    <tr>\n",
       "      <th>2</th>\n",
       "      <td>120722</td>\n",
       "      <td>892.0</td>\n",
       "      <td>Рыбинск</td>\n",
       "      <td>Ж</td>\n",
       "      <td>30.0</td>\n",
       "      <td>0</td>\n",
       "      <td>NaN</td>\n",
       "      <td>1</td>\n",
       "      <td>1</td>\n",
       "      <td>1</td>\n",
       "      <td>107683.34</td>\n",
       "      <td>0</td>\n",
       "      <td>0</td>\n",
       "      <td>1</td>\n",
       "      <td>0</td>\n",
       "      <td>1</td>\n",
       "      <td>0</td>\n",
       "      <td>1</td>\n",
       "      <td>0</td>\n",
       "    </tr>\n",
       "    <tr>\n",
       "      <th>3</th>\n",
       "      <td>225363</td>\n",
       "      <td>866.0</td>\n",
       "      <td>Ярославль</td>\n",
       "      <td>Ж</td>\n",
       "      <td>51.0</td>\n",
       "      <td>5</td>\n",
       "      <td>1524746.26</td>\n",
       "      <td>2</td>\n",
       "      <td>0</td>\n",
       "      <td>1</td>\n",
       "      <td>174423.53</td>\n",
       "      <td>1</td>\n",
       "      <td>0</td>\n",
       "      <td>0</td>\n",
       "      <td>1</td>\n",
       "      <td>1</td>\n",
       "      <td>0</td>\n",
       "      <td>0</td>\n",
       "      <td>0</td>\n",
       "    </tr>\n",
       "    <tr>\n",
       "      <th>4</th>\n",
       "      <td>157978</td>\n",
       "      <td>730.0</td>\n",
       "      <td>Ярославль</td>\n",
       "      <td>М</td>\n",
       "      <td>34.0</td>\n",
       "      <td>5</td>\n",
       "      <td>174.00</td>\n",
       "      <td>1</td>\n",
       "      <td>1</td>\n",
       "      <td>0</td>\n",
       "      <td>67353.16</td>\n",
       "      <td>1</td>\n",
       "      <td>0</td>\n",
       "      <td>0</td>\n",
       "      <td>1</td>\n",
       "      <td>0</td>\n",
       "      <td>1</td>\n",
       "      <td>0</td>\n",
       "      <td>0</td>\n",
       "    </tr>\n",
       "  </tbody>\n",
       "</table>\n",
       "</div>"
      ],
      "text/plain": [
       "   user_id  score       city gender   age  equity     balance  products  \\\n",
       "0   183012  850.0    Рыбинск      Ж  25.0       1    59214.82         2   \n",
       "1   146556  861.0    Рыбинск      Ж  37.0       5   850594.33         3   \n",
       "2   120722  892.0    Рыбинск      Ж  30.0       0         NaN         1   \n",
       "3   225363  866.0  Ярославль      Ж  51.0       5  1524746.26         2   \n",
       "4   157978  730.0  Ярославль      М  34.0       5      174.00         1   \n",
       "\n",
       "   credit_card  last_activity  est_salary  churn  Rostov  Rybinsk  Yaroslavl  \\\n",
       "0            0              1    75719.14      1       0        1          0   \n",
       "1            1              0    86621.77      0       0        1          0   \n",
       "2            1              1   107683.34      0       0        1          0   \n",
       "3            0              1   174423.53      1       0        0          1   \n",
       "4            1              0    67353.16      1       0        0          1   \n",
       "\n",
       "   female  male  balance_null  age_null  \n",
       "0       1     0             0         0  \n",
       "1       1     0             0         0  \n",
       "2       1     0             1         0  \n",
       "3       1     0             0         0  \n",
       "4       0     1             0         0  "
      ]
     },
     "execution_count": 22,
     "metadata": {},
     "output_type": "execute_result"
    }
   ],
   "source": [
    "data.head()"
   ]
  },
  {
   "cell_type": "markdown",
   "metadata": {},
   "source": [
    "Посчитаем корреляцию `balance_null` и `age_null` с другими имеющимися признаками"
   ]
  },
  {
   "cell_type": "code",
   "execution_count": 23,
   "metadata": {
    "scrolled": false
   },
   "outputs": [
    {
     "data": {
      "text/plain": [
       "equity          -0.71\n",
       "products        -0.49\n",
       "churn           -0.25\n",
       "female          -0.06\n",
       "Rostov          -0.06\n",
       "age             -0.03\n",
       "Rybinsk         -0.01\n",
       "last_activity    0.03\n",
       "age_null         0.05\n",
       "Yaroslavl        0.06\n",
       "male             0.06\n",
       "score            0.14\n",
       "credit_card      0.16\n",
       "est_salary       0.31\n",
       "balance_null     1.00\n",
       "balance           NaN\n",
       "dtype: float64"
      ]
     },
     "execution_count": 23,
     "metadata": {},
     "output_type": "execute_result"
    }
   ],
   "source": [
    "data.drop('user_id',axis=1).corrwith(data['balance_null']).sort_values(ascending=True).round(2)"
   ]
  },
  {
   "cell_type": "code",
   "execution_count": 24,
   "metadata": {
    "scrolled": true
   },
   "outputs": [
    {
     "data": {
      "text/plain": [
       "products        -0.03\n",
       "equity          -0.03\n",
       "churn           -0.02\n",
       "Rostov          -0.02\n",
       "Yaroslavl       -0.01\n",
       "female          -0.00\n",
       "male             0.00\n",
       "score            0.01\n",
       "balance          0.01\n",
       "credit_card      0.01\n",
       "est_salary       0.01\n",
       "Rybinsk          0.02\n",
       "last_activity    0.03\n",
       "balance_null     0.05\n",
       "age_null         1.00\n",
       "age               NaN\n",
       "dtype: float64"
      ]
     },
     "execution_count": 24,
     "metadata": {},
     "output_type": "execute_result"
    }
   ],
   "source": [
    "data.drop('user_id',axis=1).corrwith(data['age_null']).sort_values(ascending=True).round(2)"
   ]
  },
  {
   "cell_type": "markdown",
   "metadata": {},
   "source": [
    "Шкала Чеддока используется для оценки силы связи в теории корреляции  \n",
    "\n",
    "Градации шкалы: (отрицательные значения - обратная связь)\n",
    "* слабая — от 0,1 до 0,3; \n",
    "* умеренная — от 0,3 до 0,5; \n",
    "* заметная — от 0,5 до 0,7; \n",
    "* высокая — от 0,7 до 0,9; \n",
    "* весьма высокая (сильная) — от 0,9 до 1,0."
   ]
  },
  {
   "cell_type": "markdown",
   "metadata": {},
   "source": [
    "Имеются множественные зависимости прямой и обратной связи показаний баланса с другими признаками, то есть мы не можем по какому-то конкретно признаку заполнить пропуски в столбце `balance`.  \n",
    "\n",
    "Следовательно пропуски в столбце `balance` относятся к категории *MNAR (Missing Not At Random / Отсутствует не случайно)*"
   ]
  },
  {
   "cell_type": "markdown",
   "metadata": {},
   "source": [
    "Для возраста `age` связь отсутсвует с другими признаками. В виду малого количества пропусков, заполним их медианным значением и изменим тип данных на `int`.  \n",
    "\n",
    "Пропуски в столбце `age` относятся к категории *MCAR (Missing Completely At Random / Отсутствует совершенно случайно)*"
   ]
  },
  {
   "cell_type": "code",
   "execution_count": 25,
   "metadata": {},
   "outputs": [],
   "source": [
    "data['age'] = data['age'].fillna(data['age'].median())"
   ]
  },
  {
   "cell_type": "code",
   "execution_count": 26,
   "metadata": {
    "scrolled": true
   },
   "outputs": [
    {
     "data": {
      "text/plain": [
       "0"
      ]
     },
     "execution_count": 26,
     "metadata": {},
     "output_type": "execute_result"
    }
   ],
   "source": [
    "data['age'].isna().sum()"
   ]
  },
  {
   "cell_type": "code",
   "execution_count": 27,
   "metadata": {},
   "outputs": [],
   "source": [
    "data['age'] = data['age'].astype('int')"
   ]
  },
  {
   "cell_type": "code",
   "execution_count": 28,
   "metadata": {},
   "outputs": [
    {
     "name": "stdout",
     "output_type": "stream",
     "text": [
      "<class 'pandas.core.frame.DataFrame'>\n",
      "RangeIndex: 10000 entries, 0 to 9999\n",
      "Data columns (total 19 columns):\n",
      " #   Column         Non-Null Count  Dtype  \n",
      "---  ------         --------------  -----  \n",
      " 0   user_id        10000 non-null  int64  \n",
      " 1   score          10000 non-null  float64\n",
      " 2   city           10000 non-null  object \n",
      " 3   gender         10000 non-null  object \n",
      " 4   age            10000 non-null  int64  \n",
      " 5   equity         10000 non-null  int64  \n",
      " 6   balance        7705 non-null   float64\n",
      " 7   products       10000 non-null  int64  \n",
      " 8   credit_card    10000 non-null  int64  \n",
      " 9   last_activity  10000 non-null  int64  \n",
      " 10  est_salary     10000 non-null  float64\n",
      " 11  churn          10000 non-null  int64  \n",
      " 12  Rostov         10000 non-null  uint8  \n",
      " 13  Rybinsk        10000 non-null  uint8  \n",
      " 14  Yaroslavl      10000 non-null  uint8  \n",
      " 15  female         10000 non-null  uint8  \n",
      " 16  male           10000 non-null  uint8  \n",
      " 17  balance_null   10000 non-null  int64  \n",
      " 18  age_null       10000 non-null  int64  \n",
      "dtypes: float64(3), int64(9), object(2), uint8(5)\n",
      "memory usage: 1.1+ MB\n"
     ]
    }
   ],
   "source": [
    "data.info()"
   ]
  },
  {
   "cell_type": "markdown",
   "metadata": {},
   "source": [
    "#### Рассмотрим неявные дубликаты в данных"
   ]
  },
  {
   "cell_type": "markdown",
   "metadata": {},
   "source": [
    "Всего выявлено 73 дубликата по `user_id`. Чтобы определить разные это пользователи или одни и теже проверим дубликаты по айди,возрасту,полу и городу в различных сочетаниях (`user_id`,`age`,`gender`,`city`)"
   ]
  },
  {
   "cell_type": "code",
   "execution_count": 29,
   "metadata": {
    "scrolled": true
   },
   "outputs": [
    {
     "data": {
      "text/plain": [
       "0"
      ]
     },
     "execution_count": 29,
     "metadata": {},
     "output_type": "execute_result"
    }
   ],
   "source": [
    "data.duplicated(['user_id', 'age','gender','city']).sum()"
   ]
  },
  {
   "cell_type": "code",
   "execution_count": 30,
   "metadata": {},
   "outputs": [
    {
     "data": {
      "text/plain": [
       "0"
      ]
     },
     "execution_count": 30,
     "metadata": {},
     "output_type": "execute_result"
    }
   ],
   "source": [
    "data.duplicated(['user_id', 'age','city']).sum()"
   ]
  },
  {
   "cell_type": "code",
   "execution_count": 31,
   "metadata": {},
   "outputs": [
    {
     "data": {
      "text/plain": [
       "0"
      ]
     },
     "execution_count": 31,
     "metadata": {},
     "output_type": "execute_result"
    }
   ],
   "source": [
    "data.duplicated(['user_id','gender','city']).sum()"
   ]
  },
  {
   "cell_type": "code",
   "execution_count": 32,
   "metadata": {},
   "outputs": [
    {
     "data": {
      "text/plain": [
       "3"
      ]
     },
     "execution_count": 32,
     "metadata": {},
     "output_type": "execute_result"
    }
   ],
   "source": [
    "data.duplicated(['user_id', 'age','gender']).sum()"
   ]
  },
  {
   "cell_type": "code",
   "execution_count": 33,
   "metadata": {},
   "outputs": [
    {
     "data": {
      "text/html": [
       "<div>\n",
       "<style scoped>\n",
       "    .dataframe tbody tr th:only-of-type {\n",
       "        vertical-align: middle;\n",
       "    }\n",
       "\n",
       "    .dataframe tbody tr th {\n",
       "        vertical-align: top;\n",
       "    }\n",
       "\n",
       "    .dataframe thead th {\n",
       "        text-align: right;\n",
       "    }\n",
       "</style>\n",
       "<table border=\"1\" class=\"dataframe\">\n",
       "  <thead>\n",
       "    <tr style=\"text-align: right;\">\n",
       "      <th></th>\n",
       "      <th>user_id</th>\n",
       "      <th>score</th>\n",
       "      <th>city</th>\n",
       "      <th>gender</th>\n",
       "      <th>age</th>\n",
       "      <th>equity</th>\n",
       "      <th>balance</th>\n",
       "      <th>products</th>\n",
       "      <th>credit_card</th>\n",
       "      <th>last_activity</th>\n",
       "      <th>est_salary</th>\n",
       "      <th>churn</th>\n",
       "      <th>Rostov</th>\n",
       "      <th>Rybinsk</th>\n",
       "      <th>Yaroslavl</th>\n",
       "      <th>female</th>\n",
       "      <th>male</th>\n",
       "      <th>balance_null</th>\n",
       "      <th>age_null</th>\n",
       "    </tr>\n",
       "  </thead>\n",
       "  <tbody>\n",
       "    <tr>\n",
       "      <th>3274</th>\n",
       "      <td>155765</td>\n",
       "      <td>863.0</td>\n",
       "      <td>Ярославль</td>\n",
       "      <td>М</td>\n",
       "      <td>30</td>\n",
       "      <td>5</td>\n",
       "      <td>1036114.50</td>\n",
       "      <td>5</td>\n",
       "      <td>1</td>\n",
       "      <td>1</td>\n",
       "      <td>150744.50</td>\n",
       "      <td>1</td>\n",
       "      <td>0</td>\n",
       "      <td>0</td>\n",
       "      <td>1</td>\n",
       "      <td>0</td>\n",
       "      <td>1</td>\n",
       "      <td>0</td>\n",
       "      <td>0</td>\n",
       "    </tr>\n",
       "    <tr>\n",
       "      <th>3668</th>\n",
       "      <td>185829</td>\n",
       "      <td>925.0</td>\n",
       "      <td>Рыбинск</td>\n",
       "      <td>М</td>\n",
       "      <td>40</td>\n",
       "      <td>0</td>\n",
       "      <td>NaN</td>\n",
       "      <td>1</td>\n",
       "      <td>1</td>\n",
       "      <td>0</td>\n",
       "      <td>228305.64</td>\n",
       "      <td>0</td>\n",
       "      <td>0</td>\n",
       "      <td>1</td>\n",
       "      <td>0</td>\n",
       "      <td>0</td>\n",
       "      <td>1</td>\n",
       "      <td>1</td>\n",
       "      <td>0</td>\n",
       "    </tr>\n",
       "    <tr>\n",
       "      <th>5197</th>\n",
       "      <td>155765</td>\n",
       "      <td>923.0</td>\n",
       "      <td>Рыбинск</td>\n",
       "      <td>М</td>\n",
       "      <td>30</td>\n",
       "      <td>0</td>\n",
       "      <td>NaN</td>\n",
       "      <td>1</td>\n",
       "      <td>1</td>\n",
       "      <td>1</td>\n",
       "      <td>120296.60</td>\n",
       "      <td>0</td>\n",
       "      <td>0</td>\n",
       "      <td>1</td>\n",
       "      <td>0</td>\n",
       "      <td>0</td>\n",
       "      <td>1</td>\n",
       "      <td>1</td>\n",
       "      <td>0</td>\n",
       "    </tr>\n",
       "    <tr>\n",
       "      <th>8205</th>\n",
       "      <td>227795</td>\n",
       "      <td>840.0</td>\n",
       "      <td>Рыбинск</td>\n",
       "      <td>М</td>\n",
       "      <td>34</td>\n",
       "      <td>2</td>\n",
       "      <td>350768.03</td>\n",
       "      <td>1</td>\n",
       "      <td>1</td>\n",
       "      <td>0</td>\n",
       "      <td>102036.14</td>\n",
       "      <td>1</td>\n",
       "      <td>0</td>\n",
       "      <td>1</td>\n",
       "      <td>0</td>\n",
       "      <td>0</td>\n",
       "      <td>1</td>\n",
       "      <td>0</td>\n",
       "      <td>0</td>\n",
       "    </tr>\n",
       "    <tr>\n",
       "      <th>8497</th>\n",
       "      <td>227795</td>\n",
       "      <td>839.0</td>\n",
       "      <td>Ярославль</td>\n",
       "      <td>М</td>\n",
       "      <td>34</td>\n",
       "      <td>2</td>\n",
       "      <td>326593.14</td>\n",
       "      <td>2</td>\n",
       "      <td>1</td>\n",
       "      <td>0</td>\n",
       "      <td>103314.92</td>\n",
       "      <td>0</td>\n",
       "      <td>0</td>\n",
       "      <td>0</td>\n",
       "      <td>1</td>\n",
       "      <td>0</td>\n",
       "      <td>1</td>\n",
       "      <td>0</td>\n",
       "      <td>0</td>\n",
       "    </tr>\n",
       "    <tr>\n",
       "      <th>9632</th>\n",
       "      <td>185829</td>\n",
       "      <td>927.0</td>\n",
       "      <td>Ярославль</td>\n",
       "      <td>М</td>\n",
       "      <td>40</td>\n",
       "      <td>0</td>\n",
       "      <td>NaN</td>\n",
       "      <td>1</td>\n",
       "      <td>1</td>\n",
       "      <td>0</td>\n",
       "      <td>231254.86</td>\n",
       "      <td>0</td>\n",
       "      <td>0</td>\n",
       "      <td>0</td>\n",
       "      <td>1</td>\n",
       "      <td>0</td>\n",
       "      <td>1</td>\n",
       "      <td>1</td>\n",
       "      <td>1</td>\n",
       "    </tr>\n",
       "  </tbody>\n",
       "</table>\n",
       "</div>"
      ],
      "text/plain": [
       "      user_id  score       city gender  age  equity     balance  products  \\\n",
       "3274   155765  863.0  Ярославль      М   30       5  1036114.50         5   \n",
       "3668   185829  925.0    Рыбинск      М   40       0         NaN         1   \n",
       "5197   155765  923.0    Рыбинск      М   30       0         NaN         1   \n",
       "8205   227795  840.0    Рыбинск      М   34       2   350768.03         1   \n",
       "8497   227795  839.0  Ярославль      М   34       2   326593.14         2   \n",
       "9632   185829  927.0  Ярославль      М   40       0         NaN         1   \n",
       "\n",
       "      credit_card  last_activity  est_salary  churn  Rostov  Rybinsk  \\\n",
       "3274            1              1   150744.50      1       0        0   \n",
       "3668            1              0   228305.64      0       0        1   \n",
       "5197            1              1   120296.60      0       0        1   \n",
       "8205            1              0   102036.14      1       0        1   \n",
       "8497            1              0   103314.92      0       0        0   \n",
       "9632            1              0   231254.86      0       0        0   \n",
       "\n",
       "      Yaroslavl  female  male  balance_null  age_null  \n",
       "3274          1       0     1             0         0  \n",
       "3668          0       0     1             1         0  \n",
       "5197          0       0     1             1         0  \n",
       "8205          0       0     1             0         0  \n",
       "8497          1       0     1             0         0  \n",
       "9632          1       0     1             1         1  "
      ]
     },
     "execution_count": 33,
     "metadata": {},
     "output_type": "execute_result"
    }
   ],
   "source": [
    "data[data.duplicated(['user_id','gender', 'age'], keep = False)]"
   ]
  },
  {
   "cell_type": "markdown",
   "metadata": {},
   "source": [
    "Как можно увидеть из полученных результатов, пользователи с дублирующимся айди, полом и возрастом, это клиенты с одним айди в разных городах. Это либо ошибка выгрузки или синхронизации общией базы банка по всем филиалам. Как следствие, данные неявные дубликаты отбрасывать нельзя"
   ]
  },
  {
   "cell_type": "markdown",
   "metadata": {},
   "source": [
    "Проверим отсутсвие ошибок в столбцах с категориальными и логическими (0,1) значениями"
   ]
  },
  {
   "cell_type": "code",
   "execution_count": 34,
   "metadata": {},
   "outputs": [
    {
     "data": {
      "text/plain": [
       "array(['Рыбинск', 'Ярославль', 'Ростов'], dtype=object)"
      ]
     },
     "execution_count": 34,
     "metadata": {},
     "output_type": "execute_result"
    }
   ],
   "source": [
    "data['city'].unique()"
   ]
  },
  {
   "cell_type": "code",
   "execution_count": 35,
   "metadata": {},
   "outputs": [
    {
     "data": {
      "text/plain": [
       "array(['Ж', 'М'], dtype=object)"
      ]
     },
     "execution_count": 35,
     "metadata": {},
     "output_type": "execute_result"
    }
   ],
   "source": [
    "data['gender'].unique()"
   ]
  },
  {
   "cell_type": "code",
   "execution_count": 36,
   "metadata": {},
   "outputs": [
    {
     "data": {
      "text/plain": [
       "array([0, 1])"
      ]
     },
     "execution_count": 36,
     "metadata": {},
     "output_type": "execute_result"
    }
   ],
   "source": [
    "data['credit_card'].unique()"
   ]
  },
  {
   "cell_type": "code",
   "execution_count": 37,
   "metadata": {},
   "outputs": [
    {
     "data": {
      "text/plain": [
       "array([1, 0])"
      ]
     },
     "execution_count": 37,
     "metadata": {},
     "output_type": "execute_result"
    }
   ],
   "source": [
    "data['last_activity'].unique()"
   ]
  },
  {
   "cell_type": "code",
   "execution_count": 38,
   "metadata": {},
   "outputs": [
    {
     "data": {
      "text/plain": [
       "array([1, 0])"
      ]
     },
     "execution_count": 38,
     "metadata": {},
     "output_type": "execute_result"
    }
   ],
   "source": [
    "data['churn'].unique()"
   ]
  },
  {
   "cell_type": "markdown",
   "metadata": {},
   "source": [
    "В результате анализа неявных дубликатов, последние не были обнаружены. Удалим столбец `user_id`, так как для дальнейшего анализа он не нужен, чтобы не утяжелять выводимые таблицы и графики."
   ]
  },
  {
   "cell_type": "code",
   "execution_count": 39,
   "metadata": {},
   "outputs": [],
   "source": [
    "data = data.drop('user_id', axis=1)"
   ]
  },
  {
   "cell_type": "code",
   "execution_count": 40,
   "metadata": {
    "scrolled": true
   },
   "outputs": [
    {
     "data": {
      "text/html": [
       "<div>\n",
       "<style scoped>\n",
       "    .dataframe tbody tr th:only-of-type {\n",
       "        vertical-align: middle;\n",
       "    }\n",
       "\n",
       "    .dataframe tbody tr th {\n",
       "        vertical-align: top;\n",
       "    }\n",
       "\n",
       "    .dataframe thead th {\n",
       "        text-align: right;\n",
       "    }\n",
       "</style>\n",
       "<table border=\"1\" class=\"dataframe\">\n",
       "  <thead>\n",
       "    <tr style=\"text-align: right;\">\n",
       "      <th></th>\n",
       "      <th>score</th>\n",
       "      <th>city</th>\n",
       "      <th>gender</th>\n",
       "      <th>age</th>\n",
       "      <th>equity</th>\n",
       "      <th>balance</th>\n",
       "      <th>products</th>\n",
       "      <th>credit_card</th>\n",
       "      <th>last_activity</th>\n",
       "      <th>est_salary</th>\n",
       "      <th>churn</th>\n",
       "      <th>Rostov</th>\n",
       "      <th>Rybinsk</th>\n",
       "      <th>Yaroslavl</th>\n",
       "      <th>female</th>\n",
       "      <th>male</th>\n",
       "      <th>balance_null</th>\n",
       "      <th>age_null</th>\n",
       "    </tr>\n",
       "  </thead>\n",
       "  <tbody>\n",
       "    <tr>\n",
       "      <th>0</th>\n",
       "      <td>850.0</td>\n",
       "      <td>Рыбинск</td>\n",
       "      <td>Ж</td>\n",
       "      <td>25</td>\n",
       "      <td>1</td>\n",
       "      <td>59214.82</td>\n",
       "      <td>2</td>\n",
       "      <td>0</td>\n",
       "      <td>1</td>\n",
       "      <td>75719.14</td>\n",
       "      <td>1</td>\n",
       "      <td>0</td>\n",
       "      <td>1</td>\n",
       "      <td>0</td>\n",
       "      <td>1</td>\n",
       "      <td>0</td>\n",
       "      <td>0</td>\n",
       "      <td>0</td>\n",
       "    </tr>\n",
       "  </tbody>\n",
       "</table>\n",
       "</div>"
      ],
      "text/plain": [
       "   score     city gender  age  equity   balance  products  credit_card  \\\n",
       "0  850.0  Рыбинск      Ж   25       1  59214.82         2            0   \n",
       "\n",
       "   last_activity  est_salary  churn  Rostov  Rybinsk  Yaroslavl  female  male  \\\n",
       "0              1    75719.14      1       0        1          0       1     0   \n",
       "\n",
       "   balance_null  age_null  \n",
       "0             0         0  "
      ]
     },
     "execution_count": 40,
     "metadata": {},
     "output_type": "execute_result"
    }
   ],
   "source": [
    "data.head(1)"
   ]
  },
  {
   "cell_type": "markdown",
   "metadata": {},
   "source": [
    "**Выводы**  \n",
    "- были откорректированы названия столбцов\n",
    "- в строке с нулевым количеством продуктов установили количество продуктов в значении 1\n",
    "- был выполнен корреляционный анализ столбцов с пропусками `age`, `balance`. В ходе которого было выявлены множественные связи для столбца `balance` и отсутсвие связей с другими признаками для столбца `age`. На основе полученных данных было принято решение о замене пропусков медианным значением в столбце `age` и изменен тип данных в этом столбце на `int`. А для столбца `balance` оставить пропуски без изменений\n",
    "- было выполнено кодирование неупорядоченных категориальных столбцов  `gender`, `city` для выполнения дальнейшего анализа\n",
    "- неявные дубликаты не обнаружены, то есть все повторяющиеся значения `user_id` это разные люди\n",
    "- после анализа неявных дубликатов был удален столбец `user_id` (по рекоммендации ментора)"
   ]
  },
  {
   "cell_type": "markdown",
   "metadata": {},
   "source": [
    "### Разведочный анализ данных"
   ]
  },
  {
   "cell_type": "markdown",
   "metadata": {},
   "source": [
    "#### Анализ распределения признаков в разрезе оттока"
   ]
  },
  {
   "cell_type": "markdown",
   "metadata": {},
   "source": [
    "Построим распределения признаков в разрезе оттока   \n",
    "(для непрерывных величин - ищем отточные интервалы, для категориальных/дискретных - ищем значения признака с оттоком выше, чем по банку)"
   ]
  },
  {
   "cell_type": "code",
   "execution_count": 41,
   "metadata": {},
   "outputs": [],
   "source": [
    "sns.set_style(\"whitegrid\", {\"grid.color\":\"0.5\", \"grid.linestyle\":\":\"})\n",
    "sns.set_palette('dark')"
   ]
  },
  {
   "cell_type": "code",
   "execution_count": 42,
   "metadata": {},
   "outputs": [
    {
     "data": {
      "image/png": "[encoded data removed]",
      "text/plain": [
       "<Figure size 720x360 with 1 Axes>"
      ]
     },
     "metadata": {
      "needs_background": "light"
     },
     "output_type": "display_data"
    }
   ],
   "source": [
    "plt.figure(figsize=(10,5))\n",
    "sns.histplot(data= data, x=data['score'], hue=data['churn'], binwidth=10, stat='density', common_norm=False);\n",
    "plt.title('Распределение признака `score` в разрезе оттока')\n",
    "plt.xlabel('Баллы кредитного скоринга')\n",
    "plt.show()"
   ]
  },
  {
   "cell_type": "markdown",
   "metadata": {},
   "source": [
    "Диапазон превышения численности отточных клиентов 810-940 баллов кредитного скоринга"
   ]
  },
  {
   "cell_type": "code",
   "execution_count": 43,
   "metadata": {
    "scrolled": true
   },
   "outputs": [
    {
     "data": {
      "image/png": "[encoded data removed]",
      "text/plain": [
       "<Figure size 720x360 with 1 Axes>"
      ]
     },
     "metadata": {
      "needs_background": "light"
     },
     "output_type": "display_data"
    }
   ],
   "source": [
    "plt.figure(figsize=(10,5))\n",
    "sns.histplot(data= data, x=data['balance'], hue=data['churn'],binwidth=30000, stat='density', common_norm=False);\n",
    "plt.title('Распределение признака `balance` в разрезе оттока')\n",
    "plt.xlabel('Баланс на счете')\n",
    "plt.xlim(right=3e6, left=0)\n",
    "plt.show()"
   ]
  },
  {
   "cell_type": "markdown",
   "metadata": {},
   "source": [
    "Диапазон превышения численности отточных клиентов начинается от 750 тыс рублей на балансе и усиливатся при балансе от 1млн рублей"
   ]
  },
  {
   "cell_type": "code",
   "execution_count": 44,
   "metadata": {
    "scrolled": true
   },
   "outputs": [
    {
     "data": {
      "image/png": "[encoded data removed]",
      "text/plain": [
       "<Figure size 720x360 with 1 Axes>"
      ]
     },
     "metadata": {
      "needs_background": "light"
     },
     "output_type": "display_data"
    }
   ],
   "source": [
    "plt.figure(figsize=(10,5))\n",
    "sns.histplot(data= data, x=data['est_salary'], hue=data['churn'],binwidth=5000, stat='density', common_norm=False);\n",
    "plt.title('Распределение признака `est_salary` в разрезе оттока')\n",
    "plt.xlabel('Средний заработок клиентов')\n",
    "plt.xlim(right=5e5, left=0)\n",
    "plt.show()"
   ]
  },
  {
   "cell_type": "markdown",
   "metadata": {},
   "source": [
    "Диапазон превышения численности отточных клиентов: 100-240 тыс рублей доход клиентов"
   ]
  },
  {
   "cell_type": "code",
   "execution_count": 45,
   "metadata": {
    "scrolled": false
   },
   "outputs": [
    {
     "data": {
      "image/png": "[encoded data removed]",
      "text/plain": [
       "<Figure size 720x360 with 1 Axes>"
      ]
     },
     "metadata": {
      "needs_background": "light"
     },
     "output_type": "display_data"
    }
   ],
   "source": [
    "plt.figure(figsize=(10,5))\n",
    "sns.histplot(data= data, x=data['age'], hue=data['churn'],binwidth=1, stat='density', common_norm=False);\n",
    "plt.title('Распределение признака `age` в разрезе оттока')\n",
    "plt.xlabel('Возраст клиентов')\n",
    "plt.show()"
   ]
  },
  {
   "cell_type": "markdown",
   "metadata": {},
   "source": [
    "Диапазон превышения численности отточных клиентов:  26-36 лет и 51-61 лет"
   ]
  },
  {
   "cell_type": "markdown",
   "metadata": {},
   "source": [
    "Доля отточных клиентов по всему банку"
   ]
  },
  {
   "cell_type": "code",
   "execution_count": 46,
   "metadata": {},
   "outputs": [
    {
     "data": {
      "text/plain": [
       "0.182"
      ]
     },
     "execution_count": 46,
     "metadata": {},
     "output_type": "execute_result"
    }
   ],
   "source": [
    "churn_mean = data['churn'].mean()\n",
    "churn_mean"
   ]
  },
  {
   "cell_type": "code",
   "execution_count": 47,
   "metadata": {
    "scrolled": true
   },
   "outputs": [
    {
     "data": {
      "image/png": "[encoded data removed]",
      "text/plain": [
       "<Figure size 720x360 with 1 Axes>"
      ]
     },
     "metadata": {
      "needs_background": "light"
     },
     "output_type": "display_data"
    }
   ],
   "source": [
    "plt.figure(figsize=(10,5))\n",
    "plt.axhline(y=churn_mean, color='red', alpha=0.5)\n",
    "plt.legend([\"Средний отток по банку\"])\n",
    "sns.barplot(data=data, x=data['equity'], y=data['churn'], ci=None)\n",
    "plt.title('Распределение признака `equity` в разрезе оттока')\n",
    "plt.xlabel('Количество баллов собственности')\n",
    "plt.ylabel('Доля отточных клиентов')\n",
    "plt.show()"
   ]
  },
  {
   "cell_type": "markdown",
   "metadata": {},
   "source": [
    "Доля отточных клиентов превышает среднее значение оттока по банку при баллах собственности больше 3"
   ]
  },
  {
   "cell_type": "code",
   "execution_count": 48,
   "metadata": {
    "scrolled": true
   },
   "outputs": [
    {
     "data": {
      "image/png": "[encoded data removed]",
      "text/plain": [
       "<Figure size 720x360 with 1 Axes>"
      ]
     },
     "metadata": {
      "needs_background": "light"
     },
     "output_type": "display_data"
    }
   ],
   "source": [
    "plt.figure(figsize=(10,5))\n",
    "plt.axhline(y=churn_mean, color='red', alpha=0.5)\n",
    "plt.legend([\"Средний отток по банку\"])\n",
    "sns.barplot(data=data, x=data['products'], y=data['churn'], ci=None)\n",
    "plt.title('Распределение признака `products` в разрезе оттока')\n",
    "plt.xlabel('Количество продуктов, используемое клиентом')\n",
    "plt.ylabel('Доля отточных клиентов')\n",
    "plt.show()"
   ]
  },
  {
   "cell_type": "markdown",
   "metadata": {},
   "source": [
    "Доля отточных клиентов превышает среднее значение оттока по банку при количестве продуктов больше 3"
   ]
  },
  {
   "cell_type": "code",
   "execution_count": 49,
   "metadata": {
    "scrolled": false
   },
   "outputs": [
    {
     "data": {
      "image/png": "[encoded data removed]",
      "text/plain": [
       "<Figure size 720x360 with 1 Axes>"
      ]
     },
     "metadata": {
      "needs_background": "light"
     },
     "output_type": "display_data"
    }
   ],
   "source": [
    "plt.figure(figsize=(10,5))\n",
    "plt.axhline(y=churn_mean, color='red', alpha=0.5)\n",
    "plt.legend([\"Средний отток по банку\"])\n",
    "sns.barplot(data=data, x=data['credit_card'], y=data['churn'], ci=None)\n",
    "plt.title('Распределение признака `credit_card` в разрезе оттока')\n",
    "plt.xlabel('Наличие кредитной карты, 1 - есть, 0 - нет')\n",
    "plt.ylabel('Доля отточных клиентов')\n",
    "plt.show()"
   ]
  },
  {
   "cell_type": "markdown",
   "metadata": {},
   "source": [
    "Доля отточных клиентов превышает среднее значение оттока по банку если у клиента нет кредитной карты"
   ]
  },
  {
   "cell_type": "code",
   "execution_count": 50,
   "metadata": {
    "scrolled": true
   },
   "outputs": [
    {
     "data": {
      "image/png": "[encoded data removed]",
      "text/plain": [
       "<Figure size 720x360 with 1 Axes>"
      ]
     },
     "metadata": {
      "needs_background": "light"
     },
     "output_type": "display_data"
    }
   ],
   "source": [
    "plt.figure(figsize=(10,5))\n",
    "plt.axhline(y=churn_mean, color='red', alpha=0.5)\n",
    "plt.legend([\"Средний отток по банку\"])\n",
    "sns.barplot(data=data, x=data['last_activity'], y=data['churn'], ci=None)\n",
    "plt.title('Распределение признака `last_activity` в разрезе оттока')\n",
    "plt.xlabel('Активность клиента')\n",
    "plt.ylabel('Доля отточных клиентов')\n",
    "plt.show()"
   ]
  },
  {
   "cell_type": "markdown",
   "metadata": {},
   "source": [
    "Доля отточных клиентов превышает среднее значение оттока по банку при условии что клиент активный (то есть использует продукты банка)"
   ]
  },
  {
   "cell_type": "code",
   "execution_count": 51,
   "metadata": {
    "scrolled": true
   },
   "outputs": [
    {
     "data": {
      "image/png": "[encoded data removed]",
      "text/plain": [
       "<Figure size 720x360 with 1 Axes>"
      ]
     },
     "metadata": {
      "needs_background": "light"
     },
     "output_type": "display_data"
    }
   ],
   "source": [
    "plt.figure(figsize=(10,5))\n",
    "plt.axhline(y=churn_mean, color='red', alpha=0.5)\n",
    "plt.legend([\"Средний отток по банку\"])\n",
    "sns.barplot(data=data, x=data['gender'], y=data['churn'], ci=None)\n",
    "plt.title('Распределение признака `gender` в разрезе оттока')\n",
    "plt.xlabel('Пол клиента')\n",
    "plt.ylabel('Доля отточных клиентов')\n",
    "plt.show()"
   ]
  },
  {
   "cell_type": "markdown",
   "metadata": {},
   "source": [
    "Доля отточных клиентов превышает среднее значение оттока по банку если это клиенты мужского пола"
   ]
  },
  {
   "cell_type": "code",
   "execution_count": 52,
   "metadata": {},
   "outputs": [
    {
     "data": {
      "image/png": "[encoded data removed]",
      "text/plain": [
       "<Figure size 720x360 with 1 Axes>"
      ]
     },
     "metadata": {
      "needs_background": "light"
     },
     "output_type": "display_data"
    }
   ],
   "source": [
    "plt.figure(figsize=(10,5))\n",
    "plt.axhline(y=churn_mean, color='red', alpha=0.5)\n",
    "plt.legend([\"Средний отток по банку\"])\n",
    "sns.barplot(data=data, x=data['city'], y=data['churn'],ci=None)\n",
    "plt.title('Распределение признака `city` в разрезе оттока')\n",
    "plt.xlabel('Город филиала банка')\n",
    "plt.ylabel('Доля отточных клиентов')\n",
    "plt.ylim((0.14,0.2))\n",
    "plt.show()"
   ]
  },
  {
   "cell_type": "markdown",
   "metadata": {},
   "source": [
    "Доля отточных клиентов превышает среднее значение оттока по банку если клиенты из Ярославля или Ростова"
   ]
  },
  {
   "cell_type": "markdown",
   "metadata": {},
   "source": [
    "#### Анализ портретов клиентов в разрезе оттока"
   ]
  },
  {
   "cell_type": "markdown",
   "metadata": {},
   "source": [
    "Рассмотрим центральные тенденции признаков в разрезе оттока."
   ]
  },
  {
   "cell_type": "markdown",
   "metadata": {},
   "source": [
    "Для непрерывных переменных - среднее значение, при наличии выбросов - дополнительно медиану.  \n",
    "Для дискретных признаков - медиана.  \n",
    "Для категориальных переменных - мода."
   ]
  },
  {
   "cell_type": "code",
   "execution_count": 53,
   "metadata": {
    "scrolled": false
   },
   "outputs": [
    {
     "name": "stderr",
     "output_type": "stream",
     "text": [
      "/opt/conda/lib/python3.9/site-packages/scipy/stats/_stats_py.py:110: RuntimeWarning: The input array could not be properly checked for nan values. nan values will be ignored.\n",
      "  warnings.warn(\"The input array could not be properly \"\n",
      "/tmp/ipykernel_239/3766140187.py:9: DeprecationWarning: Support for non-numeric arrays has been deprecated as of SciPy 1.9.0 and will be removed in 1.11.0. `pandas.DataFrame.mode` can be used instead, see https://pandas.pydata.org/docs/reference/api/pandas.DataFrame.mode.html.\n",
      "  'city': lambda x:st.mode(x,keepdims=False)[0],\n",
      "/tmp/ipykernel_239/3766140187.py:10: DeprecationWarning: Support for non-numeric arrays has been deprecated as of SciPy 1.9.0 and will be removed in 1.11.0. `pandas.DataFrame.mode` can be used instead, see https://pandas.pydata.org/docs/reference/api/pandas.DataFrame.mode.html.\n",
      "  'gender': lambda x:st.mode(x,keepdims=False)[0]\n"
     ]
    },
    {
     "data": {
      "text/html": [
       "<div>\n",
       "<style scoped>\n",
       "    .dataframe tbody tr th:only-of-type {\n",
       "        vertical-align: middle;\n",
       "    }\n",
       "\n",
       "    .dataframe tbody tr th {\n",
       "        vertical-align: top;\n",
       "    }\n",
       "\n",
       "    .dataframe thead tr th {\n",
       "        text-align: left;\n",
       "    }\n",
       "\n",
       "    .dataframe thead tr:last-of-type th {\n",
       "        text-align: right;\n",
       "    }\n",
       "</style>\n",
       "<table border=\"1\" class=\"dataframe\">\n",
       "  <thead>\n",
       "    <tr>\n",
       "      <th></th>\n",
       "      <th colspan=\"2\" halign=\"left\">balance</th>\n",
       "      <th colspan=\"2\" halign=\"left\">est_salary</th>\n",
       "      <th>score</th>\n",
       "      <th>age</th>\n",
       "      <th>equity</th>\n",
       "      <th>products</th>\n",
       "      <th>credit_card</th>\n",
       "      <th>last_activity</th>\n",
       "      <th>city</th>\n",
       "      <th>gender</th>\n",
       "    </tr>\n",
       "    <tr>\n",
       "      <th></th>\n",
       "      <th>median</th>\n",
       "      <th>mean</th>\n",
       "      <th>median</th>\n",
       "      <th>mean</th>\n",
       "      <th>mean</th>\n",
       "      <th>mean</th>\n",
       "      <th>median</th>\n",
       "      <th>median</th>\n",
       "      <th>median</th>\n",
       "      <th>median</th>\n",
       "      <th>mode</th>\n",
       "      <th>mode</th>\n",
       "    </tr>\n",
       "    <tr>\n",
       "      <th>churn</th>\n",
       "      <th></th>\n",
       "      <th></th>\n",
       "      <th></th>\n",
       "      <th></th>\n",
       "      <th></th>\n",
       "      <th></th>\n",
       "      <th></th>\n",
       "      <th></th>\n",
       "      <th></th>\n",
       "      <th></th>\n",
       "      <th></th>\n",
       "      <th></th>\n",
       "    </tr>\n",
       "  </thead>\n",
       "  <tbody>\n",
       "    <tr>\n",
       "      <th>0</th>\n",
       "      <td>475382.44</td>\n",
       "      <td>733982.59</td>\n",
       "      <td>118257.72</td>\n",
       "      <td>147783.20</td>\n",
       "      <td>845.43</td>\n",
       "      <td>43.01</td>\n",
       "      <td>3</td>\n",
       "      <td>2</td>\n",
       "      <td>1</td>\n",
       "      <td>0</td>\n",
       "      <td>Ярославль</td>\n",
       "      <td>Ж</td>\n",
       "    </tr>\n",
       "    <tr>\n",
       "      <th>1</th>\n",
       "      <td>782410.47</td>\n",
       "      <td>1133993.27</td>\n",
       "      <td>125390.62</td>\n",
       "      <td>148243.01</td>\n",
       "      <td>863.40</td>\n",
       "      <td>41.45</td>\n",
       "      <td>4</td>\n",
       "      <td>2</td>\n",
       "      <td>1</td>\n",
       "      <td>1</td>\n",
       "      <td>Ярославль</td>\n",
       "      <td>М</td>\n",
       "    </tr>\n",
       "  </tbody>\n",
       "</table>\n",
       "</div>"
      ],
      "text/plain": [
       "         balance             est_salary              score    age equity  \\\n",
       "          median        mean     median       mean    mean   mean median   \n",
       "churn                                                                      \n",
       "0      475382.44   733982.59  118257.72  147783.20  845.43  43.01      3   \n",
       "1      782410.47  1133993.27  125390.62  148243.01  863.40  41.45      4   \n",
       "\n",
       "      products credit_card last_activity       city gender  \n",
       "        median      median        median       mode   mode  \n",
       "churn                                                       \n",
       "0            2           1             0  Ярославль      Ж  \n",
       "1            2           1             1  Ярославль      М  "
      ]
     },
     "execution_count": 53,
     "metadata": {},
     "output_type": "execute_result"
    }
   ],
   "source": [
    "data_churn = data.groupby(['churn']).agg({'balance': ['median','mean'],\n",
    "                                        'est_salary': ['median','mean'],\n",
    "                                        'score' : 'mean', \n",
    "                                        'age': 'mean',\n",
    "                                        'equity': 'median',\n",
    "                                        'products': 'median',\n",
    "                                        'credit_card':'median' ,\n",
    "                                        'last_activity':'median' ,\n",
    "                                        'city': lambda x:st.mode(x,keepdims=False)[0],\n",
    "                                        'gender': lambda x:st.mode(x,keepdims=False)[0]\n",
    "                                        }).round(2)\n",
    "data_churn = data_churn.rename(columns = {'<lambda>':'mode'})\n",
    "data_churn"
   ]
  },
  {
   "cell_type": "code",
   "execution_count": 54,
   "metadata": {
    "scrolled": false
   },
   "outputs": [
    {
     "data": {
      "text/html": [
       "<div>\n",
       "<style scoped>\n",
       "    .dataframe tbody tr th:only-of-type {\n",
       "        vertical-align: middle;\n",
       "    }\n",
       "\n",
       "    .dataframe tbody tr th {\n",
       "        vertical-align: top;\n",
       "    }\n",
       "\n",
       "    .dataframe thead th {\n",
       "        text-align: right;\n",
       "    }\n",
       "</style>\n",
       "<table border=\"1\" class=\"dataframe\">\n",
       "  <thead>\n",
       "    <tr style=\"text-align: right;\">\n",
       "      <th></th>\n",
       "      <th></th>\n",
       "      <th>Не отток</th>\n",
       "      <th>Отток</th>\n",
       "      <th>Относит.разница, %</th>\n",
       "    </tr>\n",
       "  </thead>\n",
       "  <tbody>\n",
       "    <tr>\n",
       "      <th>age</th>\n",
       "      <th>mean</th>\n",
       "      <td>43.01</td>\n",
       "      <td>41.45</td>\n",
       "      <td>-3.627063</td>\n",
       "    </tr>\n",
       "    <tr>\n",
       "      <th rowspan=\"2\" valign=\"top\">balance</th>\n",
       "      <th>mean</th>\n",
       "      <td>733982.59</td>\n",
       "      <td>1133993.27</td>\n",
       "      <td>54.498661</td>\n",
       "    </tr>\n",
       "    <tr>\n",
       "      <th>median</th>\n",
       "      <td>475382.44</td>\n",
       "      <td>782410.47</td>\n",
       "      <td>64.58548</td>\n",
       "    </tr>\n",
       "    <tr>\n",
       "      <th>city</th>\n",
       "      <th>mode</th>\n",
       "      <td>Ярославль</td>\n",
       "      <td>Ярославль</td>\n",
       "      <td>NaN</td>\n",
       "    </tr>\n",
       "    <tr>\n",
       "      <th>credit_card</th>\n",
       "      <th>median</th>\n",
       "      <td>1</td>\n",
       "      <td>1</td>\n",
       "      <td>NaN</td>\n",
       "    </tr>\n",
       "    <tr>\n",
       "      <th>equity</th>\n",
       "      <th>median</th>\n",
       "      <td>3</td>\n",
       "      <td>4</td>\n",
       "      <td>NaN</td>\n",
       "    </tr>\n",
       "    <tr>\n",
       "      <th rowspan=\"2\" valign=\"top\">est_salary</th>\n",
       "      <th>mean</th>\n",
       "      <td>147783.2</td>\n",
       "      <td>148243.01</td>\n",
       "      <td>0.311138</td>\n",
       "    </tr>\n",
       "    <tr>\n",
       "      <th>median</th>\n",
       "      <td>118257.72</td>\n",
       "      <td>125390.62</td>\n",
       "      <td>6.031657</td>\n",
       "    </tr>\n",
       "    <tr>\n",
       "      <th>gender</th>\n",
       "      <th>mode</th>\n",
       "      <td>Ж</td>\n",
       "      <td>М</td>\n",
       "      <td>NaN</td>\n",
       "    </tr>\n",
       "    <tr>\n",
       "      <th>last_activity</th>\n",
       "      <th>median</th>\n",
       "      <td>0</td>\n",
       "      <td>1</td>\n",
       "      <td>NaN</td>\n",
       "    </tr>\n",
       "    <tr>\n",
       "      <th>products</th>\n",
       "      <th>median</th>\n",
       "      <td>2</td>\n",
       "      <td>2</td>\n",
       "      <td>NaN</td>\n",
       "    </tr>\n",
       "    <tr>\n",
       "      <th>score</th>\n",
       "      <th>mean</th>\n",
       "      <td>845.43</td>\n",
       "      <td>863.4</td>\n",
       "      <td>2.125546</td>\n",
       "    </tr>\n",
       "  </tbody>\n",
       "</table>\n",
       "</div>"
      ],
      "text/plain": [
       "                       Не отток       Отток Относит.разница, %\n",
       "age           mean        43.01       41.45          -3.627063\n",
       "balance       mean    733982.59  1133993.27          54.498661\n",
       "              median  475382.44   782410.47           64.58548\n",
       "city          mode    Ярославль   Ярославль                NaN\n",
       "credit_card   median          1           1                NaN\n",
       "equity        median          3           4                NaN\n",
       "est_salary    mean     147783.2   148243.01           0.311138\n",
       "              median  118257.72   125390.62           6.031657\n",
       "gender        mode            Ж           М                NaN\n",
       "last_activity median          0           1                NaN\n",
       "products      median          2           2                NaN\n",
       "score         mean       845.43       863.4           2.125546"
      ]
     },
     "execution_count": 54,
     "metadata": {},
     "output_type": "execute_result"
    }
   ],
   "source": [
    "pd.concat({'Не отток': data_churn.iloc[0],\n",
    "           'Отток': data_churn.iloc[1],\n",
    "           'Относит.разница, %': (data_churn.loc[1,['balance','est_salary','score','age']]/\n",
    "                                       data_churn.loc[0,['balance','est_salary','score','age']]-1)*100},axis=1,sort=False)"
   ]
  },
  {
   "cell_type": "markdown",
   "metadata": {},
   "source": [
    "**Портрет отточного клиента:**\n",
    " - средний возраст *41.5 лет*\n",
    " - ср.баланс: *1.134 млн руб*\n",
    " - медианный баланс: *782.4 тыс руб*\n",
    " - город: *Ярославль*\n",
    " - кредитная карта: *есть (1)*\n",
    " - количество баллов собственности: *4*\n",
    " - средний доход: *148.2 тыс руб*\n",
    " - медианный доход: *125.4 тыс руб*\n",
    " - пол: *мужской*\n",
    " - активный клиент: *нет*\n",
    " - количество продуктов банка: *2*\n",
    " - средний балл скоринга: *863.4*"
   ]
  },
  {
   "cell_type": "markdown",
   "metadata": {},
   "source": [
    "**Портрет лояльного клиента:**\n",
    " - средний возраст: *43 года*\n",
    " - ср.баланс: *733.9 тыс рублей*\n",
    " - медианный баланс: *475.4 тыс руб*\n",
    " - город: *Ярославль*\n",
    " - кредитная карта: *есть (1)*\n",
    " - количество баллов собственности: *3*\n",
    " - средний доход: *147.7 тыс руб*\n",
    " - медианный доход: *118 тыс руб*\n",
    " - пол: *женский*\n",
    " - активный клиент: *да*\n",
    " - количество продуктов банка: *2*\n",
    " - средний балл скоринга: *845.43*"
   ]
  },
  {
   "cell_type": "markdown",
   "metadata": {},
   "source": [
    "**Выводы**  \n",
    " - разница в возрасте между отточными и неотточными клиентами ~1.5 года\n",
    " - сильные различия по количеству средств на счете: у отточных клиентов в среднем  более чем на 50% на балансе средств больше, возможно это связано с тем, что пользователе меньше используют продукты банка и как следствие больше денег \"лежат без дела\"  \n",
    " - имеется различие по количеству очков собственности, вероятно не является определяющим фактором\n",
    " - также в числе отточных клиентов части оказываются клиенты мужского пола\n",
    " - по остальным показателям различия незначительны"
   ]
  },
  {
   "cell_type": "markdown",
   "metadata": {},
   "source": [
    "#### Выполним корреляционный анализ признака churn с другими признаками"
   ]
  },
  {
   "cell_type": "code",
   "execution_count": 55,
   "metadata": {},
   "outputs": [
    {
     "data": {
      "image/png": "[encoded data removed]",
      "text/plain": [
       "<Figure size 864x576 with 2 Axes>"
      ]
     },
     "metadata": {
      "needs_background": "light"
     },
     "output_type": "display_data"
    }
   ],
   "source": [
    "corr = data[['churn',\n",
    "                  'age',\n",
    "                  'credit_card',\n",
    "                  'last_activity',\n",
    "                  'equity',\n",
    "                  'products',\n",
    "                  'balance',\n",
    "                  'est_salary',\n",
    "                  'score',\n",
    "                  'Rostov',\n",
    "                  'Rybinsk',\n",
    "                  'Yaroslavl',\n",
    "                  'female',\n",
    "                  'male'\n",
    "                 ]].corr()\n",
    "plt.figure(figsize=(12,8))\n",
    "sns.heatmap(corr.loc[:, ['churn']].drop('churn').sort_values('churn'), annot=True,cmap='coolwarm', center=0);\n",
    "plt.title('Корреляция оттока с различными признаками')\n",
    "plt.show()"
   ]
  },
  {
   "cell_type": "markdown",
   "metadata": {},
   "source": [
    "Шкала Чеддока используется для оценки силы связи в теории корреляции  \n",
    "\n",
    "Градации шкалы: (отрицательные значения - обратная связь)\n",
    "* слабая — от 0,1 до 0,3; \n",
    "* умеренная — от 0,3 до 0,5; \n",
    "* заметная — от 0,5 до 0,7; \n",
    "* высокая — от 0,7 до 0,9; \n",
    "* весьма высокая (сильная) — от 0,9 до 1,0."
   ]
  },
  {
   "cell_type": "markdown",
   "metadata": {},
   "source": [
    "Наблюдается слабая прямая корреляция оттока со следующими признаками (то есть при увеличении значения признака, значение оттока увеличивается): \n",
    "- баллы кредитного скоринга, \n",
    "- с показателем опреледеляющим принадлежность к мужскому полу, \n",
    "- параметром активности клиента, \n",
    "- количеством баллов собственности и количеством продуктов, причем последние 2 показателя на границе с умеренной зоной корреляции, то есть имеют наибольшую из всех имеюищхся\n",
    "- значения баланса на счету клиента (корреляция \n",
    "\n",
    "Также наблюдается слабая обратная корреляция оттока с признаками (то есть при росте значения признака отточность снижается и наоборот):\n",
    "- наличие пропуска в графе баланс в данных\n",
    "- показателем опреледеляющим принадлежность к женскому полу\n",
    "- наличие кредитной карты  \n",
    "\n",
    "Не влияет на показатель оттока:\n",
    "- город\n",
    "- возраст\n",
    "- доход"
   ]
  },
  {
   "cell_type": "markdown",
   "metadata": {},
   "source": [
    "**Вывод:**  \n",
    "1. Анализ отточности  \n",
    " Преобладающие признаки отточных клиентов:  \n",
    "  * балл кредитного скоринга: 810-940  \n",
    "  * баланс: от 750 тыс рублей с усилением от 1млн рублей  \n",
    "  * доход клиента: от 100тыс до 240тыс рублей  \n",
    "  * возраст клиента: 26-36 лет и 51-61 год  \n",
    "  * баллы собсвтеноости: больше 3  \n",
    "  * количество продуктов: больше 3  \n",
    "  * пол: мужской\n",
    "  * отсутствие кредитной карты  \n",
    "  * город: Ярославль, Ростов\n",
    "  * клиент активен  \n",
    "    \n",
    "2. Анализ портретов отточных и неотточных клиентов  \n",
    "  - разница в возрасте между отточными и неотточными клиентами ~1.5 года\n",
    "  - сильные различия по количеству средств на счете: у отточных клиентов в среднем  более чем на 50% на балансе средств больше, возможно это связано с тем, что пользователе меньше используют продукты банка и как следствие больше денег \"лежат без дела\"  \n",
    "  - имеется различие по количеству очков собственности, вероятно не является определяющим фактором\n",
    "  - также в числе отточных клиентов части оказываются клиенты мужского пола\n",
    "  - по остальным показателям различия незначительны  \n",
    "  \n",
    "3. Корреляция признаков  \n",
    "\n",
    "    Наблюдается слабая прямая корреляция оттока со следующими признаками (то есть при увеличении значения признака, значение оттока увеличивается): \n",
    "- баллы кредитного скоринга, \n",
    "- с показателем опреледеляющим принадлежность к мужскому полу, \n",
    "- параметром активности клиента, \n",
    "- количеством баллов собственности и количеством продуктов, причем последние 2 показателя на границе с умеренной зоной корреляции, то есть имеют наибольшую из всех имеюищхся\n",
    "- значения баланса на счету клиента (корреляция \n",
    "\n",
    "    Также наблюдается слабая обратная корреляция оттока с признаками (то есть при росте значения признака отточность снижается и наоборот):\n",
    "- наличие пропуска в графе баланс в данных\n",
    "- показателем опреледеляющим принадлежность к женскому полу\n",
    "- наличие кредитной карты  \n",
    "\n",
    "    Не влияет на показатель оттока:\n",
    "- город\n",
    "- возраст\n",
    "- доход"
   ]
  },
  {
   "cell_type": "markdown",
   "metadata": {},
   "source": [
    "### Проверка гипотез"
   ]
  },
  {
   "cell_type": "markdown",
   "metadata": {},
   "source": [
    "Гипотеза №1  \n",
    "О различии доходов между отточными и неотточными клиентами"
   ]
  },
  {
   "cell_type": "markdown",
   "metadata": {},
   "source": [
    "Н0: доход отточных и неотточных клиентов одинаковый  \n",
    "Н1: доход отточных и неотточных клиентов различен"
   ]
  },
  {
   "cell_type": "markdown",
   "metadata": {},
   "source": [
    "Для применения t-теста необходимо проверить:  \n",
    "- независимость выборок\n",
    "- нормальность распределения  \n",
    "- равенство дисперский\n",
    "- отсутсвие выбросов, которые влияют на среднее"
   ]
  },
  {
   "cell_type": "markdown",
   "metadata": {},
   "source": [
    "Две выборки для проверки данной гипотезы a - неотточные, b - отточные клиенты"
   ]
  },
  {
   "cell_type": "code",
   "execution_count": 56,
   "metadata": {},
   "outputs": [],
   "source": [
    "a = data[data['churn'] == 0]['est_salary']\n",
    "b = data[data['churn'] == 1]['est_salary']"
   ]
  },
  {
   "cell_type": "code",
   "execution_count": 57,
   "metadata": {},
   "outputs": [
    {
     "data": {
      "image/png": "[encoded data removed]",
      "text/plain": [
       "<Figure size 720x360 with 1 Axes>"
      ]
     },
     "metadata": {
      "needs_background": "light"
     },
     "output_type": "display_data"
    }
   ],
   "source": [
    "plt.figure(figsize=(10,5))\n",
    "sns.histplot(data= data, x=data['est_salary'], hue=data['churn'],stat='density', common_norm=False);\n",
    "plt.title('Распределение выборок отточных и неотточных клиентов')\n",
    "plt.xlabel('Средний доход')\n",
    "plt.xlim(right=5e5, left=0)\n",
    "plt.show()"
   ]
  },
  {
   "cell_type": "markdown",
   "metadata": {},
   "source": [
    "Рассматриваемые выборки достаточно крупны и независимы друг от друга"
   ]
  },
  {
   "cell_type": "markdown",
   "metadata": {},
   "source": [
    "Проверим соответствие выборок нормальному распределению при помощи критерия Шапиро-Уилка"
   ]
  },
  {
   "cell_type": "markdown",
   "metadata": {},
   "source": [
    "Н0: выборка распределена нормально  \n",
    "Н1: выборка имеет ненормальное распределение"
   ]
  },
  {
   "cell_type": "markdown",
   "metadata": {},
   "source": [
    "Примем уровень статистической значимости равным 0.05"
   ]
  },
  {
   "cell_type": "code",
   "execution_count": 58,
   "metadata": {
    "scrolled": false
   },
   "outputs": [
    {
     "name": "stdout",
     "output_type": "stream",
     "text": [
      "ShapiroResult(statistic=0.6149210929870605, pvalue=0.0)\n",
      "Отвергаем нулевую гипотезу, распределение ненормальное\n"
     ]
    },
    {
     "name": "stderr",
     "output_type": "stream",
     "text": [
      "/opt/conda/lib/python3.9/site-packages/scipy/stats/_morestats.py:1800: UserWarning: p-value may not be accurate for N > 5000.\n",
      "  warnings.warn(\"p-value may not be accurate for N > 5000.\")\n"
     ]
    }
   ],
   "source": [
    "alpha = 0.05  \n",
    "result = st.shapiro(a)\n",
    "print(result)\n",
    "if result.pvalue < alpha:\n",
    "    print('Отвергаем нулевую гипотезу, распределение ненормальное')\n",
    "else:\n",
    "    print('Оттвергнуть нулевую гипотезу нельзя, распределение нормальное')  "
   ]
  },
  {
   "cell_type": "markdown",
   "metadata": {},
   "source": [
    "Н0: выборка распределена нормально  \n",
    "Н1: выборка имеет ненормальное распределение"
   ]
  },
  {
   "cell_type": "code",
   "execution_count": 59,
   "metadata": {
    "scrolled": true
   },
   "outputs": [
    {
     "name": "stdout",
     "output_type": "stream",
     "text": [
      "ShapiroResult(statistic=0.6442221999168396, pvalue=0.0)\n",
      "Отвергаем нулевую гипотезу, распределение ненормальное\n"
     ]
    }
   ],
   "source": [
    "alpha = 0.05  \n",
    "result = st.shapiro(b)\n",
    "print(result)\n",
    "if result.pvalue < alpha:\n",
    "    print('Отвергаем нулевую гипотезу, распределение ненормальное')\n",
    "else:\n",
    "    print('Оттвергнуть нулевую гипотезу нельзя, распределение нормальное')"
   ]
  },
  {
   "cell_type": "markdown",
   "metadata": {},
   "source": [
    "Выполним оценку статистической значимости равенства дисперсий. Для этого применим тест Левене"
   ]
  },
  {
   "cell_type": "markdown",
   "metadata": {},
   "source": [
    "Н0: дисперсии выборок равны   \n",
    "Н1: дисперсии выборок неравны"
   ]
  },
  {
   "cell_type": "code",
   "execution_count": 60,
   "metadata": {},
   "outputs": [
    {
     "name": "stdout",
     "output_type": "stream",
     "text": [
      "p-value:  0.009520715759133944\n",
      "Отвергаем нулевую гипотезу\n"
     ]
    }
   ],
   "source": [
    "alpha = 0.05  \n",
    "results = st.levene(a, b)\n",
    "print('p-value: ', results.pvalue)\n",
    "if results.pvalue < alpha:\n",
    "    print('Отвергаем нулевую гипотезу')\n",
    "else:\n",
    "    print(\n",
    "        'Не получилось отвергнуть нулевую гипотезу')"
   ]
  },
  {
   "cell_type": "markdown",
   "metadata": {},
   "source": [
    "В результате проведения теста Левене отвергли нулевую гипотезу, следовательно дисперсии выборок неравные"
   ]
  },
  {
   "cell_type": "markdown",
   "metadata": {},
   "source": [
    "Различия среднего дохода отточных и неотточных клиентов (менее 0.5%) и медианного дохода (около 6.3%), что может свидетельствовать о наличии выбросов, которые влияют на определение среднего дохода."
   ]
  },
  {
   "cell_type": "markdown",
   "metadata": {},
   "source": [
    "По полученным результатам можно сделать вывод, что применение ttest при данных условиях некорректно, в связи с этим применим utest Манна-Уитни.  \n",
    "В случае невозможности применения ttest при сопоставлении двух выборок с целью выявления различий между ними по уровню одного исследуемого признака, то чаще всего используются два непараметрических критерия - критерием Розенбаума и критерием Манна – Уитни. Для независимых выборок применяется utest Манна-Уитни (также при невозможности применения ttest в виду невыполнения условий, советуют применять utest Манна-Уитни, про него также упоминалось в процессе обучения)"
   ]
  },
  {
   "cell_type": "code",
   "execution_count": 61,
   "metadata": {},
   "outputs": [
    {
     "name": "stdout",
     "output_type": "stream",
     "text": [
      "p-value:  0.000243559272811695\n",
      "Отвергаем нулевую гипотезу\n"
     ]
    }
   ],
   "source": [
    "alpha = 0.05  \n",
    "results = st.mannwhitneyu(a, b)\n",
    "print('p-value: ', results.pvalue)\n",
    "if results.pvalue < alpha:\n",
    "    print('Отвергаем нулевую гипотезу')\n",
    "else:\n",
    "    print(\n",
    "        'Не получилось отвергнуть нулевую гипотезу')"
   ]
  },
  {
   "cell_type": "markdown",
   "metadata": {},
   "source": [
    "**Вывод:**  \n",
    "доход отточных и неотточных клиентов различный"
   ]
  },
  {
   "cell_type": "markdown",
   "metadata": {},
   "source": [
    "Гипотеза №2  \n",
    "О гендерном различии отточных клиентов"
   ]
  },
  {
   "cell_type": "markdown",
   "metadata": {},
   "source": [
    "Н0: доля оттока клиентов мужского и женского пола одинаковая  \n",
    "Н1: доля оттока клиентов мужского и женского пола различная"
   ]
  },
  {
   "cell_type": "markdown",
   "metadata": {},
   "source": [
    "Две выборки (мужская и женская) в разрезе оттока клиентов"
   ]
  },
  {
   "cell_type": "code",
   "execution_count": 62,
   "metadata": {},
   "outputs": [
    {
     "data": {
      "text/plain": [
       "array([1, 0])"
      ]
     },
     "execution_count": 62,
     "metadata": {},
     "output_type": "execute_result"
    }
   ],
   "source": [
    "male = data[data['gender']=='М']['churn']\n",
    "male.unique()"
   ]
  },
  {
   "cell_type": "code",
   "execution_count": 63,
   "metadata": {},
   "outputs": [
    {
     "data": {
      "text/plain": [
       "array([1, 0])"
      ]
     },
     "execution_count": 63,
     "metadata": {},
     "output_type": "execute_result"
    }
   ],
   "source": [
    "female = data[data['gender']=='Ж']['churn']\n",
    "female.unique()"
   ]
  },
  {
   "cell_type": "markdown",
   "metadata": {},
   "source": [
    "Для проверки гипотез связанных с бинарными признаками используется тест пропорций или z-test,  используемый для оценки того, существенно ли различается доля определенной характеристики между двумя независимыми выборками"
   ]
  },
  {
   "cell_type": "code",
   "execution_count": 64,
   "metadata": {},
   "outputs": [
    {
     "name": "stdout",
     "output_type": "stream",
     "text": [
      "p-value: 3.6080279450456205e-45\n",
      "Отвергаем нулевую гипотезу\n"
     ]
    }
   ],
   "source": [
    "# критический уровень статистической значимости\n",
    "alpha = 0.05\n",
    "\n",
    "# количество испытаний\n",
    "trials = [male.count(), female.count()]\n",
    "\n",
    "# количество успешных\n",
    "successes = [data[(data['gender']=='М') & (data['churn']==1)]['churn'].count(), data[(data['gender']=='Ж') & (data['churn']==1)]['churn'].count()]\n",
    "\n",
    "# z-test\n",
    "z_stat, p_value = proportions_ztest(successes, trials)\n",
    "\n",
    "print('p-value:', p_value)\n",
    "\n",
    "if p_value < alpha:\n",
    "    print('Отвергаем нулевую гипотезу')\n",
    "else:\n",
    "    print('Не получилось отвергнуть нулевую гипотезу')"
   ]
  },
  {
   "cell_type": "markdown",
   "metadata": {},
   "source": [
    "**Вывод:**  \n",
    "доля оттока клиентов мужского и женского пола различная"
   ]
  },
  {
   "cell_type": "markdown",
   "metadata": {},
   "source": [
    "### Промежуточный итог"
   ]
  },
  {
   "cell_type": "markdown",
   "metadata": {},
   "source": [
    "Признаки, которые будут использоваться при сегментации (на основе предыдущих пунктов):  \n",
    "  * балл кредитного скоринга `score`: 810-940  \n",
    "  * баланс `balance`: от 750 тыс рублей с усилением от 1млн рублей  \n",
    "  * доход клиента `est_salary`: от 100тыс до 240тыс рублей  \n",
    "  * возраст клиента `age`: 26-36 лет и 51-61 год  \n",
    "  * баллы собственности `equity`: больше 3  \n",
    "  * количество продуктов `products`: больше 3  \n",
    "  * отсутствие кредитной карты `credit_card`=0 \n",
    "  * пол клиента `gender`: мужской (М) \n",
    "  * город`city`: Ярославль, Ростов \n",
    "  * клиент активен `last_activity`=1 "
   ]
  },
  {
   "cell_type": "markdown",
   "metadata": {},
   "source": [
    "При проверке гипотез выяснилось, что на отточность влияет пол клиента и значение дохода"
   ]
  },
  {
   "cell_type": "markdown",
   "metadata": {},
   "source": [
    "Наиболее коррелируемые с оттоком признаки из представленных: `products`, `equity`, `last_activity`  (корреляция слабая)"
   ]
  },
  {
   "cell_type": "markdown",
   "metadata": {},
   "source": [
    "### Сегментация"
   ]
  },
  {
   "cell_type": "markdown",
   "metadata": {},
   "source": [
    "В процессе сегментации будет выделено 3 сегмента с показателем отточности больше чем в среднем по банку.   \n",
    "Каждый сегмент должен содержать не менее 500 клиентов и иметь уникальный набор признаков (из пункта 3.5) по отношению к другим сегментам."
   ]
  },
  {
   "cell_type": "markdown",
   "metadata": {},
   "source": [
    "**Сегмент №1**  \n",
    "Возраст: 26-36 лет  \n",
    "Активность клиента: да (1)  \n",
    "Кредитная карта: отсутсвует (0)  "
   ]
  },
  {
   "cell_type": "code",
   "execution_count": 65,
   "metadata": {
    "scrolled": true
   },
   "outputs": [
    {
     "data": {
      "text/html": [
       "<div>\n",
       "<style scoped>\n",
       "    .dataframe tbody tr th:only-of-type {\n",
       "        vertical-align: middle;\n",
       "    }\n",
       "\n",
       "    .dataframe tbody tr th {\n",
       "        vertical-align: top;\n",
       "    }\n",
       "\n",
       "    .dataframe thead th {\n",
       "        text-align: right;\n",
       "    }\n",
       "</style>\n",
       "<table border=\"1\" class=\"dataframe\">\n",
       "  <thead>\n",
       "    <tr style=\"text-align: right;\">\n",
       "      <th></th>\n",
       "      <th>churn</th>\n",
       "    </tr>\n",
       "  </thead>\n",
       "  <tbody>\n",
       "    <tr>\n",
       "      <th>mean</th>\n",
       "      <td>0.464552</td>\n",
       "    </tr>\n",
       "    <tr>\n",
       "      <th>count</th>\n",
       "      <td>536.000000</td>\n",
       "    </tr>\n",
       "  </tbody>\n",
       "</table>\n",
       "</div>"
      ],
      "text/plain": [
       "            churn\n",
       "mean     0.464552\n",
       "count  536.000000"
      ]
     },
     "execution_count": 65,
     "metadata": {},
     "output_type": "execute_result"
    }
   ],
   "source": [
    "seg_1 = data.query('26<=age<=36 and last_activity==1 and credit_card==0')\\\n",
    "            .agg({'churn':['mean','count']})\n",
    "seg_1"
   ]
  },
  {
   "cell_type": "markdown",
   "metadata": {},
   "source": [
    "Показатель оттока: 0.464 (больше чем в среднем по банку 0.182)  \n",
    "Количество клиентов: 536 (больше 500)  \n",
    "Количество отточных клиентов: 249"
   ]
  },
  {
   "cell_type": "markdown",
   "metadata": {},
   "source": [
    "**Сегмент №2**  \n",
    "Возраст: 51-61 год  \n",
    "Баллов собственности: больше или равно 3"
   ]
  },
  {
   "cell_type": "code",
   "execution_count": 66,
   "metadata": {},
   "outputs": [
    {
     "data": {
      "text/html": [
       "<div>\n",
       "<style scoped>\n",
       "    .dataframe tbody tr th:only-of-type {\n",
       "        vertical-align: middle;\n",
       "    }\n",
       "\n",
       "    .dataframe tbody tr th {\n",
       "        vertical-align: top;\n",
       "    }\n",
       "\n",
       "    .dataframe thead th {\n",
       "        text-align: right;\n",
       "    }\n",
       "</style>\n",
       "<table border=\"1\" class=\"dataframe\">\n",
       "  <thead>\n",
       "    <tr style=\"text-align: right;\">\n",
       "      <th></th>\n",
       "      <th>churn</th>\n",
       "    </tr>\n",
       "  </thead>\n",
       "  <tbody>\n",
       "    <tr>\n",
       "      <th>mean</th>\n",
       "      <td>0.354481</td>\n",
       "    </tr>\n",
       "    <tr>\n",
       "      <th>count</th>\n",
       "      <td>993.000000</td>\n",
       "    </tr>\n",
       "  </tbody>\n",
       "</table>\n",
       "</div>"
      ],
      "text/plain": [
       "            churn\n",
       "mean     0.354481\n",
       "count  993.000000"
      ]
     },
     "execution_count": 66,
     "metadata": {},
     "output_type": "execute_result"
    }
   ],
   "source": [
    "seg_2 = data.query('51<=age<=61 and equity>=3').agg({'churn':['mean','count']})\n",
    "seg_2"
   ]
  },
  {
   "cell_type": "markdown",
   "metadata": {},
   "source": [
    "Показатель оттока: 0.354 (больше чем в среднем по банку 0.182)  \n",
    "Количество клиентов: 993 (больше 500)  \n",
    "Количество отточных клиентов: 352"
   ]
  },
  {
   "cell_type": "markdown",
   "metadata": {},
   "source": [
    "**Сегмент №3**  \n",
    "Доход клиента: от 100 до 240 тыс рублей  \n",
    "Баланс клиента: более 750 тыс рублей"
   ]
  },
  {
   "cell_type": "code",
   "execution_count": 67,
   "metadata": {},
   "outputs": [
    {
     "data": {
      "text/html": [
       "<div>\n",
       "<style scoped>\n",
       "    .dataframe tbody tr th:only-of-type {\n",
       "        vertical-align: middle;\n",
       "    }\n",
       "\n",
       "    .dataframe tbody tr th {\n",
       "        vertical-align: top;\n",
       "    }\n",
       "\n",
       "    .dataframe thead th {\n",
       "        text-align: right;\n",
       "    }\n",
       "</style>\n",
       "<table border=\"1\" class=\"dataframe\">\n",
       "  <thead>\n",
       "    <tr style=\"text-align: right;\">\n",
       "      <th></th>\n",
       "      <th>churn</th>\n",
       "    </tr>\n",
       "  </thead>\n",
       "  <tbody>\n",
       "    <tr>\n",
       "      <th>mean</th>\n",
       "      <td>0.39663</td>\n",
       "    </tr>\n",
       "    <tr>\n",
       "      <th>count</th>\n",
       "      <td>1543.00000</td>\n",
       "    </tr>\n",
       "  </tbody>\n",
       "</table>\n",
       "</div>"
      ],
      "text/plain": [
       "            churn\n",
       "mean      0.39663\n",
       "count  1543.00000"
      ]
     },
     "execution_count": 67,
     "metadata": {},
     "output_type": "execute_result"
    }
   ],
   "source": [
    "seg_3 = data.query('100000<=est_salary<=240000 and balance >=750000').agg({'churn':['mean','count']})\n",
    "seg_3"
   ]
  },
  {
   "cell_type": "markdown",
   "metadata": {},
   "source": [
    "Показатель оттока: 0.397 (больше чем в среднем по банку 0.182)   \n",
    "Количество клиентов: 1543 (больше 500)  \n",
    "Количество отточных клиентов: 612"
   ]
  },
  {
   "cell_type": "markdown",
   "metadata": {},
   "source": [
    "### Приоритезация сегментов"
   ]
  },
  {
   "cell_type": "markdown",
   "metadata": {},
   "source": [
    "Приоритет сегментам будет присваиваться в зависимости от количества отточных клиентов в сегменте"
   ]
  },
  {
   "cell_type": "code",
   "execution_count": 68,
   "metadata": {},
   "outputs": [
    {
     "name": "stdout",
     "output_type": "stream",
     "text": [
      "Приоритет (по количеству отточных клиентов):\n",
      "Сегмент №3 612.0\n",
      "Сегмент №2 352.0\n",
      "Сегмент №1 249.0\n"
     ]
    }
   ],
   "source": [
    "print('Приоритет (по количеству отточных клиентов):')\n",
    "print('Сегмент №3', (seg_3['churn']['count'] *seg_3['churn']['mean']).round(3))\n",
    "print('Сегмент №2', (seg_2['churn']['count'] *seg_2['churn']['mean']).round(3))\n",
    "print('Сегмент №1', (seg_1['churn']['count'] *seg_1['churn']['mean']).round(3))"
   ]
  },
  {
   "cell_type": "markdown",
   "metadata": {},
   "source": [
    "### Выдача рекомендаций"
   ]
  },
  {
   "cell_type": "markdown",
   "metadata": {},
   "source": [
    "Для сегмента №1 (низкий приоритет) \n",
    "Возраст: 26-36 лет  \n",
    "Активность клиента: да (1)  \n",
    "Кредитная карта: отсутсвует (0)  \n",
    "Доля оттока: 0.465  \n",
    "Количество клиентов: 536  \n",
    "Количество отточных клиентов: 249\n",
    "\n",
    "* Предложить кредит на покупку жилья или автомобиля под низкий процент (в рамках рынка)  \n",
    "* Предложить повышенный кэш бэк при покупке на онлайн маркетплейсах\n",
    "* Предложить бесплатный кастомный дизаин карты "
   ]
  },
  {
   "cell_type": "markdown",
   "metadata": {},
   "source": [
    "Для сегмента № 2  (средний приоритет)\n",
    "Возраст: 51-61 год  \n",
    "Баллов собственности: больше или равно 3  \n",
    "Доля оттока: 0.354  \n",
    "Количество клиентов: 993  \n",
    "Количество отточных клиентов: 352\n",
    "\n",
    "* Предложить большую скидку на страхование имущества\n",
    "* Предложить скидку у партнерского агрегатора по продаже туристических путевок"
   ]
  },
  {
   "cell_type": "markdown",
   "metadata": {},
   "source": [
    "Для сегмента № 3  (высший приоритет)\n",
    "Доход клиента: от 100 до 240 тыс рублей  \n",
    "Баланс клиента: более 750 тыс рублей  \n",
    "Доля оттока: 0.397  \n",
    "Количество клиентов: 1543  \n",
    "Количество отточных клиентов: 612\n",
    "\n",
    "* Предложить бонус на проведение первых инвестиций в ценные бумаги на площадке банка или при отсутсвии таковой в ценные бумаги банка\n",
    "* Предложить повышенную ставку по вкладу"
   ]
  },
  {
   "cell_type": "markdown",
   "metadata": {},
   "source": [
    "Презентация исследования:  \n",
    "https://disk.yandex.ru/i/Mm5tnuf82VK0BA"
   ]
  }
 ],
 "metadata": {
  "ExecuteTimeLog": [
   {
    "duration": 1403,
    "start_time": "2025-03-21T09:54:01.220Z"
   },
   {
    "duration": 218,
    "start_time": "2025-03-21T09:54:34.747Z"
   },
   {
    "duration": 18,
    "start_time": "2025-03-21T09:55:29.196Z"
   },
   {
    "duration": 12,
    "start_time": "2025-03-21T10:08:05.053Z"
   },
   {
    "duration": 40,
    "start_time": "2025-03-21T10:09:26.813Z"
   },
   {
    "duration": 21,
    "start_time": "2025-03-21T10:09:57.888Z"
   },
   {
    "duration": 39,
    "start_time": "2025-03-21T10:10:50.268Z"
   },
   {
    "duration": 7,
    "start_time": "2025-03-21T10:14:50.381Z"
   },
   {
    "duration": 5,
    "start_time": "2025-03-21T10:15:45.741Z"
   },
   {
    "duration": 6,
    "start_time": "2025-03-21T10:16:02.320Z"
   },
   {
    "duration": 5,
    "start_time": "2025-03-21T10:16:35.394Z"
   },
   {
    "duration": 5,
    "start_time": "2025-03-21T10:17:03.600Z"
   },
   {
    "duration": 5,
    "start_time": "2025-03-21T10:17:06.890Z"
   },
   {
    "duration": 7,
    "start_time": "2025-03-21T10:17:15.278Z"
   },
   {
    "duration": 12,
    "start_time": "2025-03-21T10:17:53.797Z"
   },
   {
    "duration": 10,
    "start_time": "2025-03-21T10:18:01.027Z"
   },
   {
    "duration": 4,
    "start_time": "2025-03-21T10:25:37.789Z"
   },
   {
    "duration": 98,
    "start_time": "2025-03-21T10:27:35.023Z"
   },
   {
    "duration": 9,
    "start_time": "2025-03-21T10:28:56.471Z"
   },
   {
    "duration": 13,
    "start_time": "2025-03-21T10:29:02.208Z"
   },
   {
    "duration": 12,
    "start_time": "2025-03-21T10:29:07.674Z"
   },
   {
    "duration": 16,
    "start_time": "2025-03-21T10:30:39.400Z"
   },
   {
    "duration": 14,
    "start_time": "2025-03-21T10:31:04.397Z"
   },
   {
    "duration": 6,
    "start_time": "2025-03-21T10:33:23.601Z"
   },
   {
    "duration": 4,
    "start_time": "2025-03-21T10:33:45.854Z"
   },
   {
    "duration": 5,
    "start_time": "2025-03-21T10:33:54.540Z"
   },
   {
    "duration": 9,
    "start_time": "2025-03-21T10:34:07.636Z"
   },
   {
    "duration": 9,
    "start_time": "2025-03-21T10:34:14.016Z"
   },
   {
    "duration": 11,
    "start_time": "2025-03-21T10:34:18.398Z"
   },
   {
    "duration": 5,
    "start_time": "2025-03-21T10:43:26.527Z"
   },
   {
    "duration": 7,
    "start_time": "2025-03-21T10:44:39.444Z"
   },
   {
    "duration": 8,
    "start_time": "2025-03-21T10:46:26.109Z"
   },
   {
    "duration": 8,
    "start_time": "2025-03-21T10:46:45.553Z"
   },
   {
    "duration": 8,
    "start_time": "2025-03-21T10:47:20.857Z"
   },
   {
    "duration": 6,
    "start_time": "2025-03-21T10:47:44.360Z"
   },
   {
    "duration": 16,
    "start_time": "2025-03-21T10:54:39.788Z"
   },
   {
    "duration": 16,
    "start_time": "2025-03-21T10:54:42.996Z"
   },
   {
    "duration": 14,
    "start_time": "2025-03-21T11:00:50.805Z"
   },
   {
    "duration": 5,
    "start_time": "2025-03-21T11:14:21.646Z"
   },
   {
    "duration": 6,
    "start_time": "2025-03-21T11:14:53.279Z"
   },
   {
    "duration": 9,
    "start_time": "2025-03-21T11:14:58.796Z"
   },
   {
    "duration": 9,
    "start_time": "2025-03-21T11:15:24.184Z"
   },
   {
    "duration": 8,
    "start_time": "2025-03-21T11:15:29.583Z"
   },
   {
    "duration": 3,
    "start_time": "2025-03-21T11:15:55.773Z"
   },
   {
    "duration": 9,
    "start_time": "2025-03-21T11:15:57.585Z"
   },
   {
    "duration": 6,
    "start_time": "2025-03-21T11:16:10.286Z"
   },
   {
    "duration": 9,
    "start_time": "2025-03-21T11:16:14.565Z"
   },
   {
    "duration": 3,
    "start_time": "2025-03-21T11:16:16.778Z"
   },
   {
    "duration": 6,
    "start_time": "2025-03-21T11:16:18.680Z"
   },
   {
    "duration": 39,
    "start_time": "2025-03-21T11:16:35.754Z"
   },
   {
    "duration": 8,
    "start_time": "2025-03-21T11:16:58.883Z"
   },
   {
    "duration": 6,
    "start_time": "2025-03-21T11:17:23.578Z"
   },
   {
    "duration": 9,
    "start_time": "2025-03-21T11:17:28.971Z"
   },
   {
    "duration": 10,
    "start_time": "2025-03-21T11:17:52.474Z"
   },
   {
    "duration": 1246,
    "start_time": "2025-03-21T11:17:58.322Z"
   },
   {
    "duration": 0,
    "start_time": "2025-03-21T11:17:59.570Z"
   },
   {
    "duration": 0,
    "start_time": "2025-03-21T11:17:59.571Z"
   },
   {
    "duration": 0,
    "start_time": "2025-03-21T11:17:59.572Z"
   },
   {
    "duration": 0,
    "start_time": "2025-03-21T11:17:59.572Z"
   },
   {
    "duration": 0,
    "start_time": "2025-03-21T11:17:59.573Z"
   },
   {
    "duration": 0,
    "start_time": "2025-03-21T11:17:59.575Z"
   },
   {
    "duration": 0,
    "start_time": "2025-03-21T11:17:59.575Z"
   },
   {
    "duration": 0,
    "start_time": "2025-03-21T11:17:59.576Z"
   },
   {
    "duration": 0,
    "start_time": "2025-03-21T11:17:59.577Z"
   },
   {
    "duration": 0,
    "start_time": "2025-03-21T11:17:59.578Z"
   },
   {
    "duration": 0,
    "start_time": "2025-03-21T11:17:59.579Z"
   },
   {
    "duration": 0,
    "start_time": "2025-03-21T11:17:59.580Z"
   },
   {
    "duration": 0,
    "start_time": "2025-03-21T11:17:59.581Z"
   },
   {
    "duration": 0,
    "start_time": "2025-03-21T11:17:59.582Z"
   },
   {
    "duration": 0,
    "start_time": "2025-03-21T11:17:59.583Z"
   },
   {
    "duration": 0,
    "start_time": "2025-03-21T11:17:59.583Z"
   },
   {
    "duration": 0,
    "start_time": "2025-03-21T11:17:59.584Z"
   },
   {
    "duration": 0,
    "start_time": "2025-03-21T11:17:59.585Z"
   },
   {
    "duration": 0,
    "start_time": "2025-03-21T11:17:59.586Z"
   },
   {
    "duration": 0,
    "start_time": "2025-03-21T11:17:59.587Z"
   },
   {
    "duration": 0,
    "start_time": "2025-03-21T11:17:59.588Z"
   },
   {
    "duration": 1119,
    "start_time": "2025-03-21T11:18:46.289Z"
   },
   {
    "duration": 42,
    "start_time": "2025-03-21T11:18:47.410Z"
   },
   {
    "duration": 18,
    "start_time": "2025-03-21T11:18:47.454Z"
   },
   {
    "duration": 13,
    "start_time": "2025-03-21T11:18:47.475Z"
   },
   {
    "duration": 313,
    "start_time": "2025-03-21T11:18:47.490Z"
   },
   {
    "duration": 242,
    "start_time": "2025-03-21T11:18:47.805Z"
   },
   {
    "duration": 109,
    "start_time": "2025-03-21T11:18:48.048Z"
   },
   {
    "duration": 29,
    "start_time": "2025-03-21T11:18:48.159Z"
   },
   {
    "duration": 21,
    "start_time": "2025-03-21T11:18:48.189Z"
   },
   {
    "duration": 5,
    "start_time": "2025-03-21T11:18:48.212Z"
   },
   {
    "duration": 22,
    "start_time": "2025-03-21T11:18:48.218Z"
   },
   {
    "duration": 18,
    "start_time": "2025-03-21T11:18:48.242Z"
   },
   {
    "duration": 14,
    "start_time": "2025-03-21T11:18:48.261Z"
   },
   {
    "duration": 7,
    "start_time": "2025-03-21T11:18:48.277Z"
   },
   {
    "duration": 15,
    "start_time": "2025-03-21T11:18:48.285Z"
   },
   {
    "duration": 12,
    "start_time": "2025-03-21T11:18:48.302Z"
   },
   {
    "duration": 22,
    "start_time": "2025-03-21T11:18:48.315Z"
   },
   {
    "duration": 21,
    "start_time": "2025-03-21T11:18:48.338Z"
   },
   {
    "duration": 6,
    "start_time": "2025-03-21T11:18:48.360Z"
   },
   {
    "duration": 16,
    "start_time": "2025-03-21T11:18:48.367Z"
   },
   {
    "duration": 14,
    "start_time": "2025-03-21T11:18:48.385Z"
   },
   {
    "duration": 7,
    "start_time": "2025-03-21T11:18:48.401Z"
   },
   {
    "duration": 1186,
    "start_time": "2025-03-21T11:19:02.504Z"
   },
   {
    "duration": 33,
    "start_time": "2025-03-21T11:19:03.691Z"
   },
   {
    "duration": 23,
    "start_time": "2025-03-21T11:19:03.726Z"
   },
   {
    "duration": 17,
    "start_time": "2025-03-21T11:19:03.756Z"
   },
   {
    "duration": 82,
    "start_time": "2025-03-21T11:19:03.774Z"
   },
   {
    "duration": 7,
    "start_time": "2025-03-21T11:19:03.858Z"
   },
   {
    "duration": 14,
    "start_time": "2025-03-21T11:19:03.866Z"
   },
   {
    "duration": 22,
    "start_time": "2025-03-21T11:19:03.881Z"
   },
   {
    "duration": 11,
    "start_time": "2025-03-21T11:19:03.904Z"
   },
   {
    "duration": 4,
    "start_time": "2025-03-21T11:19:03.918Z"
   },
   {
    "duration": 54,
    "start_time": "2025-03-21T11:19:03.923Z"
   },
   {
    "duration": 16,
    "start_time": "2025-03-21T11:19:03.979Z"
   },
   {
    "duration": 33,
    "start_time": "2025-03-21T11:19:03.997Z"
   },
   {
    "duration": 21,
    "start_time": "2025-03-21T11:19:04.032Z"
   },
   {
    "duration": 18,
    "start_time": "2025-03-21T11:19:04.055Z"
   },
   {
    "duration": 8,
    "start_time": "2025-03-21T11:19:04.075Z"
   },
   {
    "duration": 24,
    "start_time": "2025-03-21T11:19:04.084Z"
   },
   {
    "duration": 25,
    "start_time": "2025-03-21T11:19:04.110Z"
   },
   {
    "duration": 33,
    "start_time": "2025-03-21T11:19:04.137Z"
   },
   {
    "duration": 22,
    "start_time": "2025-03-21T11:19:04.172Z"
   },
   {
    "duration": 16,
    "start_time": "2025-03-21T11:19:04.196Z"
   },
   {
    "duration": 7,
    "start_time": "2025-03-21T11:19:04.214Z"
   },
   {
    "duration": 34,
    "start_time": "2025-03-21T11:19:04.222Z"
   },
   {
    "duration": 96,
    "start_time": "2025-03-21T11:19:39.843Z"
   },
   {
    "duration": 5,
    "start_time": "2025-03-21T11:20:01.850Z"
   },
   {
    "duration": 1166,
    "start_time": "2025-03-21T11:20:08.089Z"
   },
   {
    "duration": 32,
    "start_time": "2025-03-21T11:20:09.257Z"
   },
   {
    "duration": 20,
    "start_time": "2025-03-21T11:20:09.291Z"
   },
   {
    "duration": 13,
    "start_time": "2025-03-21T11:20:09.313Z"
   },
   {
    "duration": 58,
    "start_time": "2025-03-21T11:20:09.328Z"
   },
   {
    "duration": 7,
    "start_time": "2025-03-21T11:20:09.388Z"
   },
   {
    "duration": 5,
    "start_time": "2025-03-21T11:20:09.397Z"
   },
   {
    "duration": 6,
    "start_time": "2025-03-21T11:20:09.403Z"
   },
   {
    "duration": 20,
    "start_time": "2025-03-21T11:20:09.410Z"
   },
   {
    "duration": 4,
    "start_time": "2025-03-21T11:20:09.455Z"
   },
   {
    "duration": 27,
    "start_time": "2025-03-21T11:20:09.461Z"
   },
   {
    "duration": 30,
    "start_time": "2025-03-21T11:20:09.490Z"
   },
   {
    "duration": 35,
    "start_time": "2025-03-21T11:20:09.522Z"
   },
   {
    "duration": 4,
    "start_time": "2025-03-21T11:20:09.560Z"
   },
   {
    "duration": 11,
    "start_time": "2025-03-21T11:20:09.566Z"
   },
   {
    "duration": 7,
    "start_time": "2025-03-21T11:20:09.578Z"
   },
   {
    "duration": 6,
    "start_time": "2025-03-21T11:20:09.586Z"
   },
   {
    "duration": 8,
    "start_time": "2025-03-21T11:20:09.593Z"
   },
   {
    "duration": 5,
    "start_time": "2025-03-21T11:20:09.603Z"
   },
   {
    "duration": 47,
    "start_time": "2025-03-21T11:20:09.610Z"
   },
   {
    "duration": 13,
    "start_time": "2025-03-21T11:20:09.658Z"
   },
   {
    "duration": 9,
    "start_time": "2025-03-21T11:20:09.672Z"
   },
   {
    "duration": 7,
    "start_time": "2025-03-21T11:20:09.682Z"
   },
   {
    "duration": 1158,
    "start_time": "2025-03-21T11:23:29.693Z"
   },
   {
    "duration": 34,
    "start_time": "2025-03-21T11:23:30.855Z"
   },
   {
    "duration": 18,
    "start_time": "2025-03-21T11:23:30.891Z"
   },
   {
    "duration": 23,
    "start_time": "2025-03-21T11:23:30.911Z"
   },
   {
    "duration": 48,
    "start_time": "2025-03-21T11:23:30.936Z"
   },
   {
    "duration": 7,
    "start_time": "2025-03-21T11:23:30.986Z"
   },
   {
    "duration": 26,
    "start_time": "2025-03-21T11:23:30.994Z"
   },
   {
    "duration": 12,
    "start_time": "2025-03-21T11:23:31.021Z"
   },
   {
    "duration": 29,
    "start_time": "2025-03-21T11:23:31.035Z"
   },
   {
    "duration": 4,
    "start_time": "2025-03-21T11:23:31.067Z"
   },
   {
    "duration": 39,
    "start_time": "2025-03-21T11:23:31.072Z"
   },
   {
    "duration": 58,
    "start_time": "2025-03-21T11:23:31.113Z"
   },
   {
    "duration": 5,
    "start_time": "2025-03-21T11:23:31.172Z"
   },
   {
    "duration": 24,
    "start_time": "2025-03-21T11:23:31.178Z"
   },
   {
    "duration": 76,
    "start_time": "2025-03-21T11:23:31.204Z"
   },
   {
    "duration": 28,
    "start_time": "2025-03-21T11:23:31.282Z"
   },
   {
    "duration": 6,
    "start_time": "2025-03-21T11:23:31.311Z"
   },
   {
    "duration": 22,
    "start_time": "2025-03-21T11:23:31.318Z"
   },
   {
    "duration": 23,
    "start_time": "2025-03-21T11:23:31.342Z"
   },
   {
    "duration": 40,
    "start_time": "2025-03-21T11:23:31.367Z"
   },
   {
    "duration": 14,
    "start_time": "2025-03-21T11:23:31.408Z"
   },
   {
    "duration": 3,
    "start_time": "2025-03-21T11:23:31.424Z"
   },
   {
    "duration": 26,
    "start_time": "2025-03-21T11:23:31.429Z"
   },
   {
    "duration": 5,
    "start_time": "2025-03-21T11:25:58.149Z"
   },
   {
    "duration": 4,
    "start_time": "2025-03-21T11:26:06.906Z"
   },
   {
    "duration": 5,
    "start_time": "2025-03-21T11:26:35.495Z"
   },
   {
    "duration": 5,
    "start_time": "2025-03-21T11:26:50.839Z"
   },
   {
    "duration": 4,
    "start_time": "2025-03-21T11:27:00.937Z"
   },
   {
    "duration": 14,
    "start_time": "2025-03-21T11:47:29.750Z"
   },
   {
    "duration": 13,
    "start_time": "2025-03-21T11:52:10.445Z"
   },
   {
    "duration": 1112,
    "start_time": "2025-03-21T11:52:24.301Z"
   },
   {
    "duration": 42,
    "start_time": "2025-03-21T11:52:25.415Z"
   },
   {
    "duration": 18,
    "start_time": "2025-03-21T11:52:25.459Z"
   },
   {
    "duration": 14,
    "start_time": "2025-03-21T11:52:25.479Z"
   },
   {
    "duration": 41,
    "start_time": "2025-03-21T11:52:25.495Z"
   },
   {
    "duration": 8,
    "start_time": "2025-03-21T11:52:25.555Z"
   },
   {
    "duration": 26,
    "start_time": "2025-03-21T11:52:25.565Z"
   },
   {
    "duration": 7,
    "start_time": "2025-03-21T11:52:25.593Z"
   },
   {
    "duration": 17,
    "start_time": "2025-03-21T11:52:25.601Z"
   },
   {
    "duration": 5,
    "start_time": "2025-03-21T11:52:25.622Z"
   },
   {
    "duration": 35,
    "start_time": "2025-03-21T11:52:25.628Z"
   },
   {
    "duration": 10,
    "start_time": "2025-03-21T11:52:25.665Z"
   },
   {
    "duration": 16,
    "start_time": "2025-03-21T11:52:25.677Z"
   },
   {
    "duration": 22,
    "start_time": "2025-03-21T11:52:25.694Z"
   },
   {
    "duration": 25,
    "start_time": "2025-03-21T11:52:25.718Z"
   },
   {
    "duration": 9,
    "start_time": "2025-03-21T11:52:25.745Z"
   },
   {
    "duration": 6,
    "start_time": "2025-03-21T11:52:25.756Z"
   },
   {
    "duration": 34,
    "start_time": "2025-03-21T11:52:25.764Z"
   },
   {
    "duration": 7,
    "start_time": "2025-03-21T11:52:25.799Z"
   },
   {
    "duration": 23,
    "start_time": "2025-03-21T11:52:25.808Z"
   },
   {
    "duration": 18,
    "start_time": "2025-03-21T11:52:25.833Z"
   },
   {
    "duration": 4,
    "start_time": "2025-03-21T11:52:25.852Z"
   },
   {
    "duration": 19,
    "start_time": "2025-03-21T11:52:25.857Z"
   },
   {
    "duration": 5,
    "start_time": "2025-03-21T11:52:25.878Z"
   },
   {
    "duration": 5,
    "start_time": "2025-03-21T11:52:25.884Z"
   },
   {
    "duration": 5,
    "start_time": "2025-03-21T11:52:25.890Z"
   },
   {
    "duration": 6,
    "start_time": "2025-03-21T11:52:25.896Z"
   },
   {
    "duration": 4,
    "start_time": "2025-03-21T11:52:25.905Z"
   },
   {
    "duration": 15,
    "start_time": "2025-03-21T11:52:25.910Z"
   },
   {
    "duration": 11,
    "start_time": "2025-03-21T11:53:25.039Z"
   },
   {
    "duration": 103,
    "start_time": "2025-03-21T11:53:33.775Z"
   },
   {
    "duration": 13,
    "start_time": "2025-03-21T11:53:59.884Z"
   },
   {
    "duration": 13,
    "start_time": "2025-03-21T11:54:03.107Z"
   },
   {
    "duration": 12,
    "start_time": "2025-03-21T11:54:25.062Z"
   },
   {
    "duration": 1180,
    "start_time": "2025-03-21T11:54:34.522Z"
   },
   {
    "duration": 31,
    "start_time": "2025-03-21T11:54:35.704Z"
   },
   {
    "duration": 19,
    "start_time": "2025-03-21T11:54:35.737Z"
   },
   {
    "duration": 16,
    "start_time": "2025-03-21T11:54:35.759Z"
   },
   {
    "duration": 41,
    "start_time": "2025-03-21T11:54:35.776Z"
   },
   {
    "duration": 7,
    "start_time": "2025-03-21T11:54:35.819Z"
   },
   {
    "duration": 28,
    "start_time": "2025-03-21T11:54:35.827Z"
   },
   {
    "duration": 6,
    "start_time": "2025-03-21T11:54:35.857Z"
   },
   {
    "duration": 34,
    "start_time": "2025-03-21T11:54:35.864Z"
   },
   {
    "duration": 24,
    "start_time": "2025-03-21T11:54:35.901Z"
   },
   {
    "duration": 35,
    "start_time": "2025-03-21T11:54:35.927Z"
   },
   {
    "duration": 5,
    "start_time": "2025-03-21T11:54:35.964Z"
   },
   {
    "duration": 6,
    "start_time": "2025-03-21T11:54:35.971Z"
   },
   {
    "duration": 33,
    "start_time": "2025-03-21T11:54:35.979Z"
   },
   {
    "duration": 25,
    "start_time": "2025-03-21T11:54:36.014Z"
   },
   {
    "duration": 21,
    "start_time": "2025-03-21T11:54:36.040Z"
   },
   {
    "duration": 16,
    "start_time": "2025-03-21T11:54:36.063Z"
   },
   {
    "duration": 27,
    "start_time": "2025-03-21T11:54:36.080Z"
   },
   {
    "duration": 13,
    "start_time": "2025-03-21T11:54:36.108Z"
   },
   {
    "duration": 31,
    "start_time": "2025-03-21T11:54:36.123Z"
   },
   {
    "duration": 12,
    "start_time": "2025-03-21T11:54:36.156Z"
   },
   {
    "duration": 27,
    "start_time": "2025-03-21T11:54:36.169Z"
   },
   {
    "duration": 51,
    "start_time": "2025-03-21T11:54:36.198Z"
   },
   {
    "duration": 15,
    "start_time": "2025-03-21T11:54:36.251Z"
   },
   {
    "duration": 4,
    "start_time": "2025-03-21T11:54:36.268Z"
   },
   {
    "duration": 11,
    "start_time": "2025-03-21T11:54:36.273Z"
   },
   {
    "duration": 20,
    "start_time": "2025-03-21T11:54:36.285Z"
   },
   {
    "duration": 10,
    "start_time": "2025-03-21T11:54:36.308Z"
   },
   {
    "duration": 13,
    "start_time": "2025-03-21T11:54:36.320Z"
   },
   {
    "duration": 40,
    "start_time": "2025-03-21T11:54:36.334Z"
   },
   {
    "duration": 42,
    "start_time": "2025-03-21T11:54:36.376Z"
   },
   {
    "duration": 6,
    "start_time": "2025-03-21T12:07:08.872Z"
   },
   {
    "duration": 11,
    "start_time": "2025-03-21T12:07:19.481Z"
   },
   {
    "duration": 1164,
    "start_time": "2025-03-21T12:13:38.549Z"
   },
   {
    "duration": 31,
    "start_time": "2025-03-21T12:13:39.715Z"
   },
   {
    "duration": 20,
    "start_time": "2025-03-21T12:13:39.748Z"
   },
   {
    "duration": 35,
    "start_time": "2025-03-21T12:13:39.771Z"
   },
   {
    "duration": 42,
    "start_time": "2025-03-21T12:13:39.808Z"
   },
   {
    "duration": 8,
    "start_time": "2025-03-21T12:13:39.852Z"
   },
   {
    "duration": 5,
    "start_time": "2025-03-21T12:13:39.862Z"
   },
   {
    "duration": 16,
    "start_time": "2025-03-21T12:13:39.868Z"
   },
   {
    "duration": 21,
    "start_time": "2025-03-21T12:13:39.885Z"
   },
   {
    "duration": 6,
    "start_time": "2025-03-21T12:13:39.908Z"
   },
   {
    "duration": 14,
    "start_time": "2025-03-21T12:13:39.915Z"
   },
   {
    "duration": 4,
    "start_time": "2025-03-21T12:13:39.930Z"
   },
   {
    "duration": 31,
    "start_time": "2025-03-21T12:13:39.935Z"
   },
   {
    "duration": 20,
    "start_time": "2025-03-21T12:13:39.967Z"
   },
   {
    "duration": 16,
    "start_time": "2025-03-21T12:13:39.989Z"
   },
   {
    "duration": 17,
    "start_time": "2025-03-21T12:13:40.007Z"
   },
   {
    "duration": 16,
    "start_time": "2025-03-21T12:13:40.025Z"
   },
   {
    "duration": 25,
    "start_time": "2025-03-21T12:13:40.043Z"
   },
   {
    "duration": 21,
    "start_time": "2025-03-21T12:13:40.070Z"
   },
   {
    "duration": 15,
    "start_time": "2025-03-21T12:13:40.092Z"
   },
   {
    "duration": 14,
    "start_time": "2025-03-21T12:13:40.108Z"
   },
   {
    "duration": 4,
    "start_time": "2025-03-21T12:13:40.124Z"
   },
   {
    "duration": 14,
    "start_time": "2025-03-21T12:13:40.129Z"
   },
   {
    "duration": 10,
    "start_time": "2025-03-21T12:13:40.145Z"
   },
   {
    "duration": 4,
    "start_time": "2025-03-21T12:13:40.156Z"
   },
   {
    "duration": 8,
    "start_time": "2025-03-21T12:13:40.162Z"
   },
   {
    "duration": 6,
    "start_time": "2025-03-21T12:13:40.172Z"
   },
   {
    "duration": 5,
    "start_time": "2025-03-21T12:13:40.181Z"
   },
   {
    "duration": 6,
    "start_time": "2025-03-21T12:13:40.187Z"
   },
   {
    "duration": 13,
    "start_time": "2025-03-21T12:13:40.195Z"
   },
   {
    "duration": 20,
    "start_time": "2025-03-21T12:13:40.210Z"
   },
   {
    "duration": 27,
    "start_time": "2025-03-21T12:13:40.232Z"
   },
   {
    "duration": 12,
    "start_time": "2025-03-21T12:13:40.261Z"
   },
   {
    "duration": 12,
    "start_time": "2025-03-21T12:13:40.274Z"
   },
   {
    "duration": 79,
    "start_time": "2025-03-21T12:14:36.487Z"
   },
   {
    "duration": 4,
    "start_time": "2025-03-21T12:14:41.685Z"
   },
   {
    "duration": 5,
    "start_time": "2025-03-21T12:14:45.894Z"
   },
   {
    "duration": 12,
    "start_time": "2025-03-21T12:15:19.590Z"
   },
   {
    "duration": 14,
    "start_time": "2025-03-21T12:15:22.316Z"
   },
   {
    "duration": 5,
    "start_time": "2025-03-21T12:27:42.537Z"
   },
   {
    "duration": 13,
    "start_time": "2025-03-21T12:27:50.063Z"
   },
   {
    "duration": 17,
    "start_time": "2025-03-21T12:32:53.279Z"
   },
   {
    "duration": 13,
    "start_time": "2025-03-21T12:33:44.278Z"
   },
   {
    "duration": 14,
    "start_time": "2025-03-21T12:34:08.294Z"
   },
   {
    "duration": 13,
    "start_time": "2025-03-21T12:34:41.358Z"
   },
   {
    "duration": 13,
    "start_time": "2025-03-21T12:34:49.221Z"
   },
   {
    "duration": 15,
    "start_time": "2025-03-21T12:34:59.711Z"
   },
   {
    "duration": 1182,
    "start_time": "2025-03-21T12:35:14.255Z"
   },
   {
    "duration": 31,
    "start_time": "2025-03-21T12:35:15.439Z"
   },
   {
    "duration": 78,
    "start_time": "2025-03-21T12:35:15.472Z"
   },
   {
    "duration": 52,
    "start_time": "2025-03-21T12:35:15.551Z"
   },
   {
    "duration": 90,
    "start_time": "2025-03-21T12:35:15.605Z"
   },
   {
    "duration": 113,
    "start_time": "2025-03-21T12:35:15.697Z"
   },
   {
    "duration": 14,
    "start_time": "2025-03-21T12:35:15.812Z"
   },
   {
    "duration": 24,
    "start_time": "2025-03-21T12:35:15.827Z"
   },
   {
    "duration": 31,
    "start_time": "2025-03-21T12:35:15.853Z"
   },
   {
    "duration": 27,
    "start_time": "2025-03-21T12:35:15.885Z"
   },
   {
    "duration": 12,
    "start_time": "2025-03-21T12:35:15.913Z"
   },
   {
    "duration": 18,
    "start_time": "2025-03-21T12:35:15.927Z"
   },
   {
    "duration": 4,
    "start_time": "2025-03-21T12:35:15.947Z"
   },
   {
    "duration": 9,
    "start_time": "2025-03-21T12:35:15.953Z"
   },
   {
    "duration": 5,
    "start_time": "2025-03-21T12:35:15.964Z"
   },
   {
    "duration": 9,
    "start_time": "2025-03-21T12:35:15.970Z"
   },
   {
    "duration": 14,
    "start_time": "2025-03-21T12:35:15.980Z"
   },
   {
    "duration": 16,
    "start_time": "2025-03-21T12:35:15.996Z"
   },
   {
    "duration": 12,
    "start_time": "2025-03-21T12:35:16.014Z"
   },
   {
    "duration": 5,
    "start_time": "2025-03-21T12:35:16.027Z"
   },
   {
    "duration": 22,
    "start_time": "2025-03-21T12:35:16.033Z"
   },
   {
    "duration": 5,
    "start_time": "2025-03-21T12:35:16.057Z"
   },
   {
    "duration": 18,
    "start_time": "2025-03-21T12:35:16.064Z"
   },
   {
    "duration": 19,
    "start_time": "2025-03-21T12:35:16.084Z"
   },
   {
    "duration": 17,
    "start_time": "2025-03-21T12:35:16.104Z"
   },
   {
    "duration": 38,
    "start_time": "2025-03-21T12:35:16.122Z"
   },
   {
    "duration": 16,
    "start_time": "2025-03-21T12:35:16.161Z"
   },
   {
    "duration": 16,
    "start_time": "2025-03-21T12:35:16.179Z"
   },
   {
    "duration": 7,
    "start_time": "2025-03-21T12:35:16.197Z"
   },
   {
    "duration": 7,
    "start_time": "2025-03-21T12:35:16.206Z"
   },
   {
    "duration": 17,
    "start_time": "2025-03-21T12:35:16.214Z"
   },
   {
    "duration": 26,
    "start_time": "2025-03-21T12:35:16.233Z"
   },
   {
    "duration": 5,
    "start_time": "2025-03-21T12:35:16.260Z"
   },
   {
    "duration": 9,
    "start_time": "2025-03-21T12:35:16.266Z"
   },
   {
    "duration": 4,
    "start_time": "2025-03-21T12:35:16.277Z"
   },
   {
    "duration": 6,
    "start_time": "2025-03-21T12:35:16.282Z"
   },
   {
    "duration": 6,
    "start_time": "2025-03-21T12:35:16.289Z"
   },
   {
    "duration": 12,
    "start_time": "2025-03-21T12:35:16.297Z"
   },
   {
    "duration": 1124,
    "start_time": "2025-03-21T12:49:26.008Z"
   },
   {
    "duration": 32,
    "start_time": "2025-03-21T12:49:27.133Z"
   },
   {
    "duration": 18,
    "start_time": "2025-03-21T12:49:27.167Z"
   },
   {
    "duration": 16,
    "start_time": "2025-03-21T12:49:27.186Z"
   },
   {
    "duration": 60,
    "start_time": "2025-03-21T12:49:27.205Z"
   },
   {
    "duration": 6,
    "start_time": "2025-03-21T12:49:27.267Z"
   },
   {
    "duration": 6,
    "start_time": "2025-03-21T12:49:27.275Z"
   },
   {
    "duration": 6,
    "start_time": "2025-03-21T12:49:27.283Z"
   },
   {
    "duration": 10,
    "start_time": "2025-03-21T12:49:27.290Z"
   },
   {
    "duration": 4,
    "start_time": "2025-03-21T12:49:27.301Z"
   },
   {
    "duration": 13,
    "start_time": "2025-03-21T12:49:27.307Z"
   },
   {
    "duration": 47,
    "start_time": "2025-03-21T12:49:27.321Z"
   },
   {
    "duration": 3,
    "start_time": "2025-03-21T12:49:27.370Z"
   },
   {
    "duration": 9,
    "start_time": "2025-03-21T12:49:27.376Z"
   },
   {
    "duration": 4,
    "start_time": "2025-03-21T12:49:27.387Z"
   },
   {
    "duration": 7,
    "start_time": "2025-03-21T12:49:27.393Z"
   },
   {
    "duration": 14,
    "start_time": "2025-03-21T12:49:27.401Z"
   },
   {
    "duration": 47,
    "start_time": "2025-03-21T12:49:27.416Z"
   },
   {
    "duration": 12,
    "start_time": "2025-03-21T12:49:27.464Z"
   },
   {
    "duration": 83,
    "start_time": "2025-03-21T12:49:27.477Z"
   },
   {
    "duration": 24,
    "start_time": "2025-03-21T12:49:27.562Z"
   },
   {
    "duration": 3,
    "start_time": "2025-03-21T12:49:27.588Z"
   },
   {
    "duration": 13,
    "start_time": "2025-03-21T12:49:27.593Z"
   },
   {
    "duration": 13,
    "start_time": "2025-03-21T12:49:27.607Z"
   },
   {
    "duration": 13,
    "start_time": "2025-03-21T12:49:27.621Z"
   },
   {
    "duration": 24,
    "start_time": "2025-03-21T12:49:27.636Z"
   },
   {
    "duration": 16,
    "start_time": "2025-03-21T12:49:27.662Z"
   },
   {
    "duration": 58,
    "start_time": "2025-03-21T12:49:27.680Z"
   },
   {
    "duration": 91,
    "start_time": "2025-03-21T12:49:27.740Z"
   },
   {
    "duration": 14,
    "start_time": "2025-03-21T12:49:27.832Z"
   },
   {
    "duration": 18,
    "start_time": "2025-03-21T12:49:27.847Z"
   },
   {
    "duration": 5,
    "start_time": "2025-03-21T12:49:27.866Z"
   },
   {
    "duration": 10,
    "start_time": "2025-03-21T12:49:27.872Z"
   },
   {
    "duration": 9,
    "start_time": "2025-03-21T12:49:27.883Z"
   },
   {
    "duration": 5,
    "start_time": "2025-03-21T12:49:27.893Z"
   },
   {
    "duration": 12,
    "start_time": "2025-03-21T12:49:27.900Z"
   },
   {
    "duration": 21,
    "start_time": "2025-03-21T12:49:27.913Z"
   },
   {
    "duration": 18,
    "start_time": "2025-03-21T12:49:27.936Z"
   },
   {
    "duration": 49,
    "start_time": "2025-03-22T05:35:24.163Z"
   },
   {
    "duration": 1458,
    "start_time": "2025-03-22T05:35:31.356Z"
   },
   {
    "duration": 76,
    "start_time": "2025-03-22T05:35:32.816Z"
   },
   {
    "duration": 18,
    "start_time": "2025-03-22T05:35:32.893Z"
   },
   {
    "duration": 140,
    "start_time": "2025-03-22T05:35:32.913Z"
   },
   {
    "duration": 41,
    "start_time": "2025-03-22T05:35:33.055Z"
   },
   {
    "duration": 8,
    "start_time": "2025-03-22T05:35:33.098Z"
   },
   {
    "duration": 27,
    "start_time": "2025-03-22T05:35:33.107Z"
   },
   {
    "duration": 6,
    "start_time": "2025-03-22T05:35:33.137Z"
   },
   {
    "duration": 22,
    "start_time": "2025-03-22T05:35:33.145Z"
   },
   {
    "duration": 21,
    "start_time": "2025-03-22T05:35:33.170Z"
   },
   {
    "duration": 36,
    "start_time": "2025-03-22T05:35:33.192Z"
   },
   {
    "duration": 33,
    "start_time": "2025-03-22T05:35:33.229Z"
   },
   {
    "duration": 10,
    "start_time": "2025-03-22T05:35:33.263Z"
   },
   {
    "duration": 31,
    "start_time": "2025-03-22T05:35:33.274Z"
   },
   {
    "duration": 21,
    "start_time": "2025-03-22T05:35:33.307Z"
   },
   {
    "duration": 16,
    "start_time": "2025-03-22T05:35:33.330Z"
   },
   {
    "duration": 19,
    "start_time": "2025-03-22T05:35:33.348Z"
   },
   {
    "duration": 28,
    "start_time": "2025-03-22T05:35:33.369Z"
   },
   {
    "duration": 33,
    "start_time": "2025-03-22T05:35:33.399Z"
   },
   {
    "duration": 74,
    "start_time": "2025-03-22T05:35:33.434Z"
   },
   {
    "duration": 24,
    "start_time": "2025-03-22T05:35:33.510Z"
   },
   {
    "duration": 16,
    "start_time": "2025-03-22T05:35:33.536Z"
   },
   {
    "duration": 48,
    "start_time": "2025-03-22T05:35:33.553Z"
   },
   {
    "duration": 26,
    "start_time": "2025-03-22T05:35:33.603Z"
   },
   {
    "duration": 20,
    "start_time": "2025-03-22T05:35:33.631Z"
   },
   {
    "duration": 16,
    "start_time": "2025-03-22T05:35:33.652Z"
   },
   {
    "duration": 13,
    "start_time": "2025-03-22T05:35:33.670Z"
   },
   {
    "duration": 14,
    "start_time": "2025-03-22T05:35:33.687Z"
   },
   {
    "duration": 30,
    "start_time": "2025-03-22T05:35:33.703Z"
   },
   {
    "duration": 8,
    "start_time": "2025-03-22T05:35:33.735Z"
   },
   {
    "duration": 22,
    "start_time": "2025-03-22T05:35:33.746Z"
   },
   {
    "duration": 5,
    "start_time": "2025-03-22T05:35:33.769Z"
   },
   {
    "duration": 37,
    "start_time": "2025-03-22T05:35:33.775Z"
   },
   {
    "duration": 31,
    "start_time": "2025-03-22T05:35:33.814Z"
   },
   {
    "duration": 38,
    "start_time": "2025-03-22T05:35:33.847Z"
   },
   {
    "duration": 16,
    "start_time": "2025-03-22T05:35:33.886Z"
   },
   {
    "duration": 8,
    "start_time": "2025-03-22T05:35:33.904Z"
   },
   {
    "duration": 34,
    "start_time": "2025-03-22T05:35:33.913Z"
   },
   {
    "duration": 1329,
    "start_time": "2025-03-22T05:35:33.949Z"
   },
   {
    "duration": 3,
    "start_time": "2025-03-22T05:36:19.504Z"
   },
   {
    "duration": 1213,
    "start_time": "2025-03-22T05:36:21.984Z"
   },
   {
    "duration": 3,
    "start_time": "2025-03-22T05:36:31.625Z"
   },
   {
    "duration": 1449,
    "start_time": "2025-03-22T05:36:33.960Z"
   },
   {
    "duration": 4,
    "start_time": "2025-03-22T05:36:42.304Z"
   },
   {
    "duration": 1559,
    "start_time": "2025-03-22T05:36:43.352Z"
   },
   {
    "duration": 7,
    "start_time": "2025-03-22T05:36:53.929Z"
   },
   {
    "duration": 1395,
    "start_time": "2025-03-22T05:36:54.816Z"
   },
   {
    "duration": 1452,
    "start_time": "2025-03-22T05:44:01.784Z"
   },
   {
    "duration": 320,
    "start_time": "2025-03-22T05:47:46.847Z"
   },
   {
    "duration": 1506,
    "start_time": "2025-03-22T05:48:50.798Z"
   },
   {
    "duration": 3,
    "start_time": "2025-03-22T05:51:54.389Z"
   },
   {
    "duration": 1396,
    "start_time": "2025-03-22T05:51:55.357Z"
   },
   {
    "duration": 48,
    "start_time": "2025-03-22T05:54:47.165Z"
   },
   {
    "duration": 1112,
    "start_time": "2025-03-22T05:54:55.765Z"
   },
   {
    "duration": 64,
    "start_time": "2025-03-22T05:54:56.879Z"
   },
   {
    "duration": 17,
    "start_time": "2025-03-22T05:54:56.945Z"
   },
   {
    "duration": 119,
    "start_time": "2025-03-22T05:54:56.964Z"
   },
   {
    "duration": 66,
    "start_time": "2025-03-22T05:54:57.085Z"
   },
   {
    "duration": 7,
    "start_time": "2025-03-22T05:54:57.153Z"
   },
   {
    "duration": 12,
    "start_time": "2025-03-22T05:54:57.162Z"
   },
   {
    "duration": 5,
    "start_time": "2025-03-22T05:54:57.176Z"
   },
   {
    "duration": 16,
    "start_time": "2025-03-22T05:54:57.183Z"
   },
   {
    "duration": 6,
    "start_time": "2025-03-22T05:54:57.231Z"
   },
   {
    "duration": 33,
    "start_time": "2025-03-22T05:54:57.239Z"
   },
   {
    "duration": 17,
    "start_time": "2025-03-22T05:54:57.274Z"
   },
   {
    "duration": 4,
    "start_time": "2025-03-22T05:54:57.292Z"
   },
   {
    "duration": 33,
    "start_time": "2025-03-22T05:54:57.298Z"
   },
   {
    "duration": 4,
    "start_time": "2025-03-22T05:54:57.333Z"
   },
   {
    "duration": 12,
    "start_time": "2025-03-22T05:54:57.338Z"
   },
   {
    "duration": 13,
    "start_time": "2025-03-22T05:54:57.352Z"
   },
   {
    "duration": 23,
    "start_time": "2025-03-22T05:54:57.366Z"
   },
   {
    "duration": 16,
    "start_time": "2025-03-22T05:54:57.391Z"
   },
   {
    "duration": 4,
    "start_time": "2025-03-22T05:54:57.430Z"
   },
   {
    "duration": 5,
    "start_time": "2025-03-22T05:54:57.435Z"
   },
   {
    "duration": 3,
    "start_time": "2025-03-22T05:54:57.442Z"
   },
   {
    "duration": 14,
    "start_time": "2025-03-22T05:54:57.447Z"
   },
   {
    "duration": 13,
    "start_time": "2025-03-22T05:54:57.462Z"
   },
   {
    "duration": 53,
    "start_time": "2025-03-22T05:54:57.477Z"
   },
   {
    "duration": 12,
    "start_time": "2025-03-22T05:54:57.532Z"
   },
   {
    "duration": 99,
    "start_time": "2025-03-22T05:54:57.545Z"
   },
   {
    "duration": 7,
    "start_time": "2025-03-22T05:54:57.647Z"
   },
   {
    "duration": 7,
    "start_time": "2025-03-22T05:54:57.655Z"
   },
   {
    "duration": 10,
    "start_time": "2025-03-22T05:54:57.663Z"
   },
   {
    "duration": 19,
    "start_time": "2025-03-22T05:54:57.674Z"
   },
   {
    "duration": 4,
    "start_time": "2025-03-22T05:54:57.695Z"
   },
   {
    "duration": 9,
    "start_time": "2025-03-22T05:54:57.700Z"
   },
   {
    "duration": 23,
    "start_time": "2025-03-22T05:54:57.710Z"
   },
   {
    "duration": 12,
    "start_time": "2025-03-22T05:54:57.735Z"
   },
   {
    "duration": 4,
    "start_time": "2025-03-22T05:54:57.748Z"
   },
   {
    "duration": 14,
    "start_time": "2025-03-22T05:54:57.754Z"
   },
   {
    "duration": 17,
    "start_time": "2025-03-22T05:54:57.769Z"
   },
   {
    "duration": 3,
    "start_time": "2025-03-22T05:54:57.788Z"
   },
   {
    "duration": 1356,
    "start_time": "2025-03-22T05:54:57.792Z"
   },
   {
    "duration": 6102,
    "start_time": "2025-03-22T05:54:59.149Z"
   },
   {
    "duration": 6133,
    "start_time": "2025-03-22T06:00:14.624Z"
   },
   {
    "duration": 6143,
    "start_time": "2025-03-22T06:00:54.263Z"
   },
   {
    "duration": 6180,
    "start_time": "2025-03-22T06:01:10.360Z"
   },
   {
    "duration": 6140,
    "start_time": "2025-03-22T06:01:41.303Z"
   },
   {
    "duration": 5979,
    "start_time": "2025-03-22T06:02:22.327Z"
   },
   {
    "duration": 49,
    "start_time": "2025-03-22T06:03:27.479Z"
   },
   {
    "duration": 1235,
    "start_time": "2025-03-22T06:03:33.919Z"
   },
   {
    "duration": 67,
    "start_time": "2025-03-22T06:03:35.156Z"
   },
   {
    "duration": 18,
    "start_time": "2025-03-22T06:03:35.224Z"
   },
   {
    "duration": 27,
    "start_time": "2025-03-22T06:03:35.244Z"
   },
   {
    "duration": 51,
    "start_time": "2025-03-22T06:03:35.273Z"
   },
   {
    "duration": 7,
    "start_time": "2025-03-22T06:03:35.325Z"
   },
   {
    "duration": 17,
    "start_time": "2025-03-22T06:03:35.333Z"
   },
   {
    "duration": 5,
    "start_time": "2025-03-22T06:03:35.351Z"
   },
   {
    "duration": 14,
    "start_time": "2025-03-22T06:03:35.357Z"
   },
   {
    "duration": 24,
    "start_time": "2025-03-22T06:03:35.373Z"
   },
   {
    "duration": 12,
    "start_time": "2025-03-22T06:03:35.399Z"
   },
   {
    "duration": 24,
    "start_time": "2025-03-22T06:03:35.413Z"
   },
   {
    "duration": 5,
    "start_time": "2025-03-22T06:03:35.439Z"
   },
   {
    "duration": 9,
    "start_time": "2025-03-22T06:03:35.446Z"
   },
   {
    "duration": 27,
    "start_time": "2025-03-22T06:03:35.456Z"
   },
   {
    "duration": 10,
    "start_time": "2025-03-22T06:03:35.485Z"
   },
   {
    "duration": 34,
    "start_time": "2025-03-22T06:03:35.496Z"
   },
   {
    "duration": 23,
    "start_time": "2025-03-22T06:03:35.532Z"
   },
   {
    "duration": 13,
    "start_time": "2025-03-22T06:03:35.556Z"
   },
   {
    "duration": 65,
    "start_time": "2025-03-22T06:03:35.570Z"
   },
   {
    "duration": 13,
    "start_time": "2025-03-22T06:03:35.637Z"
   },
   {
    "duration": 4,
    "start_time": "2025-03-22T06:03:35.652Z"
   },
   {
    "duration": 25,
    "start_time": "2025-03-22T06:03:35.657Z"
   },
   {
    "duration": 17,
    "start_time": "2025-03-22T06:03:35.683Z"
   },
   {
    "duration": 29,
    "start_time": "2025-03-22T06:03:35.701Z"
   },
   {
    "duration": 14,
    "start_time": "2025-03-22T06:03:35.731Z"
   },
   {
    "duration": 11,
    "start_time": "2025-03-22T06:03:35.746Z"
   },
   {
    "duration": 30,
    "start_time": "2025-03-22T06:03:35.760Z"
   },
   {
    "duration": 28,
    "start_time": "2025-03-22T06:03:35.792Z"
   },
   {
    "duration": 17,
    "start_time": "2025-03-22T06:03:35.822Z"
   },
   {
    "duration": 29,
    "start_time": "2025-03-22T06:03:35.840Z"
   },
   {
    "duration": 4,
    "start_time": "2025-03-22T06:03:35.871Z"
   },
   {
    "duration": 30,
    "start_time": "2025-03-22T06:03:35.877Z"
   },
   {
    "duration": 42,
    "start_time": "2025-03-22T06:03:35.909Z"
   },
   {
    "duration": 13,
    "start_time": "2025-03-22T06:03:35.952Z"
   },
   {
    "duration": 26,
    "start_time": "2025-03-22T06:03:35.966Z"
   },
   {
    "duration": 8,
    "start_time": "2025-03-22T06:03:35.993Z"
   },
   {
    "duration": 34,
    "start_time": "2025-03-22T06:03:36.003Z"
   },
   {
    "duration": 25,
    "start_time": "2025-03-22T06:03:36.038Z"
   },
   {
    "duration": 1373,
    "start_time": "2025-03-22T06:03:36.064Z"
   },
   {
    "duration": 1174,
    "start_time": "2025-03-22T06:04:39.414Z"
   },
   {
    "duration": 30,
    "start_time": "2025-03-22T06:04:40.590Z"
   },
   {
    "duration": 18,
    "start_time": "2025-03-22T06:04:40.621Z"
   },
   {
    "duration": 14,
    "start_time": "2025-03-22T06:04:40.641Z"
   },
   {
    "duration": 42,
    "start_time": "2025-03-22T06:04:40.656Z"
   },
   {
    "duration": 32,
    "start_time": "2025-03-22T06:04:40.700Z"
   },
   {
    "duration": 5,
    "start_time": "2025-03-22T06:04:40.733Z"
   },
   {
    "duration": 9,
    "start_time": "2025-03-22T06:04:40.740Z"
   },
   {
    "duration": 11,
    "start_time": "2025-03-22T06:04:40.751Z"
   },
   {
    "duration": 4,
    "start_time": "2025-03-22T06:04:40.765Z"
   },
   {
    "duration": 11,
    "start_time": "2025-03-22T06:04:40.771Z"
   },
   {
    "duration": 57,
    "start_time": "2025-03-22T06:04:40.784Z"
   },
   {
    "duration": 5,
    "start_time": "2025-03-22T06:04:40.843Z"
   },
   {
    "duration": 9,
    "start_time": "2025-03-22T06:04:40.849Z"
   },
   {
    "duration": 4,
    "start_time": "2025-03-22T06:04:40.860Z"
   },
   {
    "duration": 4,
    "start_time": "2025-03-22T06:04:40.866Z"
   },
   {
    "duration": 13,
    "start_time": "2025-03-22T06:04:40.872Z"
   },
   {
    "duration": 51,
    "start_time": "2025-03-22T06:04:40.887Z"
   },
   {
    "duration": 12,
    "start_time": "2025-03-22T06:04:40.940Z"
   },
   {
    "duration": 4,
    "start_time": "2025-03-22T06:04:40.953Z"
   },
   {
    "duration": 4,
    "start_time": "2025-03-22T06:04:40.959Z"
   },
   {
    "duration": 3,
    "start_time": "2025-03-22T06:04:40.965Z"
   },
   {
    "duration": 12,
    "start_time": "2025-03-22T06:04:40.970Z"
   },
   {
    "duration": 14,
    "start_time": "2025-03-22T06:04:41.029Z"
   },
   {
    "duration": 157,
    "start_time": "2025-03-22T06:04:41.045Z"
   },
   {
    "duration": 13,
    "start_time": "2025-03-22T06:04:41.203Z"
   },
   {
    "duration": 8,
    "start_time": "2025-03-22T06:04:41.218Z"
   },
   {
    "duration": 6,
    "start_time": "2025-03-22T06:04:41.229Z"
   },
   {
    "duration": 10,
    "start_time": "2025-03-22T06:04:41.236Z"
   },
   {
    "duration": 10,
    "start_time": "2025-03-22T06:04:41.248Z"
   },
   {
    "duration": 36,
    "start_time": "2025-03-22T06:04:41.260Z"
   },
   {
    "duration": 5,
    "start_time": "2025-03-22T06:04:41.298Z"
   },
   {
    "duration": 5,
    "start_time": "2025-03-22T06:04:41.304Z"
   },
   {
    "duration": 21,
    "start_time": "2025-03-22T06:04:41.310Z"
   },
   {
    "duration": 4,
    "start_time": "2025-03-22T06:04:41.333Z"
   },
   {
    "duration": 5,
    "start_time": "2025-03-22T06:04:41.338Z"
   },
   {
    "duration": 5,
    "start_time": "2025-03-22T06:04:41.344Z"
   },
   {
    "duration": 12,
    "start_time": "2025-03-22T06:04:41.351Z"
   },
   {
    "duration": 14,
    "start_time": "2025-03-22T06:04:41.365Z"
   },
   {
    "duration": 406,
    "start_time": "2025-03-22T06:04:41.381Z"
   },
   {
    "duration": 41899,
    "start_time": "2025-03-22T06:04:41.789Z"
   },
   {
    "duration": 1321,
    "start_time": "2025-03-22T06:06:19.056Z"
   },
   {
    "duration": 43366,
    "start_time": "2025-03-22T06:06:34.721Z"
   },
   {
    "duration": 22384,
    "start_time": "2025-03-22T06:07:25.352Z"
   },
   {
    "duration": 22694,
    "start_time": "2025-03-22T06:08:13.217Z"
   },
   {
    "duration": 486,
    "start_time": "2025-03-22T06:10:38.792Z"
   },
   {
    "duration": 732,
    "start_time": "2025-03-22T06:10:56.593Z"
   },
   {
    "duration": 684,
    "start_time": "2025-03-22T06:11:08.417Z"
   },
   {
    "duration": 6191,
    "start_time": "2025-03-22T06:11:14.433Z"
   },
   {
    "duration": 1410,
    "start_time": "2025-03-22T06:11:56.296Z"
   },
   {
    "duration": 2448,
    "start_time": "2025-03-22T06:12:29.440Z"
   },
   {
    "duration": 529,
    "start_time": "2025-03-22T06:18:41.488Z"
   },
   {
    "duration": 1118,
    "start_time": "2025-03-22T06:19:30.962Z"
   },
   {
    "duration": 40,
    "start_time": "2025-03-22T06:19:32.082Z"
   },
   {
    "duration": 19,
    "start_time": "2025-03-22T06:19:32.124Z"
   },
   {
    "duration": 16,
    "start_time": "2025-03-22T06:19:32.144Z"
   },
   {
    "duration": 41,
    "start_time": "2025-03-22T06:19:32.161Z"
   },
   {
    "duration": 31,
    "start_time": "2025-03-22T06:19:32.203Z"
   },
   {
    "duration": 10,
    "start_time": "2025-03-22T06:19:32.235Z"
   },
   {
    "duration": 4,
    "start_time": "2025-03-22T06:19:32.247Z"
   },
   {
    "duration": 24,
    "start_time": "2025-03-22T06:19:32.253Z"
   },
   {
    "duration": 5,
    "start_time": "2025-03-22T06:19:32.280Z"
   },
   {
    "duration": 12,
    "start_time": "2025-03-22T06:19:32.287Z"
   },
   {
    "duration": 42,
    "start_time": "2025-03-22T06:19:32.300Z"
   },
   {
    "duration": 4,
    "start_time": "2025-03-22T06:19:32.343Z"
   },
   {
    "duration": 12,
    "start_time": "2025-03-22T06:19:32.348Z"
   },
   {
    "duration": 9,
    "start_time": "2025-03-22T06:19:32.362Z"
   },
   {
    "duration": 20,
    "start_time": "2025-03-22T06:19:32.372Z"
   },
   {
    "duration": 12,
    "start_time": "2025-03-22T06:19:32.393Z"
   },
   {
    "duration": 33,
    "start_time": "2025-03-22T06:19:32.407Z"
   },
   {
    "duration": 13,
    "start_time": "2025-03-22T06:19:32.442Z"
   },
   {
    "duration": 5,
    "start_time": "2025-03-22T06:19:32.457Z"
   },
   {
    "duration": 13,
    "start_time": "2025-03-22T06:19:32.464Z"
   },
   {
    "duration": 14,
    "start_time": "2025-03-22T06:19:32.478Z"
   },
   {
    "duration": 37,
    "start_time": "2025-03-22T06:19:32.493Z"
   },
   {
    "duration": 14,
    "start_time": "2025-03-22T06:19:32.532Z"
   },
   {
    "duration": 13,
    "start_time": "2025-03-22T06:19:32.547Z"
   },
   {
    "duration": 17,
    "start_time": "2025-03-22T06:19:32.562Z"
   },
   {
    "duration": 11,
    "start_time": "2025-03-22T06:19:32.581Z"
   },
   {
    "duration": 35,
    "start_time": "2025-03-22T06:19:32.596Z"
   },
   {
    "duration": 9,
    "start_time": "2025-03-22T06:19:32.632Z"
   },
   {
    "duration": 35,
    "start_time": "2025-03-22T06:19:32.642Z"
   },
   {
    "duration": 22,
    "start_time": "2025-03-22T06:19:32.678Z"
   },
   {
    "duration": 4,
    "start_time": "2025-03-22T06:19:32.702Z"
   },
   {
    "duration": 12,
    "start_time": "2025-03-22T06:19:32.708Z"
   },
   {
    "duration": 12,
    "start_time": "2025-03-22T06:19:32.721Z"
   },
   {
    "duration": 5,
    "start_time": "2025-03-22T06:19:32.734Z"
   },
   {
    "duration": 6,
    "start_time": "2025-03-22T06:19:32.740Z"
   },
   {
    "duration": 5,
    "start_time": "2025-03-22T06:19:32.747Z"
   },
   {
    "duration": 32,
    "start_time": "2025-03-22T06:19:32.753Z"
   },
   {
    "duration": 3,
    "start_time": "2025-03-22T06:19:32.786Z"
   },
   {
    "duration": 347,
    "start_time": "2025-03-22T06:19:32.790Z"
   },
   {
    "duration": 13299,
    "start_time": "2025-03-22T06:19:33.138Z"
   },
   {
    "duration": 1045,
    "start_time": "2025-03-22T06:19:46.439Z"
   },
   {
    "duration": 420,
    "start_time": "2025-03-22T06:19:47.486Z"
   },
   {
    "duration": 7,
    "start_time": "2025-03-22T08:11:53.250Z"
   },
   {
    "duration": 5,
    "start_time": "2025-03-22T08:12:05.929Z"
   },
   {
    "duration": 3,
    "start_time": "2025-03-22T08:12:41.906Z"
   },
   {
    "duration": 1119,
    "start_time": "2025-03-22T08:12:48.573Z"
   },
   {
    "duration": 30,
    "start_time": "2025-03-22T08:12:49.694Z"
   },
   {
    "duration": 19,
    "start_time": "2025-03-22T08:12:49.725Z"
   },
   {
    "duration": 13,
    "start_time": "2025-03-22T08:12:49.747Z"
   },
   {
    "duration": 70,
    "start_time": "2025-03-22T08:12:49.762Z"
   },
   {
    "duration": 7,
    "start_time": "2025-03-22T08:12:49.833Z"
   },
   {
    "duration": 4,
    "start_time": "2025-03-22T08:12:49.841Z"
   },
   {
    "duration": 4,
    "start_time": "2025-03-22T08:12:49.847Z"
   },
   {
    "duration": 10,
    "start_time": "2025-03-22T08:12:49.852Z"
   },
   {
    "duration": 4,
    "start_time": "2025-03-22T08:12:49.864Z"
   },
   {
    "duration": 12,
    "start_time": "2025-03-22T08:12:49.870Z"
   },
   {
    "duration": 55,
    "start_time": "2025-03-22T08:12:49.883Z"
   },
   {
    "duration": 5,
    "start_time": "2025-03-22T08:12:49.939Z"
   },
   {
    "duration": 9,
    "start_time": "2025-03-22T08:12:49.946Z"
   },
   {
    "duration": 5,
    "start_time": "2025-03-22T08:12:49.956Z"
   },
   {
    "duration": 11,
    "start_time": "2025-03-22T08:12:49.962Z"
   },
   {
    "duration": 61,
    "start_time": "2025-03-22T08:12:49.975Z"
   },
   {
    "duration": 36,
    "start_time": "2025-03-22T08:12:50.038Z"
   },
   {
    "duration": 12,
    "start_time": "2025-03-22T08:12:50.076Z"
   },
   {
    "duration": 5,
    "start_time": "2025-03-22T08:12:50.090Z"
   },
   {
    "duration": 5,
    "start_time": "2025-03-22T08:12:50.096Z"
   },
   {
    "duration": 4,
    "start_time": "2025-03-22T08:12:50.103Z"
   },
   {
    "duration": 31,
    "start_time": "2025-03-22T08:12:50.109Z"
   },
   {
    "duration": 13,
    "start_time": "2025-03-22T08:12:50.141Z"
   },
   {
    "duration": 12,
    "start_time": "2025-03-22T08:12:50.155Z"
   },
   {
    "duration": 14,
    "start_time": "2025-03-22T08:12:50.169Z"
   },
   {
    "duration": 46,
    "start_time": "2025-03-22T08:12:50.184Z"
   },
   {
    "duration": 6,
    "start_time": "2025-03-22T08:12:50.233Z"
   },
   {
    "duration": 7,
    "start_time": "2025-03-22T08:12:50.240Z"
   },
   {
    "duration": 6,
    "start_time": "2025-03-22T08:12:50.248Z"
   },
   {
    "duration": 16,
    "start_time": "2025-03-22T08:12:50.256Z"
   },
   {
    "duration": 4,
    "start_time": "2025-03-22T08:12:50.274Z"
   },
   {
    "duration": 101,
    "start_time": "2025-03-22T08:12:50.280Z"
   },
   {
    "duration": 6,
    "start_time": "2025-03-22T08:12:50.383Z"
   },
   {
    "duration": 5,
    "start_time": "2025-03-22T08:12:50.391Z"
   },
   {
    "duration": 5,
    "start_time": "2025-03-22T08:12:50.397Z"
   },
   {
    "duration": 16,
    "start_time": "2025-03-22T08:12:50.404Z"
   },
   {
    "duration": 16,
    "start_time": "2025-03-22T08:12:50.422Z"
   },
   {
    "duration": 8,
    "start_time": "2025-03-22T08:12:50.440Z"
   },
   {
    "duration": 356,
    "start_time": "2025-03-22T08:12:50.450Z"
   },
   {
    "duration": 13451,
    "start_time": "2025-03-22T08:12:50.808Z"
   },
   {
    "duration": 1045,
    "start_time": "2025-03-22T08:13:04.262Z"
   },
   {
    "duration": 430,
    "start_time": "2025-03-22T08:13:05.309Z"
   },
   {
    "duration": 3,
    "start_time": "2025-03-22T08:13:40.604Z"
   },
   {
    "duration": 1125,
    "start_time": "2025-03-22T08:13:49.884Z"
   },
   {
    "duration": 29,
    "start_time": "2025-03-22T08:13:51.011Z"
   },
   {
    "duration": 17,
    "start_time": "2025-03-22T08:13:51.042Z"
   },
   {
    "duration": 16,
    "start_time": "2025-03-22T08:13:51.061Z"
   },
   {
    "duration": 55,
    "start_time": "2025-03-22T08:13:51.078Z"
   },
   {
    "duration": 6,
    "start_time": "2025-03-22T08:13:51.135Z"
   },
   {
    "duration": 15,
    "start_time": "2025-03-22T08:13:51.142Z"
   },
   {
    "duration": 12,
    "start_time": "2025-03-22T08:13:51.158Z"
   },
   {
    "duration": 28,
    "start_time": "2025-03-22T08:13:51.171Z"
   },
   {
    "duration": 8,
    "start_time": "2025-03-22T08:13:51.202Z"
   },
   {
    "duration": 27,
    "start_time": "2025-03-22T08:13:51.212Z"
   },
   {
    "duration": 42,
    "start_time": "2025-03-22T08:13:51.240Z"
   },
   {
    "duration": 7,
    "start_time": "2025-03-22T08:13:51.283Z"
   },
   {
    "duration": 17,
    "start_time": "2025-03-22T08:13:51.291Z"
   },
   {
    "duration": 4,
    "start_time": "2025-03-22T08:13:51.309Z"
   },
   {
    "duration": 6,
    "start_time": "2025-03-22T08:13:51.315Z"
   },
   {
    "duration": 16,
    "start_time": "2025-03-22T08:13:51.322Z"
   },
   {
    "duration": 26,
    "start_time": "2025-03-22T08:13:51.339Z"
   },
   {
    "duration": 16,
    "start_time": "2025-03-22T08:13:51.367Z"
   },
   {
    "duration": 5,
    "start_time": "2025-03-22T08:13:51.385Z"
   },
   {
    "duration": 82,
    "start_time": "2025-03-22T08:13:51.393Z"
   },
   {
    "duration": 12,
    "start_time": "2025-03-22T08:13:51.477Z"
   },
   {
    "duration": 27,
    "start_time": "2025-03-22T08:13:51.490Z"
   },
   {
    "duration": 15,
    "start_time": "2025-03-22T08:13:51.519Z"
   },
   {
    "duration": 22,
    "start_time": "2025-03-22T08:13:51.536Z"
   },
   {
    "duration": 13,
    "start_time": "2025-03-22T08:13:51.559Z"
   },
   {
    "duration": 90,
    "start_time": "2025-03-22T08:13:51.574Z"
   },
   {
    "duration": 8,
    "start_time": "2025-03-22T08:13:51.668Z"
   },
   {
    "duration": 9,
    "start_time": "2025-03-22T08:13:51.677Z"
   },
   {
    "duration": 8,
    "start_time": "2025-03-22T08:13:51.687Z"
   },
   {
    "duration": 18,
    "start_time": "2025-03-22T08:13:51.696Z"
   },
   {
    "duration": 26,
    "start_time": "2025-03-22T08:13:51.715Z"
   },
   {
    "duration": 35,
    "start_time": "2025-03-22T08:13:51.742Z"
   },
   {
    "duration": 15,
    "start_time": "2025-03-22T08:13:51.778Z"
   },
   {
    "duration": 42,
    "start_time": "2025-03-22T08:13:51.794Z"
   },
   {
    "duration": 4,
    "start_time": "2025-03-22T08:13:51.838Z"
   },
   {
    "duration": 9,
    "start_time": "2025-03-22T08:13:51.843Z"
   },
   {
    "duration": 12,
    "start_time": "2025-03-22T08:13:51.853Z"
   },
   {
    "duration": 3,
    "start_time": "2025-03-22T08:13:51.867Z"
   },
   {
    "duration": 344,
    "start_time": "2025-03-22T08:13:51.871Z"
   },
   {
    "duration": 13013,
    "start_time": "2025-03-22T08:13:52.217Z"
   },
   {
    "duration": 1016,
    "start_time": "2025-03-22T08:14:05.231Z"
   },
   {
    "duration": 410,
    "start_time": "2025-03-22T08:14:06.248Z"
   },
   {
    "duration": 416,
    "start_time": "2025-03-22T08:23:27.363Z"
   },
   {
    "duration": 93,
    "start_time": "2025-03-22T08:23:45.883Z"
   },
   {
    "duration": 397,
    "start_time": "2025-03-22T08:23:49.547Z"
   },
   {
    "duration": 99,
    "start_time": "2025-03-22T08:27:18.869Z"
   },
   {
    "duration": 444,
    "start_time": "2025-03-22T08:34:48.979Z"
   },
   {
    "duration": 471,
    "start_time": "2025-03-22T08:35:57.642Z"
   },
   {
    "duration": 460,
    "start_time": "2025-03-22T08:37:28.810Z"
   },
   {
    "duration": 465,
    "start_time": "2025-03-22T08:37:37.035Z"
   },
   {
    "duration": 432,
    "start_time": "2025-03-22T08:41:42.926Z"
   },
   {
    "duration": 433,
    "start_time": "2025-03-22T08:42:20.878Z"
   },
   {
    "duration": 1089,
    "start_time": "2025-03-22T08:48:12.576Z"
   },
   {
    "duration": 40,
    "start_time": "2025-03-22T08:48:13.667Z"
   },
   {
    "duration": 19,
    "start_time": "2025-03-22T08:48:13.708Z"
   },
   {
    "duration": 13,
    "start_time": "2025-03-22T08:48:13.730Z"
   },
   {
    "duration": 42,
    "start_time": "2025-03-22T08:48:13.745Z"
   },
   {
    "duration": 8,
    "start_time": "2025-03-22T08:48:13.789Z"
   },
   {
    "duration": 37,
    "start_time": "2025-03-22T08:48:13.799Z"
   },
   {
    "duration": 13,
    "start_time": "2025-03-22T08:48:13.838Z"
   },
   {
    "duration": 14,
    "start_time": "2025-03-22T08:48:13.852Z"
   },
   {
    "duration": 14,
    "start_time": "2025-03-22T08:48:13.869Z"
   },
   {
    "duration": 16,
    "start_time": "2025-03-22T08:48:13.885Z"
   },
   {
    "duration": 27,
    "start_time": "2025-03-22T08:48:13.903Z"
   },
   {
    "duration": 4,
    "start_time": "2025-03-22T08:48:13.932Z"
   },
   {
    "duration": 19,
    "start_time": "2025-03-22T08:48:13.938Z"
   },
   {
    "duration": 8,
    "start_time": "2025-03-22T08:48:13.960Z"
   },
   {
    "duration": 9,
    "start_time": "2025-03-22T08:48:13.971Z"
   },
   {
    "duration": 26,
    "start_time": "2025-03-22T08:48:13.982Z"
   },
   {
    "duration": 40,
    "start_time": "2025-03-22T08:48:14.011Z"
   },
   {
    "duration": 12,
    "start_time": "2025-03-22T08:48:14.052Z"
   },
   {
    "duration": 6,
    "start_time": "2025-03-22T08:48:14.065Z"
   },
   {
    "duration": 33,
    "start_time": "2025-03-22T08:48:14.073Z"
   },
   {
    "duration": 7,
    "start_time": "2025-03-22T08:48:14.107Z"
   },
   {
    "duration": 23,
    "start_time": "2025-03-22T08:48:14.116Z"
   },
   {
    "duration": 14,
    "start_time": "2025-03-22T08:48:14.141Z"
   },
   {
    "duration": 22,
    "start_time": "2025-03-22T08:48:14.157Z"
   },
   {
    "duration": 14,
    "start_time": "2025-03-22T08:48:14.181Z"
   },
   {
    "duration": 23,
    "start_time": "2025-03-22T08:48:14.197Z"
   },
   {
    "duration": 20,
    "start_time": "2025-03-22T08:48:14.229Z"
   },
   {
    "duration": 14,
    "start_time": "2025-03-22T08:48:14.251Z"
   },
   {
    "duration": 19,
    "start_time": "2025-03-22T08:48:14.267Z"
   },
   {
    "duration": 32,
    "start_time": "2025-03-22T08:48:14.287Z"
   },
   {
    "duration": 8,
    "start_time": "2025-03-22T08:48:14.321Z"
   },
   {
    "duration": 31,
    "start_time": "2025-03-22T08:48:14.331Z"
   },
   {
    "duration": 14,
    "start_time": "2025-03-22T08:48:14.364Z"
   },
   {
    "duration": 19,
    "start_time": "2025-03-22T08:48:14.380Z"
   },
   {
    "duration": 38,
    "start_time": "2025-03-22T08:48:14.401Z"
   },
   {
    "duration": 29,
    "start_time": "2025-03-22T08:48:14.440Z"
   },
   {
    "duration": 27,
    "start_time": "2025-03-22T08:48:14.470Z"
   },
   {
    "duration": 17,
    "start_time": "2025-03-22T08:48:14.499Z"
   },
   {
    "duration": 341,
    "start_time": "2025-03-22T08:48:14.518Z"
   },
   {
    "duration": 13328,
    "start_time": "2025-03-22T08:48:14.861Z"
   },
   {
    "duration": 1006,
    "start_time": "2025-03-22T08:48:28.190Z"
   },
   {
    "duration": 405,
    "start_time": "2025-03-22T08:48:29.198Z"
   },
   {
    "duration": 520,
    "start_time": "2025-03-22T08:48:29.604Z"
   },
   {
    "duration": 390,
    "start_time": "2025-03-22T08:51:07.619Z"
   },
   {
    "duration": 381,
    "start_time": "2025-03-22T08:53:26.300Z"
   },
   {
    "duration": 415,
    "start_time": "2025-03-22T08:54:12.772Z"
   },
   {
    "duration": 174,
    "start_time": "2025-03-22T08:59:41.598Z"
   },
   {
    "duration": 4,
    "start_time": "2025-03-22T09:17:32.627Z"
   },
   {
    "duration": 4,
    "start_time": "2025-03-22T09:18:12.200Z"
   },
   {
    "duration": 231,
    "start_time": "2025-03-22T09:18:21.313Z"
   },
   {
    "duration": 190,
    "start_time": "2025-03-22T09:19:59.808Z"
   },
   {
    "duration": 196,
    "start_time": "2025-03-22T09:24:53.939Z"
   },
   {
    "duration": 130,
    "start_time": "2025-03-22T09:28:04.315Z"
   },
   {
    "duration": 136,
    "start_time": "2025-03-22T09:32:30.671Z"
   },
   {
    "duration": 132,
    "start_time": "2025-03-22T09:32:42.103Z"
   },
   {
    "duration": 129,
    "start_time": "2025-03-22T09:32:54.207Z"
   },
   {
    "duration": 163,
    "start_time": "2025-03-22T09:34:33.998Z"
   },
   {
    "duration": 151,
    "start_time": "2025-03-22T09:34:56.142Z"
   },
   {
    "duration": 1489,
    "start_time": "2025-03-22T09:36:38.870Z"
   },
   {
    "duration": 127,
    "start_time": "2025-03-22T09:37:03.614Z"
   },
   {
    "duration": 1451,
    "start_time": "2025-03-22T09:38:07.399Z"
   },
   {
    "duration": 1430,
    "start_time": "2025-03-22T09:38:14.957Z"
   },
   {
    "duration": 1417,
    "start_time": "2025-03-22T09:38:20.654Z"
   },
   {
    "duration": 1403,
    "start_time": "2025-03-22T09:38:24.725Z"
   },
   {
    "duration": 126,
    "start_time": "2025-03-22T09:38:51.509Z"
   },
   {
    "duration": 149,
    "start_time": "2025-03-22T09:39:26.589Z"
   },
   {
    "duration": 93,
    "start_time": "2025-03-22T09:40:27.870Z"
   },
   {
    "duration": 92,
    "start_time": "2025-03-22T09:41:19.912Z"
   },
   {
    "duration": 141,
    "start_time": "2025-03-22T09:41:24.936Z"
   },
   {
    "duration": 150,
    "start_time": "2025-03-22T09:41:35.112Z"
   },
   {
    "duration": 152,
    "start_time": "2025-03-22T09:42:07.785Z"
   },
   {
    "duration": 1421,
    "start_time": "2025-03-22T09:44:52.677Z"
   },
   {
    "duration": 133,
    "start_time": "2025-03-22T09:45:03.334Z"
   },
   {
    "duration": 1077,
    "start_time": "2025-03-22T09:46:32.614Z"
   },
   {
    "duration": 134,
    "start_time": "2025-03-22T09:46:56.783Z"
   },
   {
    "duration": 124,
    "start_time": "2025-03-22T09:47:02.560Z"
   },
   {
    "duration": 120,
    "start_time": "2025-03-22T09:50:11.881Z"
   },
   {
    "duration": 120,
    "start_time": "2025-03-22T09:50:21.689Z"
   },
   {
    "duration": 6,
    "start_time": "2025-03-22T10:42:36.619Z"
   },
   {
    "duration": 21,
    "start_time": "2025-03-22T10:42:38.591Z"
   },
   {
    "duration": 4,
    "start_time": "2025-03-22T10:42:58.247Z"
   },
   {
    "duration": 4,
    "start_time": "2025-03-22T10:43:12.701Z"
   },
   {
    "duration": 1304,
    "start_time": "2025-03-22T10:43:32.274Z"
   },
   {
    "duration": 40,
    "start_time": "2025-03-22T10:43:33.581Z"
   },
   {
    "duration": 18,
    "start_time": "2025-03-22T10:43:33.622Z"
   },
   {
    "duration": 13,
    "start_time": "2025-03-22T10:43:33.641Z"
   },
   {
    "duration": 42,
    "start_time": "2025-03-22T10:43:33.655Z"
   },
   {
    "duration": 34,
    "start_time": "2025-03-22T10:43:33.698Z"
   },
   {
    "duration": 4,
    "start_time": "2025-03-22T10:43:33.734Z"
   },
   {
    "duration": 21,
    "start_time": "2025-03-22T10:43:33.740Z"
   },
   {
    "duration": 17,
    "start_time": "2025-03-22T10:43:33.762Z"
   },
   {
    "duration": 4,
    "start_time": "2025-03-22T10:43:33.781Z"
   },
   {
    "duration": 23,
    "start_time": "2025-03-22T10:43:33.786Z"
   },
   {
    "duration": 30,
    "start_time": "2025-03-22T10:43:33.810Z"
   },
   {
    "duration": 6,
    "start_time": "2025-03-22T10:43:33.842Z"
   },
   {
    "duration": 22,
    "start_time": "2025-03-22T10:43:33.850Z"
   },
   {
    "duration": 5,
    "start_time": "2025-03-22T10:43:33.873Z"
   },
   {
    "duration": 53,
    "start_time": "2025-03-22T10:43:33.880Z"
   },
   {
    "duration": 55,
    "start_time": "2025-03-22T10:43:33.935Z"
   },
   {
    "duration": 32,
    "start_time": "2025-03-22T10:43:33.992Z"
   },
   {
    "duration": 13,
    "start_time": "2025-03-22T10:43:34.025Z"
   },
   {
    "duration": 5,
    "start_time": "2025-03-22T10:43:34.039Z"
   },
   {
    "duration": 5,
    "start_time": "2025-03-22T10:43:34.045Z"
   },
   {
    "duration": 16,
    "start_time": "2025-03-22T10:43:34.052Z"
   },
   {
    "duration": 17,
    "start_time": "2025-03-22T10:43:34.070Z"
   },
   {
    "duration": 44,
    "start_time": "2025-03-22T10:43:34.089Z"
   },
   {
    "duration": 17,
    "start_time": "2025-03-22T10:43:34.136Z"
   },
   {
    "duration": 12,
    "start_time": "2025-03-22T10:43:34.155Z"
   },
   {
    "duration": 111,
    "start_time": "2025-03-22T10:43:34.170Z"
   },
   {
    "duration": 38,
    "start_time": "2025-03-22T10:43:34.284Z"
   },
   {
    "duration": 9,
    "start_time": "2025-03-22T10:43:34.323Z"
   },
   {
    "duration": 9,
    "start_time": "2025-03-22T10:43:34.334Z"
   },
   {
    "duration": 8,
    "start_time": "2025-03-22T10:43:34.345Z"
   },
   {
    "duration": 40,
    "start_time": "2025-03-22T10:43:34.355Z"
   },
   {
    "duration": 6,
    "start_time": "2025-03-22T10:43:34.398Z"
   },
   {
    "duration": 5,
    "start_time": "2025-03-22T10:43:34.430Z"
   },
   {
    "duration": 7,
    "start_time": "2025-03-22T10:43:34.437Z"
   },
   {
    "duration": 9,
    "start_time": "2025-03-22T10:43:34.446Z"
   },
   {
    "duration": 13,
    "start_time": "2025-03-22T10:43:34.457Z"
   },
   {
    "duration": 5,
    "start_time": "2025-03-22T10:43:34.471Z"
   },
   {
    "duration": 13,
    "start_time": "2025-03-22T10:43:34.478Z"
   },
   {
    "duration": 11,
    "start_time": "2025-03-22T10:43:34.530Z"
   },
   {
    "duration": 347,
    "start_time": "2025-03-22T10:43:34.542Z"
   },
   {
    "duration": 13307,
    "start_time": "2025-03-22T10:43:34.891Z"
   },
   {
    "duration": 1013,
    "start_time": "2025-03-22T10:43:48.200Z"
   },
   {
    "duration": 418,
    "start_time": "2025-03-22T10:43:49.215Z"
   },
   {
    "duration": 5,
    "start_time": "2025-03-22T10:43:49.634Z"
   },
   {
    "duration": 221,
    "start_time": "2025-03-22T10:43:49.641Z"
   },
   {
    "duration": 159,
    "start_time": "2025-03-22T10:43:49.863Z"
   },
   {
    "duration": 138,
    "start_time": "2025-03-22T10:43:50.023Z"
   },
   {
    "duration": 139,
    "start_time": "2025-03-22T10:43:50.162Z"
   },
   {
    "duration": 131,
    "start_time": "2025-03-22T10:43:50.303Z"
   },
   {
    "duration": 424,
    "start_time": "2025-03-22T10:43:50.436Z"
   },
   {
    "duration": 323,
    "start_time": "2025-03-22T10:47:14.537Z"
   },
   {
    "duration": 311,
    "start_time": "2025-03-22T10:47:42.600Z"
   },
   {
    "duration": 317,
    "start_time": "2025-03-22T10:47:47.760Z"
   },
   {
    "duration": 4,
    "start_time": "2025-03-22T10:50:00.661Z"
   },
   {
    "duration": 1084,
    "start_time": "2025-03-22T10:50:07.575Z"
   },
   {
    "duration": 29,
    "start_time": "2025-03-22T10:50:08.661Z"
   },
   {
    "duration": 17,
    "start_time": "2025-03-22T10:50:08.692Z"
   },
   {
    "duration": 19,
    "start_time": "2025-03-22T10:50:08.711Z"
   },
   {
    "duration": 38,
    "start_time": "2025-03-22T10:50:08.731Z"
   },
   {
    "duration": 10,
    "start_time": "2025-03-22T10:50:08.770Z"
   },
   {
    "duration": 14,
    "start_time": "2025-03-22T10:50:08.782Z"
   },
   {
    "duration": 10,
    "start_time": "2025-03-22T10:50:08.798Z"
   },
   {
    "duration": 14,
    "start_time": "2025-03-22T10:50:08.829Z"
   },
   {
    "duration": 4,
    "start_time": "2025-03-22T10:50:08.846Z"
   },
   {
    "duration": 12,
    "start_time": "2025-03-22T10:50:08.851Z"
   },
   {
    "duration": 29,
    "start_time": "2025-03-22T10:50:08.864Z"
   },
   {
    "duration": 4,
    "start_time": "2025-03-22T10:50:08.895Z"
   },
   {
    "duration": 35,
    "start_time": "2025-03-22T10:50:08.901Z"
   },
   {
    "duration": 5,
    "start_time": "2025-03-22T10:50:08.938Z"
   },
   {
    "duration": 5,
    "start_time": "2025-03-22T10:50:08.945Z"
   },
   {
    "duration": 32,
    "start_time": "2025-03-22T10:50:08.951Z"
   },
   {
    "duration": 20,
    "start_time": "2025-03-22T10:50:08.985Z"
   },
   {
    "duration": 40,
    "start_time": "2025-03-22T10:50:09.007Z"
   },
   {
    "duration": 38,
    "start_time": "2025-03-22T10:50:09.049Z"
   },
   {
    "duration": 10,
    "start_time": "2025-03-22T10:50:09.089Z"
   },
   {
    "duration": 8,
    "start_time": "2025-03-22T10:50:09.101Z"
   },
   {
    "duration": 22,
    "start_time": "2025-03-22T10:50:09.111Z"
   },
   {
    "duration": 17,
    "start_time": "2025-03-22T10:50:09.135Z"
   },
   {
    "duration": 11,
    "start_time": "2025-03-22T10:50:09.153Z"
   },
   {
    "duration": 4,
    "start_time": "2025-03-22T10:50:09.165Z"
   },
   {
    "duration": 23,
    "start_time": "2025-03-22T10:50:09.171Z"
   },
   {
    "duration": 20,
    "start_time": "2025-03-22T10:50:09.197Z"
   },
   {
    "duration": 16,
    "start_time": "2025-03-22T10:50:09.218Z"
   },
   {
    "duration": 82,
    "start_time": "2025-03-22T10:50:09.236Z"
   },
   {
    "duration": 6,
    "start_time": "2025-03-22T10:50:09.319Z"
   },
   {
    "duration": 17,
    "start_time": "2025-03-22T10:50:09.326Z"
   },
   {
    "duration": 4,
    "start_time": "2025-03-22T10:50:09.345Z"
   },
   {
    "duration": 4,
    "start_time": "2025-03-22T10:50:09.350Z"
   },
   {
    "duration": 6,
    "start_time": "2025-03-22T10:50:09.355Z"
   },
   {
    "duration": 10,
    "start_time": "2025-03-22T10:50:09.363Z"
   },
   {
    "duration": 11,
    "start_time": "2025-03-22T10:50:09.374Z"
   },
   {
    "duration": 5,
    "start_time": "2025-03-22T10:50:09.386Z"
   },
   {
    "duration": 41,
    "start_time": "2025-03-22T10:50:09.393Z"
   },
   {
    "duration": 4,
    "start_time": "2025-03-22T10:50:09.436Z"
   },
   {
    "duration": 326,
    "start_time": "2025-03-22T10:50:09.442Z"
   },
   {
    "duration": 13030,
    "start_time": "2025-03-22T10:50:09.770Z"
   },
   {
    "duration": 999,
    "start_time": "2025-03-22T10:50:22.802Z"
   },
   {
    "duration": 454,
    "start_time": "2025-03-22T10:50:23.803Z"
   },
   {
    "duration": 5,
    "start_time": "2025-03-22T10:50:24.259Z"
   },
   {
    "duration": 217,
    "start_time": "2025-03-22T10:50:24.266Z"
   },
   {
    "duration": 169,
    "start_time": "2025-03-22T10:50:24.485Z"
   },
   {
    "duration": 137,
    "start_time": "2025-03-22T10:50:24.656Z"
   },
   {
    "duration": 136,
    "start_time": "2025-03-22T10:50:24.795Z"
   },
   {
    "duration": 134,
    "start_time": "2025-03-22T10:50:24.933Z"
   },
   {
    "duration": 152,
    "start_time": "2025-03-22T10:50:25.068Z"
   },
   {
    "duration": 17,
    "start_time": "2025-03-22T11:01:45.601Z"
   },
   {
    "duration": 39,
    "start_time": "2025-03-22T11:02:04.305Z"
   },
   {
    "duration": 27,
    "start_time": "2025-03-22T11:02:12.745Z"
   },
   {
    "duration": 30,
    "start_time": "2025-03-22T11:02:27.705Z"
   },
   {
    "duration": 31,
    "start_time": "2025-03-22T11:05:24.632Z"
   },
   {
    "duration": 112,
    "start_time": "2025-03-22T11:10:32.919Z"
   },
   {
    "duration": 19,
    "start_time": "2025-03-22T11:11:21.008Z"
   },
   {
    "duration": 22,
    "start_time": "2025-03-22T11:13:12.625Z"
   },
   {
    "duration": 20,
    "start_time": "2025-03-22T11:13:33.200Z"
   },
   {
    "duration": 23,
    "start_time": "2025-03-22T11:14:47.079Z"
   },
   {
    "duration": 21,
    "start_time": "2025-03-22T11:15:52.592Z"
   },
   {
    "duration": 22,
    "start_time": "2025-03-22T11:16:25.248Z"
   },
   {
    "duration": 29,
    "start_time": "2025-03-22T11:17:42.728Z"
   },
   {
    "duration": 18,
    "start_time": "2025-03-22T11:23:11.569Z"
   },
   {
    "duration": 20,
    "start_time": "2025-03-22T11:23:31.282Z"
   },
   {
    "duration": 738,
    "start_time": "2025-03-22T11:23:39.530Z"
   },
   {
    "duration": 71,
    "start_time": "2025-03-22T11:24:08.355Z"
   },
   {
    "duration": 4,
    "start_time": "2025-03-22T11:25:59.541Z"
   },
   {
    "duration": 636,
    "start_time": "2025-03-22T11:26:08.581Z"
   },
   {
    "duration": 36,
    "start_time": "2025-03-22T11:26:18.558Z"
   },
   {
    "duration": 40,
    "start_time": "2025-03-22T11:26:34.023Z"
   },
   {
    "duration": 27,
    "start_time": "2025-03-22T11:27:05.919Z"
   },
   {
    "duration": 1285,
    "start_time": "2025-03-22T11:31:01.714Z"
   },
   {
    "duration": 29,
    "start_time": "2025-03-22T11:34:14.780Z"
   },
   {
    "duration": 38,
    "start_time": "2025-03-22T11:34:59.653Z"
   },
   {
    "duration": 704,
    "start_time": "2025-03-22T11:36:05.677Z"
   },
   {
    "duration": 706,
    "start_time": "2025-03-22T11:36:19.165Z"
   },
   {
    "duration": 37,
    "start_time": "2025-03-22T11:36:32.085Z"
   },
   {
    "duration": 49,
    "start_time": "2025-03-22T11:37:07.629Z"
   },
   {
    "duration": 813,
    "start_time": "2025-03-22T11:39:35.351Z"
   },
   {
    "duration": 380,
    "start_time": "2025-03-22T11:39:46.814Z"
   },
   {
    "duration": 52,
    "start_time": "2025-03-22T11:39:55.079Z"
   },
   {
    "duration": 20,
    "start_time": "2025-03-22T11:42:13.136Z"
   },
   {
    "duration": 51,
    "start_time": "2025-03-22T11:43:42.847Z"
   },
   {
    "duration": 50,
    "start_time": "2025-03-22T14:07:31.294Z"
   },
   {
    "duration": 1363,
    "start_time": "2025-03-22T14:07:38.342Z"
   },
   {
    "duration": 141,
    "start_time": "2025-03-22T14:07:39.707Z"
   },
   {
    "duration": 18,
    "start_time": "2025-03-22T14:07:39.850Z"
   },
   {
    "duration": 12,
    "start_time": "2025-03-22T14:07:39.871Z"
   },
   {
    "duration": 39,
    "start_time": "2025-03-22T14:07:39.885Z"
   },
   {
    "duration": 6,
    "start_time": "2025-03-22T14:07:39.926Z"
   },
   {
    "duration": 29,
    "start_time": "2025-03-22T14:07:39.934Z"
   },
   {
    "duration": 7,
    "start_time": "2025-03-22T14:07:39.964Z"
   },
   {
    "duration": 12,
    "start_time": "2025-03-22T14:07:39.972Z"
   },
   {
    "duration": 4,
    "start_time": "2025-03-22T14:07:39.987Z"
   },
   {
    "duration": 14,
    "start_time": "2025-03-22T14:07:39.993Z"
   },
   {
    "duration": 44,
    "start_time": "2025-03-22T14:07:40.008Z"
   },
   {
    "duration": 11,
    "start_time": "2025-03-22T14:07:40.054Z"
   },
   {
    "duration": 21,
    "start_time": "2025-03-22T14:07:40.067Z"
   },
   {
    "duration": 24,
    "start_time": "2025-03-22T14:07:40.089Z"
   },
   {
    "duration": 26,
    "start_time": "2025-03-22T14:07:40.114Z"
   },
   {
    "duration": 23,
    "start_time": "2025-03-22T14:07:40.141Z"
   },
   {
    "duration": 18,
    "start_time": "2025-03-22T14:07:40.165Z"
   },
   {
    "duration": 14,
    "start_time": "2025-03-22T14:07:40.184Z"
   },
   {
    "duration": 5,
    "start_time": "2025-03-22T14:07:40.200Z"
   },
   {
    "duration": 15,
    "start_time": "2025-03-22T14:07:40.206Z"
   },
   {
    "duration": 10,
    "start_time": "2025-03-22T14:07:40.223Z"
   },
   {
    "duration": 36,
    "start_time": "2025-03-22T14:07:40.235Z"
   },
   {
    "duration": 87,
    "start_time": "2025-03-22T14:07:40.272Z"
   },
   {
    "duration": 14,
    "start_time": "2025-03-22T14:07:40.361Z"
   },
   {
    "duration": 6,
    "start_time": "2025-03-22T14:07:40.376Z"
   },
   {
    "duration": 21,
    "start_time": "2025-03-22T14:07:40.383Z"
   },
   {
    "duration": 8,
    "start_time": "2025-03-22T14:07:40.407Z"
   },
   {
    "duration": 5,
    "start_time": "2025-03-22T14:07:40.417Z"
   },
   {
    "duration": 16,
    "start_time": "2025-03-22T14:07:40.424Z"
   },
   {
    "duration": 21,
    "start_time": "2025-03-22T14:07:40.441Z"
   },
   {
    "duration": 18,
    "start_time": "2025-03-22T14:07:40.464Z"
   },
   {
    "duration": 5,
    "start_time": "2025-03-22T14:07:40.483Z"
   },
   {
    "duration": 6,
    "start_time": "2025-03-22T14:07:40.489Z"
   },
   {
    "duration": 12,
    "start_time": "2025-03-22T14:07:40.496Z"
   },
   {
    "duration": 21,
    "start_time": "2025-03-22T14:07:40.510Z"
   },
   {
    "duration": 23,
    "start_time": "2025-03-22T14:07:40.532Z"
   },
   {
    "duration": 13,
    "start_time": "2025-03-22T14:07:40.557Z"
   },
   {
    "duration": 44,
    "start_time": "2025-03-22T14:07:40.571Z"
   },
   {
    "duration": 7,
    "start_time": "2025-03-22T14:07:40.616Z"
   },
   {
    "duration": 340,
    "start_time": "2025-03-22T14:07:40.625Z"
   },
   {
    "duration": 13399,
    "start_time": "2025-03-22T14:07:40.966Z"
   },
   {
    "duration": 1022,
    "start_time": "2025-03-22T14:07:54.368Z"
   },
   {
    "duration": 436,
    "start_time": "2025-03-22T14:07:55.392Z"
   },
   {
    "duration": 5,
    "start_time": "2025-03-22T14:07:55.831Z"
   },
   {
    "duration": 208,
    "start_time": "2025-03-22T14:07:55.837Z"
   },
   {
    "duration": 162,
    "start_time": "2025-03-22T14:07:56.047Z"
   },
   {
    "duration": 142,
    "start_time": "2025-03-22T14:07:56.210Z"
   },
   {
    "duration": 136,
    "start_time": "2025-03-22T14:07:56.361Z"
   },
   {
    "duration": 146,
    "start_time": "2025-03-22T14:07:56.499Z"
   },
   {
    "duration": 155,
    "start_time": "2025-03-22T14:07:56.647Z"
   },
   {
    "duration": 66,
    "start_time": "2025-03-22T14:07:56.803Z"
   },
   {
    "duration": 53,
    "start_time": "2025-03-22T14:12:20.685Z"
   },
   {
    "duration": 112,
    "start_time": "2025-03-22T14:14:51.885Z"
   },
   {
    "duration": 47,
    "start_time": "2025-03-22T14:17:37.580Z"
   },
   {
    "duration": 85,
    "start_time": "2025-03-22T14:49:08.439Z"
   },
   {
    "duration": 10,
    "start_time": "2025-03-22T14:49:15.717Z"
   },
   {
    "duration": 19,
    "start_time": "2025-03-22T14:49:57.389Z"
   },
   {
    "duration": 107,
    "start_time": "2025-03-22T14:50:29.261Z"
   },
   {
    "duration": 15,
    "start_time": "2025-03-22T14:51:05.827Z"
   },
   {
    "duration": 10,
    "start_time": "2025-03-22T14:51:13.383Z"
   },
   {
    "duration": 9,
    "start_time": "2025-03-22T14:51:18.074Z"
   },
   {
    "duration": 51,
    "start_time": "2025-03-22T14:52:19.183Z"
   },
   {
    "duration": 48,
    "start_time": "2025-03-22T14:52:33.998Z"
   },
   {
    "duration": 53,
    "start_time": "2025-03-22T14:53:10.181Z"
   },
   {
    "duration": 49,
    "start_time": "2025-03-22T14:53:18.152Z"
   },
   {
    "duration": 50,
    "start_time": "2025-03-22T14:53:24.937Z"
   },
   {
    "duration": 134,
    "start_time": "2025-03-22T15:24:27.516Z"
   },
   {
    "duration": 122,
    "start_time": "2025-03-22T15:26:32.526Z"
   },
   {
    "duration": 90,
    "start_time": "2025-03-22T15:26:47.656Z"
   },
   {
    "duration": 19,
    "start_time": "2025-03-22T15:26:55.029Z"
   },
   {
    "duration": 2135,
    "start_time": "2025-03-22T15:29:41.118Z"
   },
   {
    "duration": 21,
    "start_time": "2025-03-22T15:31:21.066Z"
   },
   {
    "duration": 27,
    "start_time": "2025-03-22T15:32:17.807Z"
   },
   {
    "duration": 80,
    "start_time": "2025-03-22T15:35:18.671Z"
   },
   {
    "duration": 107,
    "start_time": "2025-03-22T15:36:39.744Z"
   },
   {
    "duration": 106,
    "start_time": "2025-03-22T15:37:20.921Z"
   },
   {
    "duration": 110,
    "start_time": "2025-03-22T15:38:00.859Z"
   },
   {
    "duration": 283,
    "start_time": "2025-03-22T15:38:38.626Z"
   },
   {
    "duration": 87,
    "start_time": "2025-03-22T15:38:50.925Z"
   },
   {
    "duration": 30,
    "start_time": "2025-03-22T15:39:29.533Z"
   },
   {
    "duration": 29,
    "start_time": "2025-03-22T15:40:11.902Z"
   },
   {
    "duration": 13,
    "start_time": "2025-03-22T15:53:52.405Z"
   },
   {
    "duration": 33,
    "start_time": "2025-03-22T15:56:33.464Z"
   },
   {
    "duration": 42,
    "start_time": "2025-03-22T15:56:38.748Z"
   },
   {
    "duration": 36,
    "start_time": "2025-03-22T15:56:44.013Z"
   },
   {
    "duration": 35,
    "start_time": "2025-03-22T15:56:47.288Z"
   },
   {
    "duration": 46,
    "start_time": "2025-03-22T15:57:02.596Z"
   },
   {
    "duration": 46,
    "start_time": "2025-03-22T15:59:23.430Z"
   },
   {
    "duration": 1182,
    "start_time": "2025-03-22T16:05:05.335Z"
   },
   {
    "duration": 41,
    "start_time": "2025-03-22T16:05:06.519Z"
   },
   {
    "duration": 18,
    "start_time": "2025-03-22T16:05:06.561Z"
   },
   {
    "duration": 38,
    "start_time": "2025-03-22T16:05:06.580Z"
   },
   {
    "duration": 58,
    "start_time": "2025-03-22T16:05:06.620Z"
   },
   {
    "duration": 7,
    "start_time": "2025-03-22T16:05:06.680Z"
   },
   {
    "duration": 23,
    "start_time": "2025-03-22T16:05:06.688Z"
   },
   {
    "duration": 13,
    "start_time": "2025-03-22T16:05:06.712Z"
   },
   {
    "duration": 9,
    "start_time": "2025-03-22T16:05:06.727Z"
   },
   {
    "duration": 69,
    "start_time": "2025-03-22T16:05:06.739Z"
   },
   {
    "duration": 61,
    "start_time": "2025-03-22T16:05:06.809Z"
   },
   {
    "duration": 49,
    "start_time": "2025-03-22T16:05:06.872Z"
   },
   {
    "duration": 6,
    "start_time": "2025-03-22T16:05:06.923Z"
   },
   {
    "duration": 10,
    "start_time": "2025-03-22T16:05:06.931Z"
   },
   {
    "duration": 4,
    "start_time": "2025-03-22T16:05:06.942Z"
   },
   {
    "duration": 24,
    "start_time": "2025-03-22T16:05:06.947Z"
   },
   {
    "duration": 37,
    "start_time": "2025-03-22T16:05:06.972Z"
   },
   {
    "duration": 27,
    "start_time": "2025-03-22T16:05:07.011Z"
   },
   {
    "duration": 12,
    "start_time": "2025-03-22T16:05:07.040Z"
   },
   {
    "duration": 4,
    "start_time": "2025-03-22T16:05:07.053Z"
   },
   {
    "duration": 18,
    "start_time": "2025-03-22T16:05:07.059Z"
   },
   {
    "duration": 27,
    "start_time": "2025-03-22T16:05:07.078Z"
   },
   {
    "duration": 19,
    "start_time": "2025-03-22T16:05:07.107Z"
   },
   {
    "duration": 28,
    "start_time": "2025-03-22T16:05:07.127Z"
   },
   {
    "duration": 32,
    "start_time": "2025-03-22T16:05:07.156Z"
   },
   {
    "duration": 27,
    "start_time": "2025-03-22T16:05:07.189Z"
   },
   {
    "duration": 17,
    "start_time": "2025-03-22T16:05:07.218Z"
   },
   {
    "duration": 14,
    "start_time": "2025-03-22T16:05:07.239Z"
   },
   {
    "duration": 14,
    "start_time": "2025-03-22T16:05:07.254Z"
   },
   {
    "duration": 117,
    "start_time": "2025-03-22T16:05:07.269Z"
   },
   {
    "duration": 28,
    "start_time": "2025-03-22T16:05:07.388Z"
   },
   {
    "duration": 19,
    "start_time": "2025-03-22T16:05:07.417Z"
   },
   {
    "duration": 5,
    "start_time": "2025-03-22T16:05:07.437Z"
   },
   {
    "duration": 11,
    "start_time": "2025-03-22T16:05:07.444Z"
   },
   {
    "duration": 6,
    "start_time": "2025-03-22T16:05:07.458Z"
   },
   {
    "duration": 6,
    "start_time": "2025-03-22T16:05:07.467Z"
   },
   {
    "duration": 7,
    "start_time": "2025-03-22T16:05:07.475Z"
   },
   {
    "duration": 16,
    "start_time": "2025-03-22T16:05:07.484Z"
   },
   {
    "duration": 20,
    "start_time": "2025-03-22T16:05:07.504Z"
   },
   {
    "duration": 4,
    "start_time": "2025-03-22T16:05:07.526Z"
   },
   {
    "duration": 384,
    "start_time": "2025-03-22T16:05:07.532Z"
   },
   {
    "duration": 13458,
    "start_time": "2025-03-22T16:05:07.918Z"
   },
   {
    "duration": 1026,
    "start_time": "2025-03-22T16:05:21.377Z"
   },
   {
    "duration": 424,
    "start_time": "2025-03-22T16:05:22.405Z"
   },
   {
    "duration": 4,
    "start_time": "2025-03-22T16:05:22.831Z"
   },
   {
    "duration": 210,
    "start_time": "2025-03-22T16:05:22.837Z"
   },
   {
    "duration": 160,
    "start_time": "2025-03-22T16:05:23.048Z"
   },
   {
    "duration": 137,
    "start_time": "2025-03-22T16:05:23.210Z"
   },
   {
    "duration": 136,
    "start_time": "2025-03-22T16:05:23.349Z"
   },
   {
    "duration": 126,
    "start_time": "2025-03-22T16:05:23.486Z"
   },
   {
    "duration": 163,
    "start_time": "2025-03-22T16:05:23.613Z"
   },
   {
    "duration": 49,
    "start_time": "2025-03-22T16:05:23.778Z"
   },
   {
    "duration": 55,
    "start_time": "2025-03-22T16:05:23.829Z"
   },
   {
    "duration": 8,
    "start_time": "2025-03-22T16:05:23.885Z"
   },
   {
    "duration": 28,
    "start_time": "2025-03-22T16:06:35.763Z"
   },
   {
    "duration": 26,
    "start_time": "2025-03-22T16:09:20.927Z"
   },
   {
    "duration": 59,
    "start_time": "2025-03-22T16:18:25.812Z"
   },
   {
    "duration": 58,
    "start_time": "2025-03-22T16:19:54.765Z"
   },
   {
    "duration": 48,
    "start_time": "2025-03-22T16:30:18.783Z"
   },
   {
    "duration": 1191,
    "start_time": "2025-03-22T16:30:46.451Z"
   },
   {
    "duration": 31,
    "start_time": "2025-03-22T16:30:47.644Z"
   },
   {
    "duration": 19,
    "start_time": "2025-03-22T16:30:47.676Z"
   },
   {
    "duration": 12,
    "start_time": "2025-03-22T16:30:47.697Z"
   },
   {
    "duration": 60,
    "start_time": "2025-03-22T16:30:47.711Z"
   },
   {
    "duration": 6,
    "start_time": "2025-03-22T16:30:47.773Z"
   },
   {
    "duration": 9,
    "start_time": "2025-03-22T16:30:47.780Z"
   },
   {
    "duration": 9,
    "start_time": "2025-03-22T16:30:47.790Z"
   },
   {
    "duration": 11,
    "start_time": "2025-03-22T16:30:47.801Z"
   },
   {
    "duration": 4,
    "start_time": "2025-03-22T16:30:47.813Z"
   },
   {
    "duration": 28,
    "start_time": "2025-03-22T16:30:47.818Z"
   },
   {
    "duration": 27,
    "start_time": "2025-03-22T16:30:47.848Z"
   },
   {
    "duration": 5,
    "start_time": "2025-03-22T16:30:47.876Z"
   },
   {
    "duration": 10,
    "start_time": "2025-03-22T16:30:47.884Z"
   },
   {
    "duration": 3,
    "start_time": "2025-03-22T16:30:47.896Z"
   },
   {
    "duration": 7,
    "start_time": "2025-03-22T16:30:47.901Z"
   },
   {
    "duration": 13,
    "start_time": "2025-03-22T16:30:47.910Z"
   },
   {
    "duration": 41,
    "start_time": "2025-03-22T16:30:47.925Z"
   },
   {
    "duration": 11,
    "start_time": "2025-03-22T16:30:47.968Z"
   },
   {
    "duration": 4,
    "start_time": "2025-03-22T16:30:47.981Z"
   },
   {
    "duration": 5,
    "start_time": "2025-03-22T16:30:47.986Z"
   },
   {
    "duration": 9,
    "start_time": "2025-03-22T16:30:47.992Z"
   },
   {
    "duration": 11,
    "start_time": "2025-03-22T16:30:48.002Z"
   },
   {
    "duration": 14,
    "start_time": "2025-03-22T16:30:48.014Z"
   },
   {
    "duration": 46,
    "start_time": "2025-03-22T16:30:48.029Z"
   },
   {
    "duration": 5,
    "start_time": "2025-03-22T16:30:48.077Z"
   },
   {
    "duration": 24,
    "start_time": "2025-03-22T16:30:48.083Z"
   },
   {
    "duration": 8,
    "start_time": "2025-03-22T16:30:48.108Z"
   },
   {
    "duration": 5,
    "start_time": "2025-03-22T16:30:48.118Z"
   },
   {
    "duration": 10,
    "start_time": "2025-03-22T16:30:48.124Z"
   },
   {
    "duration": 5,
    "start_time": "2025-03-22T16:30:48.135Z"
   },
   {
    "duration": 17,
    "start_time": "2025-03-22T16:30:48.162Z"
   },
   {
    "duration": 4,
    "start_time": "2025-03-22T16:30:48.180Z"
   },
   {
    "duration": 5,
    "start_time": "2025-03-22T16:30:48.185Z"
   },
   {
    "duration": 5,
    "start_time": "2025-03-22T16:30:48.191Z"
   },
   {
    "duration": 9,
    "start_time": "2025-03-22T16:30:48.197Z"
   },
   {
    "duration": 5,
    "start_time": "2025-03-22T16:30:48.207Z"
   },
   {
    "duration": 16,
    "start_time": "2025-03-22T16:30:48.213Z"
   },
   {
    "duration": 41,
    "start_time": "2025-03-22T16:30:48.230Z"
   },
   {
    "duration": 4,
    "start_time": "2025-03-22T16:30:48.273Z"
   },
   {
    "duration": 347,
    "start_time": "2025-03-22T16:30:48.280Z"
   },
   {
    "duration": 13565,
    "start_time": "2025-03-22T16:30:48.631Z"
   },
   {
    "duration": 1078,
    "start_time": "2025-03-22T16:31:02.198Z"
   },
   {
    "duration": 420,
    "start_time": "2025-03-22T16:31:03.278Z"
   },
   {
    "duration": 5,
    "start_time": "2025-03-22T16:31:03.703Z"
   },
   {
    "duration": 195,
    "start_time": "2025-03-22T16:31:03.709Z"
   },
   {
    "duration": 171,
    "start_time": "2025-03-22T16:31:03.907Z"
   },
   {
    "duration": 137,
    "start_time": "2025-03-22T16:31:04.080Z"
   },
   {
    "duration": 131,
    "start_time": "2025-03-22T16:31:04.219Z"
   },
   {
    "duration": 137,
    "start_time": "2025-03-22T16:31:04.352Z"
   },
   {
    "duration": 153,
    "start_time": "2025-03-22T16:31:04.491Z"
   },
   {
    "duration": 61,
    "start_time": "2025-03-22T16:31:04.646Z"
   },
   {
    "duration": 113,
    "start_time": "2025-03-22T16:31:04.709Z"
   },
   {
    "duration": 54,
    "start_time": "2025-03-22T16:31:12.370Z"
   },
   {
    "duration": 58,
    "start_time": "2025-03-22T16:32:20.701Z"
   },
   {
    "duration": 391,
    "start_time": "2025-03-22T16:39:40.214Z"
   },
   {
    "duration": 51,
    "start_time": "2025-03-22T16:39:52.440Z"
   },
   {
    "duration": 56,
    "start_time": "2025-03-22T16:40:00.232Z"
   },
   {
    "duration": 56,
    "start_time": "2025-03-22T16:40:12.194Z"
   },
   {
    "duration": 56,
    "start_time": "2025-03-22T16:40:22.014Z"
   },
   {
    "duration": 56,
    "start_time": "2025-03-22T16:40:46.466Z"
   },
   {
    "duration": 56,
    "start_time": "2025-03-22T16:41:22.336Z"
   },
   {
    "duration": 58,
    "start_time": "2025-03-22T16:41:29.268Z"
   },
   {
    "duration": 58,
    "start_time": "2025-03-22T16:42:13.609Z"
   },
   {
    "duration": 5,
    "start_time": "2025-03-22T16:43:25.653Z"
   },
   {
    "duration": 416,
    "start_time": "2025-03-22T16:43:31.361Z"
   },
   {
    "duration": 54,
    "start_time": "2025-03-22T16:43:47.031Z"
   },
   {
    "duration": 1381,
    "start_time": "2025-03-22T16:47:15.451Z"
   },
   {
    "duration": 57,
    "start_time": "2025-03-22T16:48:29.575Z"
   },
   {
    "duration": 58,
    "start_time": "2025-03-22T16:49:05.388Z"
   },
   {
    "duration": 57,
    "start_time": "2025-03-22T16:50:52.862Z"
   },
   {
    "duration": 1349,
    "start_time": "2025-03-22T16:51:39.436Z"
   },
   {
    "duration": 1335,
    "start_time": "2025-03-22T16:51:57.666Z"
   },
   {
    "duration": 1316,
    "start_time": "2025-03-22T16:53:01.663Z"
   },
   {
    "duration": 60,
    "start_time": "2025-03-22T16:53:33.489Z"
   },
   {
    "duration": 10,
    "start_time": "2025-03-22T16:55:03.671Z"
   },
   {
    "duration": 20,
    "start_time": "2025-03-22T16:55:15.055Z"
   },
   {
    "duration": 59,
    "start_time": "2025-03-22T16:55:34.379Z"
   },
   {
    "duration": 19,
    "start_time": "2025-03-22T16:56:14.315Z"
   },
   {
    "duration": 17,
    "start_time": "2025-03-22T16:57:32.966Z"
   },
   {
    "duration": 12,
    "start_time": "2025-03-22T16:57:49.089Z"
   },
   {
    "duration": 16,
    "start_time": "2025-03-22T16:58:14.227Z"
   },
   {
    "duration": 17,
    "start_time": "2025-03-22T16:59:24.816Z"
   },
   {
    "duration": 19,
    "start_time": "2025-03-22T17:00:18.969Z"
   },
   {
    "duration": 115,
    "start_time": "2025-03-22T17:02:11.515Z"
   },
   {
    "duration": 18,
    "start_time": "2025-03-22T17:02:19.300Z"
   },
   {
    "duration": 20,
    "start_time": "2025-03-22T17:03:10.169Z"
   },
   {
    "duration": 15,
    "start_time": "2025-03-22T17:03:34.929Z"
   },
   {
    "duration": 17,
    "start_time": "2025-03-22T17:03:59.473Z"
   },
   {
    "duration": 21,
    "start_time": "2025-03-22T17:05:05.296Z"
   },
   {
    "duration": 19,
    "start_time": "2025-03-22T17:08:02.970Z"
   },
   {
    "duration": 18,
    "start_time": "2025-03-22T17:08:13.649Z"
   },
   {
    "duration": 17,
    "start_time": "2025-03-22T17:09:33.931Z"
   },
   {
    "duration": 19,
    "start_time": "2025-03-22T17:09:51.653Z"
   },
   {
    "duration": 94,
    "start_time": "2025-03-22T17:14:14.410Z"
   },
   {
    "duration": 61,
    "start_time": "2025-03-22T17:15:17.017Z"
   },
   {
    "duration": 17,
    "start_time": "2025-03-22T17:16:59.132Z"
   },
   {
    "duration": 12,
    "start_time": "2025-03-22T17:17:15.446Z"
   },
   {
    "duration": 19,
    "start_time": "2025-03-22T17:17:27.520Z"
   },
   {
    "duration": 17,
    "start_time": "2025-03-22T17:18:03.960Z"
   },
   {
    "duration": 17,
    "start_time": "2025-03-22T17:19:26.942Z"
   },
   {
    "duration": 17,
    "start_time": "2025-03-22T17:19:32.593Z"
   },
   {
    "duration": 16,
    "start_time": "2025-03-22T17:19:38.755Z"
   },
   {
    "duration": 17,
    "start_time": "2025-03-22T17:20:20.471Z"
   },
   {
    "duration": 17,
    "start_time": "2025-03-22T17:20:27.751Z"
   },
   {
    "duration": 17,
    "start_time": "2025-03-22T17:23:15.091Z"
   },
   {
    "duration": 16,
    "start_time": "2025-03-22T17:24:52.218Z"
   },
   {
    "duration": 17,
    "start_time": "2025-03-22T17:27:45.491Z"
   },
   {
    "duration": 17,
    "start_time": "2025-03-22T17:28:00.610Z"
   },
   {
    "duration": 27,
    "start_time": "2025-03-22T17:31:42.894Z"
   },
   {
    "duration": 1160,
    "start_time": "2025-03-22T17:31:49.104Z"
   },
   {
    "duration": 31,
    "start_time": "2025-03-22T17:31:50.266Z"
   },
   {
    "duration": 18,
    "start_time": "2025-03-22T17:31:50.298Z"
   },
   {
    "duration": 29,
    "start_time": "2025-03-22T17:31:50.318Z"
   },
   {
    "duration": 43,
    "start_time": "2025-03-22T17:31:50.349Z"
   },
   {
    "duration": 7,
    "start_time": "2025-03-22T17:31:50.393Z"
   },
   {
    "duration": 18,
    "start_time": "2025-03-22T17:31:50.402Z"
   },
   {
    "duration": 10,
    "start_time": "2025-03-22T17:31:50.421Z"
   },
   {
    "duration": 10,
    "start_time": "2025-03-22T17:31:50.432Z"
   },
   {
    "duration": 4,
    "start_time": "2025-03-22T17:31:50.445Z"
   },
   {
    "duration": 12,
    "start_time": "2025-03-22T17:31:50.461Z"
   },
   {
    "duration": 14,
    "start_time": "2025-03-22T17:31:50.475Z"
   },
   {
    "duration": 4,
    "start_time": "2025-03-22T17:31:50.491Z"
   },
   {
    "duration": 19,
    "start_time": "2025-03-22T17:31:50.496Z"
   },
   {
    "duration": 23,
    "start_time": "2025-03-22T17:31:50.516Z"
   },
   {
    "duration": 4,
    "start_time": "2025-03-22T17:31:50.541Z"
   },
   {
    "duration": 16,
    "start_time": "2025-03-22T17:31:50.547Z"
   },
   {
    "duration": 13,
    "start_time": "2025-03-22T17:31:50.565Z"
   },
   {
    "duration": 13,
    "start_time": "2025-03-22T17:31:50.579Z"
   },
   {
    "duration": 5,
    "start_time": "2025-03-22T17:31:50.593Z"
   },
   {
    "duration": 5,
    "start_time": "2025-03-22T17:31:50.599Z"
   },
   {
    "duration": 5,
    "start_time": "2025-03-22T17:31:50.605Z"
   },
   {
    "duration": 57,
    "start_time": "2025-03-22T17:31:50.612Z"
   },
   {
    "duration": 21,
    "start_time": "2025-03-22T17:31:50.671Z"
   },
   {
    "duration": 13,
    "start_time": "2025-03-22T17:31:50.694Z"
   },
   {
    "duration": 4,
    "start_time": "2025-03-22T17:31:50.708Z"
   },
   {
    "duration": 13,
    "start_time": "2025-03-22T17:31:50.714Z"
   },
   {
    "duration": 37,
    "start_time": "2025-03-22T17:31:50.731Z"
   },
   {
    "duration": 7,
    "start_time": "2025-03-22T17:31:50.770Z"
   },
   {
    "duration": 7,
    "start_time": "2025-03-22T17:31:50.778Z"
   },
   {
    "duration": 6,
    "start_time": "2025-03-22T17:31:50.787Z"
   },
   {
    "duration": 48,
    "start_time": "2025-03-22T17:31:50.795Z"
   },
   {
    "duration": 21,
    "start_time": "2025-03-22T17:31:50.844Z"
   },
   {
    "duration": 9,
    "start_time": "2025-03-22T17:31:50.867Z"
   },
   {
    "duration": 7,
    "start_time": "2025-03-22T17:31:50.878Z"
   },
   {
    "duration": 9,
    "start_time": "2025-03-22T17:31:50.887Z"
   },
   {
    "duration": 17,
    "start_time": "2025-03-22T17:31:50.898Z"
   },
   {
    "duration": 23,
    "start_time": "2025-03-22T17:31:50.916Z"
   },
   {
    "duration": 15,
    "start_time": "2025-03-22T17:31:50.941Z"
   },
   {
    "duration": 11,
    "start_time": "2025-03-22T17:31:50.957Z"
   },
   {
    "duration": 326,
    "start_time": "2025-03-22T17:31:50.970Z"
   },
   {
    "duration": 13613,
    "start_time": "2025-03-22T17:31:51.297Z"
   },
   {
    "duration": 1068,
    "start_time": "2025-03-22T17:32:04.911Z"
   },
   {
    "duration": 433,
    "start_time": "2025-03-22T17:32:05.980Z"
   },
   {
    "duration": 4,
    "start_time": "2025-03-22T17:32:06.415Z"
   },
   {
    "duration": 201,
    "start_time": "2025-03-22T17:32:06.420Z"
   },
   {
    "duration": 161,
    "start_time": "2025-03-22T17:32:06.623Z"
   },
   {
    "duration": 140,
    "start_time": "2025-03-22T17:32:06.785Z"
   },
   {
    "duration": 138,
    "start_time": "2025-03-22T17:32:06.927Z"
   },
   {
    "duration": 139,
    "start_time": "2025-03-22T17:32:07.066Z"
   },
   {
    "duration": 154,
    "start_time": "2025-03-22T17:32:07.206Z"
   },
   {
    "duration": 62,
    "start_time": "2025-03-22T17:32:07.361Z"
   },
   {
    "duration": 17,
    "start_time": "2025-03-22T17:32:07.424Z"
   },
   {
    "duration": 87,
    "start_time": "2025-03-23T14:10:04.095Z"
   },
   {
    "duration": 1672,
    "start_time": "2025-03-23T14:10:11.438Z"
   },
   {
    "duration": 43,
    "start_time": "2025-03-23T14:10:13.113Z"
   },
   {
    "duration": 19,
    "start_time": "2025-03-23T14:10:13.157Z"
   },
   {
    "duration": 33,
    "start_time": "2025-03-23T14:10:13.178Z"
   },
   {
    "duration": 48,
    "start_time": "2025-03-23T14:10:13.213Z"
   },
   {
    "duration": 7,
    "start_time": "2025-03-23T14:10:13.264Z"
   },
   {
    "duration": 32,
    "start_time": "2025-03-23T14:10:13.273Z"
   },
   {
    "duration": 17,
    "start_time": "2025-03-23T14:10:13.306Z"
   },
   {
    "duration": 13,
    "start_time": "2025-03-23T14:10:13.325Z"
   },
   {
    "duration": 5,
    "start_time": "2025-03-23T14:10:13.339Z"
   },
   {
    "duration": 15,
    "start_time": "2025-03-23T14:10:13.345Z"
   },
   {
    "duration": 48,
    "start_time": "2025-03-23T14:10:13.362Z"
   },
   {
    "duration": 3,
    "start_time": "2025-03-23T14:10:13.412Z"
   },
   {
    "duration": 16,
    "start_time": "2025-03-23T14:10:13.418Z"
   },
   {
    "duration": 17,
    "start_time": "2025-03-23T14:10:13.435Z"
   },
   {
    "duration": 32,
    "start_time": "2025-03-23T14:10:13.454Z"
   },
   {
    "duration": 19,
    "start_time": "2025-03-23T14:10:13.488Z"
   },
   {
    "duration": 17,
    "start_time": "2025-03-23T14:10:13.509Z"
   },
   {
    "duration": 30,
    "start_time": "2025-03-23T14:10:13.528Z"
   },
   {
    "duration": 6,
    "start_time": "2025-03-23T14:10:13.559Z"
   },
   {
    "duration": 7,
    "start_time": "2025-03-23T14:10:13.567Z"
   },
   {
    "duration": 18,
    "start_time": "2025-03-23T14:10:13.576Z"
   },
   {
    "duration": 13,
    "start_time": "2025-03-23T14:10:13.604Z"
   },
   {
    "duration": 26,
    "start_time": "2025-03-23T14:10:13.618Z"
   },
   {
    "duration": 18,
    "start_time": "2025-03-23T14:10:13.646Z"
   },
   {
    "duration": 4,
    "start_time": "2025-03-23T14:10:13.666Z"
   },
   {
    "duration": 123,
    "start_time": "2025-03-23T14:10:13.672Z"
   },
   {
    "duration": 11,
    "start_time": "2025-03-23T14:10:13.796Z"
   },
   {
    "duration": 7,
    "start_time": "2025-03-23T14:10:13.809Z"
   },
   {
    "duration": 93,
    "start_time": "2025-03-23T14:10:13.818Z"
   },
   {
    "duration": 17,
    "start_time": "2025-03-23T14:10:13.912Z"
   },
   {
    "duration": 19,
    "start_time": "2025-03-23T14:10:13.931Z"
   },
   {
    "duration": 5,
    "start_time": "2025-03-23T14:10:13.952Z"
   },
   {
    "duration": 7,
    "start_time": "2025-03-23T14:10:13.959Z"
   },
   {
    "duration": 5,
    "start_time": "2025-03-23T14:10:13.968Z"
   },
   {
    "duration": 31,
    "start_time": "2025-03-23T14:10:13.974Z"
   },
   {
    "duration": 9,
    "start_time": "2025-03-23T14:10:14.007Z"
   },
   {
    "duration": 11,
    "start_time": "2025-03-23T14:10:14.018Z"
   },
   {
    "duration": 13,
    "start_time": "2025-03-23T14:10:14.031Z"
   },
   {
    "duration": 9,
    "start_time": "2025-03-23T14:10:14.046Z"
   },
   {
    "duration": 422,
    "start_time": "2025-03-23T14:10:14.060Z"
   },
   {
    "duration": 16091,
    "start_time": "2025-03-23T14:10:14.484Z"
   },
   {
    "duration": 1162,
    "start_time": "2025-03-23T14:10:30.577Z"
   },
   {
    "duration": 486,
    "start_time": "2025-03-23T14:10:31.741Z"
   },
   {
    "duration": 5,
    "start_time": "2025-03-23T14:10:32.229Z"
   },
   {
    "duration": 228,
    "start_time": "2025-03-23T14:10:32.236Z"
   },
   {
    "duration": 186,
    "start_time": "2025-03-23T14:10:32.466Z"
   },
   {
    "duration": 174,
    "start_time": "2025-03-23T14:10:32.654Z"
   },
   {
    "duration": 162,
    "start_time": "2025-03-23T14:10:32.830Z"
   },
   {
    "duration": 161,
    "start_time": "2025-03-23T14:10:32.994Z"
   },
   {
    "duration": 181,
    "start_time": "2025-03-23T14:10:33.158Z"
   },
   {
    "duration": 87,
    "start_time": "2025-03-23T14:10:33.342Z"
   },
   {
    "duration": 19,
    "start_time": "2025-03-23T14:10:33.431Z"
   },
   {
    "duration": 1737,
    "start_time": "2025-03-23T14:37:39.151Z"
   },
   {
    "duration": 96,
    "start_time": "2025-03-23T14:40:43.451Z"
   },
   {
    "duration": 430,
    "start_time": "2025-03-23T14:59:36.019Z"
   },
   {
    "duration": 1229,
    "start_time": "2025-03-23T17:21:49.069Z"
   },
   {
    "duration": 33,
    "start_time": "2025-03-23T17:21:50.300Z"
   },
   {
    "duration": 19,
    "start_time": "2025-03-23T17:21:50.334Z"
   },
   {
    "duration": 24,
    "start_time": "2025-03-23T17:21:50.354Z"
   },
   {
    "duration": 47,
    "start_time": "2025-03-23T17:21:50.381Z"
   },
   {
    "duration": 6,
    "start_time": "2025-03-23T17:21:50.429Z"
   },
   {
    "duration": 14,
    "start_time": "2025-03-23T17:21:50.437Z"
   },
   {
    "duration": 49,
    "start_time": "2025-03-23T17:21:50.453Z"
   },
   {
    "duration": 13,
    "start_time": "2025-03-23T17:21:50.504Z"
   },
   {
    "duration": 6,
    "start_time": "2025-03-23T17:21:50.519Z"
   },
   {
    "duration": 15,
    "start_time": "2025-03-23T17:21:50.526Z"
   },
   {
    "duration": 23,
    "start_time": "2025-03-23T17:21:50.542Z"
   },
   {
    "duration": 5,
    "start_time": "2025-03-23T17:21:50.566Z"
   },
   {
    "duration": 8,
    "start_time": "2025-03-23T17:21:50.574Z"
   },
   {
    "duration": 5,
    "start_time": "2025-03-23T17:21:50.604Z"
   },
   {
    "duration": 60,
    "start_time": "2025-03-23T17:21:50.610Z"
   },
   {
    "duration": 48,
    "start_time": "2025-03-23T17:21:50.671Z"
   },
   {
    "duration": 99,
    "start_time": "2025-03-23T17:21:50.721Z"
   },
   {
    "duration": 15,
    "start_time": "2025-03-23T17:21:50.822Z"
   },
   {
    "duration": 4,
    "start_time": "2025-03-23T17:21:50.838Z"
   },
   {
    "duration": 16,
    "start_time": "2025-03-23T17:21:50.844Z"
   },
   {
    "duration": 4,
    "start_time": "2025-03-23T17:21:50.862Z"
   },
   {
    "duration": 18,
    "start_time": "2025-03-23T17:21:50.868Z"
   },
   {
    "duration": 26,
    "start_time": "2025-03-23T17:21:50.888Z"
   },
   {
    "duration": 18,
    "start_time": "2025-03-23T17:21:50.917Z"
   },
   {
    "duration": 5,
    "start_time": "2025-03-23T17:21:50.937Z"
   },
   {
    "duration": 19,
    "start_time": "2025-03-23T17:21:50.944Z"
   },
   {
    "duration": 14,
    "start_time": "2025-03-23T17:21:50.965Z"
   },
   {
    "duration": 27,
    "start_time": "2025-03-23T17:21:50.981Z"
   },
   {
    "duration": 20,
    "start_time": "2025-03-23T17:21:51.009Z"
   },
   {
    "duration": 14,
    "start_time": "2025-03-23T17:21:51.031Z"
   },
   {
    "duration": 20,
    "start_time": "2025-03-23T17:21:51.047Z"
   },
   {
    "duration": 5,
    "start_time": "2025-03-23T17:21:51.069Z"
   },
   {
    "duration": 6,
    "start_time": "2025-03-23T17:21:51.076Z"
   },
   {
    "duration": 22,
    "start_time": "2025-03-23T17:21:51.084Z"
   },
   {
    "duration": 9,
    "start_time": "2025-03-23T17:21:51.108Z"
   },
   {
    "duration": 18,
    "start_time": "2025-03-23T17:21:51.119Z"
   },
   {
    "duration": 5,
    "start_time": "2025-03-23T17:21:51.140Z"
   },
   {
    "duration": 15,
    "start_time": "2025-03-23T17:21:51.146Z"
   },
   {
    "duration": 6,
    "start_time": "2025-03-23T17:21:51.162Z"
   },
   {
    "duration": 372,
    "start_time": "2025-03-23T17:21:51.171Z"
   },
   {
    "duration": 14087,
    "start_time": "2025-03-23T17:21:51.545Z"
   },
   {
    "duration": 1148,
    "start_time": "2025-03-23T17:22:05.634Z"
   },
   {
    "duration": 457,
    "start_time": "2025-03-23T17:22:06.784Z"
   },
   {
    "duration": 4,
    "start_time": "2025-03-23T17:22:07.243Z"
   },
   {
    "duration": 243,
    "start_time": "2025-03-23T17:22:07.248Z"
   },
   {
    "duration": 228,
    "start_time": "2025-03-23T17:22:07.493Z"
   },
   {
    "duration": 170,
    "start_time": "2025-03-23T17:22:07.723Z"
   },
   {
    "duration": 151,
    "start_time": "2025-03-23T17:22:07.895Z"
   },
   {
    "duration": 153,
    "start_time": "2025-03-23T17:22:08.047Z"
   },
   {
    "duration": 180,
    "start_time": "2025-03-23T17:22:08.203Z"
   },
   {
    "duration": 81,
    "start_time": "2025-03-23T17:22:08.385Z"
   },
   {
    "duration": 19,
    "start_time": "2025-03-23T17:22:08.467Z"
   },
   {
    "duration": 542,
    "start_time": "2025-03-23T17:22:08.488Z"
   },
   {
    "duration": 1261,
    "start_time": "2025-03-23T18:02:33.413Z"
   },
   {
    "duration": 31,
    "start_time": "2025-03-23T18:02:34.676Z"
   },
   {
    "duration": 35,
    "start_time": "2025-03-23T18:02:34.709Z"
   },
   {
    "duration": 51,
    "start_time": "2025-03-23T18:02:34.746Z"
   },
   {
    "duration": 87,
    "start_time": "2025-03-23T18:02:34.799Z"
   },
   {
    "duration": 19,
    "start_time": "2025-03-23T18:02:34.888Z"
   },
   {
    "duration": 43,
    "start_time": "2025-03-23T18:02:34.909Z"
   },
   {
    "duration": 39,
    "start_time": "2025-03-23T18:02:34.954Z"
   },
   {
    "duration": 63,
    "start_time": "2025-03-23T18:02:34.995Z"
   },
   {
    "duration": 44,
    "start_time": "2025-03-23T18:02:35.061Z"
   },
   {
    "duration": 45,
    "start_time": "2025-03-23T18:02:35.107Z"
   },
   {
    "duration": 60,
    "start_time": "2025-03-23T18:02:35.153Z"
   },
   {
    "duration": 30,
    "start_time": "2025-03-23T18:02:35.215Z"
   },
   {
    "duration": 56,
    "start_time": "2025-03-23T18:02:35.248Z"
   },
   {
    "duration": 48,
    "start_time": "2025-03-23T18:02:35.306Z"
   },
   {
    "duration": 46,
    "start_time": "2025-03-23T18:02:35.356Z"
   },
   {
    "duration": 67,
    "start_time": "2025-03-23T18:02:35.403Z"
   },
   {
    "duration": 36,
    "start_time": "2025-03-23T18:02:35.472Z"
   },
   {
    "duration": 46,
    "start_time": "2025-03-23T18:02:35.509Z"
   },
   {
    "duration": 28,
    "start_time": "2025-03-23T18:02:35.557Z"
   },
   {
    "duration": 45,
    "start_time": "2025-03-23T18:02:35.587Z"
   },
   {
    "duration": 65,
    "start_time": "2025-03-23T18:02:35.633Z"
   },
   {
    "duration": 82,
    "start_time": "2025-03-23T18:02:35.699Z"
   },
   {
    "duration": 40,
    "start_time": "2025-03-23T18:02:35.783Z"
   },
   {
    "duration": 44,
    "start_time": "2025-03-23T18:02:35.825Z"
   },
   {
    "duration": 24,
    "start_time": "2025-03-23T18:02:35.871Z"
   },
   {
    "duration": 58,
    "start_time": "2025-03-23T18:02:35.897Z"
   },
   {
    "duration": 34,
    "start_time": "2025-03-23T18:02:35.957Z"
   },
   {
    "duration": 49,
    "start_time": "2025-03-23T18:02:35.993Z"
   },
   {
    "duration": 45,
    "start_time": "2025-03-23T18:02:36.044Z"
   },
   {
    "duration": 67,
    "start_time": "2025-03-23T18:02:36.092Z"
   },
   {
    "duration": 85,
    "start_time": "2025-03-23T18:02:36.161Z"
   },
   {
    "duration": 5,
    "start_time": "2025-03-23T18:02:36.248Z"
   },
   {
    "duration": 34,
    "start_time": "2025-03-23T18:02:36.254Z"
   },
   {
    "duration": 29,
    "start_time": "2025-03-23T18:02:36.290Z"
   },
   {
    "duration": 24,
    "start_time": "2025-03-23T18:02:36.321Z"
   },
   {
    "duration": 64,
    "start_time": "2025-03-23T18:02:36.347Z"
   },
   {
    "duration": 24,
    "start_time": "2025-03-23T18:02:36.412Z"
   },
   {
    "duration": 34,
    "start_time": "2025-03-23T18:02:36.438Z"
   },
   {
    "duration": 48,
    "start_time": "2025-03-23T18:02:36.475Z"
   },
   {
    "duration": 538,
    "start_time": "2025-03-23T18:02:36.527Z"
   },
   {
    "duration": 14590,
    "start_time": "2025-03-23T18:02:37.067Z"
   },
   {
    "duration": 1160,
    "start_time": "2025-03-23T18:02:51.659Z"
   },
   {
    "duration": 442,
    "start_time": "2025-03-23T18:02:52.820Z"
   },
   {
    "duration": 6,
    "start_time": "2025-03-23T18:02:53.264Z"
   },
   {
    "duration": 224,
    "start_time": "2025-03-23T18:02:53.272Z"
   },
   {
    "duration": 174,
    "start_time": "2025-03-23T18:02:53.498Z"
   },
   {
    "duration": 152,
    "start_time": "2025-03-23T18:02:53.674Z"
   },
   {
    "duration": 152,
    "start_time": "2025-03-23T18:02:53.828Z"
   },
   {
    "duration": 143,
    "start_time": "2025-03-23T18:02:53.982Z"
   },
   {
    "duration": 165,
    "start_time": "2025-03-23T18:02:54.127Z"
   },
   {
    "duration": 75,
    "start_time": "2025-03-23T18:02:54.294Z"
   },
   {
    "duration": 39,
    "start_time": "2025-03-23T18:02:54.370Z"
   },
   {
    "duration": 477,
    "start_time": "2025-03-23T18:02:54.412Z"
   },
   {
    "duration": 730,
    "start_time": "2025-03-23T18:02:54.891Z"
   },
   {
    "duration": 1779,
    "start_time": "2025-03-23T18:04:58.718Z"
   },
   {
    "duration": 704,
    "start_time": "2025-03-23T19:00:31.377Z"
   },
   {
    "duration": 830,
    "start_time": "2025-03-23T19:01:16.563Z"
   },
   {
    "duration": 19,
    "start_time": "2025-03-23T19:15:00.844Z"
   },
   {
    "duration": 10,
    "start_time": "2025-03-23T19:21:00.186Z"
   },
   {
    "duration": 10,
    "start_time": "2025-03-23T19:22:47.862Z"
   },
   {
    "duration": 8,
    "start_time": "2025-03-23T19:32:30.210Z"
   },
   {
    "duration": 6,
    "start_time": "2025-03-23T19:32:36.488Z"
   },
   {
    "duration": 6,
    "start_time": "2025-03-23T19:32:44.709Z"
   },
   {
    "duration": 4,
    "start_time": "2025-03-23T19:33:06.138Z"
   },
   {
    "duration": 10,
    "start_time": "2025-03-23T19:41:02.926Z"
   },
   {
    "duration": 6,
    "start_time": "2025-03-23T19:41:11.185Z"
   },
   {
    "duration": 9,
    "start_time": "2025-03-23T19:44:14.376Z"
   },
   {
    "duration": 6,
    "start_time": "2025-03-23T19:45:16.777Z"
   },
   {
    "duration": 5,
    "start_time": "2025-03-23T19:45:44.066Z"
   },
   {
    "duration": 5,
    "start_time": "2025-03-23T19:45:57.293Z"
   },
   {
    "duration": 5,
    "start_time": "2025-03-23T19:46:15.766Z"
   },
   {
    "duration": 7,
    "start_time": "2025-03-23T19:47:19.898Z"
   },
   {
    "duration": 4,
    "start_time": "2025-03-23T19:47:30.053Z"
   },
   {
    "duration": 10,
    "start_time": "2025-03-23T19:53:15.860Z"
   },
   {
    "duration": 11,
    "start_time": "2025-03-23T20:08:51.791Z"
   },
   {
    "duration": 100,
    "start_time": "2025-03-23T21:07:03.516Z"
   },
   {
    "duration": 19,
    "start_time": "2025-03-23T21:07:14.698Z"
   },
   {
    "duration": 9,
    "start_time": "2025-03-23T21:09:55.394Z"
   },
   {
    "duration": 5,
    "start_time": "2025-03-23T21:10:05.212Z"
   },
   {
    "duration": 5,
    "start_time": "2025-03-23T21:10:29.001Z"
   },
   {
    "duration": 12,
    "start_time": "2025-03-23T21:12:56.441Z"
   },
   {
    "duration": 17,
    "start_time": "2025-03-23T21:13:15.144Z"
   },
   {
    "duration": 155,
    "start_time": "2025-03-23T22:19:24.722Z"
   },
   {
    "duration": 17,
    "start_time": "2025-03-23T22:20:31.165Z"
   },
   {
    "duration": 23,
    "start_time": "2025-03-23T22:20:54.499Z"
   },
   {
    "duration": 16,
    "start_time": "2025-03-23T22:21:48.154Z"
   },
   {
    "duration": 43,
    "start_time": "2025-03-23T22:43:37.557Z"
   },
   {
    "duration": 31,
    "start_time": "2025-03-23T22:44:51.003Z"
   },
   {
    "duration": 11,
    "start_time": "2025-03-23T22:45:10.072Z"
   },
   {
    "duration": 121,
    "start_time": "2025-03-23T22:47:09.603Z"
   },
   {
    "duration": 13,
    "start_time": "2025-03-23T22:48:31.062Z"
   },
   {
    "duration": 11,
    "start_time": "2025-03-23T22:48:44.404Z"
   },
   {
    "duration": 7,
    "start_time": "2025-03-23T22:48:51.983Z"
   },
   {
    "duration": 8,
    "start_time": "2025-03-23T22:49:03.643Z"
   },
   {
    "duration": 19,
    "start_time": "2025-03-23T22:51:44.059Z"
   },
   {
    "duration": 15,
    "start_time": "2025-03-23T22:53:16.276Z"
   },
   {
    "duration": 1282,
    "start_time": "2025-03-23T23:17:45.553Z"
   },
   {
    "duration": 42,
    "start_time": "2025-03-23T23:17:46.837Z"
   },
   {
    "duration": 19,
    "start_time": "2025-03-23T23:17:46.881Z"
   },
   {
    "duration": 12,
    "start_time": "2025-03-23T23:17:46.903Z"
   },
   {
    "duration": 44,
    "start_time": "2025-03-23T23:17:46.917Z"
   },
   {
    "duration": 6,
    "start_time": "2025-03-23T23:17:46.963Z"
   },
   {
    "duration": 28,
    "start_time": "2025-03-23T23:17:46.971Z"
   },
   {
    "duration": 19,
    "start_time": "2025-03-23T23:17:47.000Z"
   },
   {
    "duration": 16,
    "start_time": "2025-03-23T23:17:47.020Z"
   },
   {
    "duration": 5,
    "start_time": "2025-03-23T23:17:47.037Z"
   },
   {
    "duration": 17,
    "start_time": "2025-03-23T23:17:47.043Z"
   },
   {
    "duration": 14,
    "start_time": "2025-03-23T23:17:47.063Z"
   },
   {
    "duration": 3,
    "start_time": "2025-03-23T23:17:47.079Z"
   },
   {
    "duration": 25,
    "start_time": "2025-03-23T23:17:47.085Z"
   },
   {
    "duration": 4,
    "start_time": "2025-03-23T23:17:47.112Z"
   },
   {
    "duration": 6,
    "start_time": "2025-03-23T23:17:47.117Z"
   },
   {
    "duration": 16,
    "start_time": "2025-03-23T23:17:47.124Z"
   },
   {
    "duration": 13,
    "start_time": "2025-03-23T23:17:47.142Z"
   },
   {
    "duration": 12,
    "start_time": "2025-03-23T23:17:47.156Z"
   },
   {
    "duration": 5,
    "start_time": "2025-03-23T23:17:47.203Z"
   },
   {
    "duration": 5,
    "start_time": "2025-03-23T23:17:47.210Z"
   },
   {
    "duration": 6,
    "start_time": "2025-03-23T23:17:47.217Z"
   },
   {
    "duration": 11,
    "start_time": "2025-03-23T23:17:47.224Z"
   },
   {
    "duration": 13,
    "start_time": "2025-03-23T23:17:47.236Z"
   },
   {
    "duration": 15,
    "start_time": "2025-03-23T23:17:47.251Z"
   },
   {
    "duration": 38,
    "start_time": "2025-03-23T23:17:47.268Z"
   },
   {
    "duration": 14,
    "start_time": "2025-03-23T23:17:47.308Z"
   },
   {
    "duration": 10,
    "start_time": "2025-03-23T23:17:47.323Z"
   },
   {
    "duration": 6,
    "start_time": "2025-03-23T23:17:47.335Z"
   },
   {
    "duration": 6,
    "start_time": "2025-03-23T23:17:47.343Z"
   },
   {
    "duration": 21,
    "start_time": "2025-03-23T23:17:47.351Z"
   },
   {
    "duration": 36,
    "start_time": "2025-03-23T23:17:47.374Z"
   },
   {
    "duration": 5,
    "start_time": "2025-03-23T23:17:47.412Z"
   },
   {
    "duration": 6,
    "start_time": "2025-03-23T23:17:47.418Z"
   },
   {
    "duration": 5,
    "start_time": "2025-03-23T23:17:47.426Z"
   },
   {
    "duration": 4,
    "start_time": "2025-03-23T23:17:47.432Z"
   },
   {
    "duration": 8,
    "start_time": "2025-03-23T23:17:47.438Z"
   },
   {
    "duration": 4,
    "start_time": "2025-03-23T23:17:47.448Z"
   },
   {
    "duration": 50,
    "start_time": "2025-03-23T23:17:47.454Z"
   },
   {
    "duration": 3,
    "start_time": "2025-03-23T23:17:47.506Z"
   },
   {
    "duration": 390,
    "start_time": "2025-03-23T23:17:47.513Z"
   },
   {
    "duration": 14047,
    "start_time": "2025-03-23T23:17:47.905Z"
   },
   {
    "duration": 1044,
    "start_time": "2025-03-23T23:18:01.954Z"
   },
   {
    "duration": 427,
    "start_time": "2025-03-23T23:18:03.003Z"
   },
   {
    "duration": 5,
    "start_time": "2025-03-23T23:18:03.431Z"
   },
   {
    "duration": 237,
    "start_time": "2025-03-23T23:18:03.437Z"
   },
   {
    "duration": 173,
    "start_time": "2025-03-23T23:18:03.676Z"
   },
   {
    "duration": 143,
    "start_time": "2025-03-23T23:18:03.851Z"
   },
   {
    "duration": 145,
    "start_time": "2025-03-23T23:18:03.995Z"
   },
   {
    "duration": 140,
    "start_time": "2025-03-23T23:18:04.142Z"
   },
   {
    "duration": 153,
    "start_time": "2025-03-23T23:18:04.283Z"
   },
   {
    "duration": 73,
    "start_time": "2025-03-23T23:18:04.438Z"
   },
   {
    "duration": 16,
    "start_time": "2025-03-23T23:18:04.513Z"
   },
   {
    "duration": 489,
    "start_time": "2025-03-23T23:18:04.530Z"
   },
   {
    "duration": 6,
    "start_time": "2025-03-23T23:18:05.021Z"
   },
   {
    "duration": 683,
    "start_time": "2025-03-23T23:18:05.029Z"
   },
   {
    "duration": 116,
    "start_time": "2025-03-23T23:18:05.714Z"
   },
   {
    "duration": 0,
    "start_time": "2025-03-23T23:18:05.831Z"
   },
   {
    "duration": 0,
    "start_time": "2025-03-23T23:18:05.832Z"
   },
   {
    "duration": 0,
    "start_time": "2025-03-23T23:18:05.834Z"
   },
   {
    "duration": 0,
    "start_time": "2025-03-23T23:18:05.835Z"
   },
   {
    "duration": 0,
    "start_time": "2025-03-23T23:18:05.836Z"
   },
   {
    "duration": 0,
    "start_time": "2025-03-23T23:18:05.837Z"
   },
   {
    "duration": 0,
    "start_time": "2025-03-23T23:18:05.839Z"
   },
   {
    "duration": 10,
    "start_time": "2025-03-23T23:20:42.767Z"
   },
   {
    "duration": 11,
    "start_time": "2025-03-23T23:21:07.362Z"
   },
   {
    "duration": 10,
    "start_time": "2025-03-23T23:21:11.673Z"
   },
   {
    "duration": 10,
    "start_time": "2025-03-23T23:21:42.504Z"
   },
   {
    "duration": 4,
    "start_time": "2025-03-23T23:21:58.807Z"
   },
   {
    "duration": 5,
    "start_time": "2025-03-23T23:22:16.877Z"
   },
   {
    "duration": 11,
    "start_time": "2025-03-23T23:22:30.541Z"
   },
   {
    "duration": 1291,
    "start_time": "2025-03-23T23:22:46.426Z"
   },
   {
    "duration": 35,
    "start_time": "2025-03-23T23:22:47.719Z"
   },
   {
    "duration": 19,
    "start_time": "2025-03-23T23:22:47.756Z"
   },
   {
    "duration": 13,
    "start_time": "2025-03-23T23:22:47.777Z"
   },
   {
    "duration": 49,
    "start_time": "2025-03-23T23:22:47.792Z"
   },
   {
    "duration": 8,
    "start_time": "2025-03-23T23:22:47.842Z"
   },
   {
    "duration": 24,
    "start_time": "2025-03-23T23:22:47.851Z"
   },
   {
    "duration": 11,
    "start_time": "2025-03-23T23:22:47.877Z"
   },
   {
    "duration": 16,
    "start_time": "2025-03-23T23:22:47.890Z"
   },
   {
    "duration": 13,
    "start_time": "2025-03-23T23:22:47.907Z"
   },
   {
    "duration": 21,
    "start_time": "2025-03-23T23:22:47.921Z"
   },
   {
    "duration": 16,
    "start_time": "2025-03-23T23:22:47.944Z"
   },
   {
    "duration": 7,
    "start_time": "2025-03-23T23:22:47.962Z"
   },
   {
    "duration": 28,
    "start_time": "2025-03-23T23:22:47.972Z"
   },
   {
    "duration": 7,
    "start_time": "2025-03-23T23:22:48.001Z"
   },
   {
    "duration": 9,
    "start_time": "2025-03-23T23:22:48.009Z"
   },
   {
    "duration": 18,
    "start_time": "2025-03-23T23:22:48.020Z"
   },
   {
    "duration": 23,
    "start_time": "2025-03-23T23:22:48.040Z"
   },
   {
    "duration": 12,
    "start_time": "2025-03-23T23:22:48.065Z"
   },
   {
    "duration": 6,
    "start_time": "2025-03-23T23:22:48.079Z"
   },
   {
    "duration": 5,
    "start_time": "2025-03-23T23:22:48.103Z"
   },
   {
    "duration": 6,
    "start_time": "2025-03-23T23:22:48.110Z"
   },
   {
    "duration": 14,
    "start_time": "2025-03-23T23:22:48.117Z"
   },
   {
    "duration": 15,
    "start_time": "2025-03-23T23:22:48.133Z"
   },
   {
    "duration": 15,
    "start_time": "2025-03-23T23:22:48.150Z"
   },
   {
    "duration": 39,
    "start_time": "2025-03-23T23:22:48.167Z"
   },
   {
    "duration": 19,
    "start_time": "2025-03-23T23:22:48.208Z"
   },
   {
    "duration": 20,
    "start_time": "2025-03-23T23:22:48.229Z"
   },
   {
    "duration": 7,
    "start_time": "2025-03-23T23:22:48.251Z"
   },
   {
    "duration": 17,
    "start_time": "2025-03-23T23:22:48.260Z"
   },
   {
    "duration": 12,
    "start_time": "2025-03-23T23:22:48.279Z"
   },
   {
    "duration": 40,
    "start_time": "2025-03-23T23:22:48.292Z"
   },
   {
    "duration": 13,
    "start_time": "2025-03-23T23:22:48.334Z"
   },
   {
    "duration": 15,
    "start_time": "2025-03-23T23:22:48.349Z"
   },
   {
    "duration": 10,
    "start_time": "2025-03-23T23:22:48.366Z"
   },
   {
    "duration": 19,
    "start_time": "2025-03-23T23:22:48.377Z"
   },
   {
    "duration": 13,
    "start_time": "2025-03-23T23:22:48.398Z"
   },
   {
    "duration": 13,
    "start_time": "2025-03-23T23:22:48.413Z"
   },
   {
    "duration": 18,
    "start_time": "2025-03-23T23:22:48.428Z"
   },
   {
    "duration": 33,
    "start_time": "2025-03-23T23:22:48.448Z"
   },
   {
    "duration": 367,
    "start_time": "2025-03-23T23:22:48.485Z"
   },
   {
    "duration": 13894,
    "start_time": "2025-03-23T23:22:48.854Z"
   },
   {
    "duration": 1073,
    "start_time": "2025-03-23T23:23:02.749Z"
   },
   {
    "duration": 438,
    "start_time": "2025-03-23T23:23:03.824Z"
   },
   {
    "duration": 4,
    "start_time": "2025-03-23T23:23:04.264Z"
   },
   {
    "duration": 217,
    "start_time": "2025-03-23T23:23:04.269Z"
   },
   {
    "duration": 166,
    "start_time": "2025-03-23T23:23:04.487Z"
   },
   {
    "duration": 143,
    "start_time": "2025-03-23T23:23:04.655Z"
   },
   {
    "duration": 138,
    "start_time": "2025-03-23T23:23:04.803Z"
   },
   {
    "duration": 127,
    "start_time": "2025-03-23T23:23:04.943Z"
   },
   {
    "duration": 157,
    "start_time": "2025-03-23T23:23:05.072Z"
   },
   {
    "duration": 62,
    "start_time": "2025-03-23T23:23:05.231Z"
   },
   {
    "duration": 17,
    "start_time": "2025-03-23T23:23:05.303Z"
   },
   {
    "duration": 471,
    "start_time": "2025-03-23T23:23:05.322Z"
   },
   {
    "duration": 13,
    "start_time": "2025-03-23T23:23:05.795Z"
   },
   {
    "duration": 682,
    "start_time": "2025-03-23T23:23:05.810Z"
   },
   {
    "duration": 118,
    "start_time": "2025-03-23T23:23:06.494Z"
   },
   {
    "duration": 0,
    "start_time": "2025-03-23T23:23:06.614Z"
   },
   {
    "duration": 0,
    "start_time": "2025-03-23T23:23:06.616Z"
   },
   {
    "duration": 0,
    "start_time": "2025-03-23T23:23:06.618Z"
   },
   {
    "duration": 0,
    "start_time": "2025-03-23T23:23:06.619Z"
   },
   {
    "duration": 0,
    "start_time": "2025-03-23T23:23:06.621Z"
   },
   {
    "duration": 0,
    "start_time": "2025-03-23T23:23:06.622Z"
   },
   {
    "duration": 0,
    "start_time": "2025-03-23T23:23:06.624Z"
   },
   {
    "duration": 12,
    "start_time": "2025-03-23T23:23:58.116Z"
   },
   {
    "duration": 11,
    "start_time": "2025-03-23T23:24:14.128Z"
   },
   {
    "duration": 6,
    "start_time": "2025-03-23T23:25:28.414Z"
   },
   {
    "duration": 6,
    "start_time": "2025-03-23T23:25:46.113Z"
   },
   {
    "duration": 4,
    "start_time": "2025-03-23T23:26:02.047Z"
   },
   {
    "duration": 1287,
    "start_time": "2025-03-23T23:26:11.588Z"
   },
   {
    "duration": 34,
    "start_time": "2025-03-23T23:26:12.877Z"
   },
   {
    "duration": 43,
    "start_time": "2025-03-23T23:26:12.912Z"
   },
   {
    "duration": 73,
    "start_time": "2025-03-23T23:26:12.957Z"
   },
   {
    "duration": 41,
    "start_time": "2025-03-23T23:26:13.033Z"
   },
   {
    "duration": 8,
    "start_time": "2025-03-23T23:26:13.076Z"
   },
   {
    "duration": 23,
    "start_time": "2025-03-23T23:26:13.085Z"
   },
   {
    "duration": 23,
    "start_time": "2025-03-23T23:26:13.109Z"
   },
   {
    "duration": 29,
    "start_time": "2025-03-23T23:26:13.134Z"
   },
   {
    "duration": 16,
    "start_time": "2025-03-23T23:26:13.165Z"
   },
   {
    "duration": 23,
    "start_time": "2025-03-23T23:26:13.183Z"
   },
   {
    "duration": 57,
    "start_time": "2025-03-23T23:26:13.208Z"
   },
   {
    "duration": 27,
    "start_time": "2025-03-23T23:26:13.266Z"
   },
   {
    "duration": 26,
    "start_time": "2025-03-23T23:26:13.296Z"
   },
   {
    "duration": 16,
    "start_time": "2025-03-23T23:26:13.325Z"
   },
   {
    "duration": 22,
    "start_time": "2025-03-23T23:26:13.343Z"
   },
   {
    "duration": 20,
    "start_time": "2025-03-23T23:26:13.367Z"
   },
   {
    "duration": 43,
    "start_time": "2025-03-23T23:26:13.388Z"
   },
   {
    "duration": 47,
    "start_time": "2025-03-23T23:26:13.433Z"
   },
   {
    "duration": 11,
    "start_time": "2025-03-23T23:26:13.482Z"
   },
   {
    "duration": 29,
    "start_time": "2025-03-23T23:26:13.495Z"
   },
   {
    "duration": 25,
    "start_time": "2025-03-23T23:26:13.527Z"
   },
   {
    "duration": 27,
    "start_time": "2025-03-23T23:26:13.553Z"
   },
   {
    "duration": 13,
    "start_time": "2025-03-23T23:26:13.581Z"
   },
   {
    "duration": 15,
    "start_time": "2025-03-23T23:26:13.596Z"
   },
   {
    "duration": 6,
    "start_time": "2025-03-23T23:26:13.614Z"
   },
   {
    "duration": 22,
    "start_time": "2025-03-23T23:26:13.622Z"
   },
   {
    "duration": 13,
    "start_time": "2025-03-23T23:26:13.646Z"
   },
   {
    "duration": 7,
    "start_time": "2025-03-23T23:26:13.660Z"
   },
   {
    "duration": 7,
    "start_time": "2025-03-23T23:26:13.668Z"
   },
   {
    "duration": 28,
    "start_time": "2025-03-23T23:26:13.677Z"
   },
   {
    "duration": 19,
    "start_time": "2025-03-23T23:26:13.707Z"
   },
   {
    "duration": 5,
    "start_time": "2025-03-23T23:26:13.727Z"
   },
   {
    "duration": 6,
    "start_time": "2025-03-23T23:26:13.733Z"
   },
   {
    "duration": 13,
    "start_time": "2025-03-23T23:26:13.740Z"
   },
   {
    "duration": 5,
    "start_time": "2025-03-23T23:26:13.755Z"
   },
   {
    "duration": 4,
    "start_time": "2025-03-23T23:26:13.761Z"
   },
   {
    "duration": 40,
    "start_time": "2025-03-23T23:26:13.766Z"
   },
   {
    "duration": 21,
    "start_time": "2025-03-23T23:26:13.808Z"
   },
   {
    "duration": 7,
    "start_time": "2025-03-23T23:26:13.831Z"
   },
   {
    "duration": 388,
    "start_time": "2025-03-23T23:26:13.842Z"
   },
   {
    "duration": 14535,
    "start_time": "2025-03-23T23:26:14.232Z"
   },
   {
    "duration": 1186,
    "start_time": "2025-03-23T23:26:28.768Z"
   },
   {
    "duration": 484,
    "start_time": "2025-03-23T23:26:29.956Z"
   },
   {
    "duration": 5,
    "start_time": "2025-03-23T23:26:30.441Z"
   },
   {
    "duration": 241,
    "start_time": "2025-03-23T23:26:30.447Z"
   },
   {
    "duration": 176,
    "start_time": "2025-03-23T23:26:30.690Z"
   },
   {
    "duration": 159,
    "start_time": "2025-03-23T23:26:30.868Z"
   },
   {
    "duration": 145,
    "start_time": "2025-03-23T23:26:31.029Z"
   },
   {
    "duration": 144,
    "start_time": "2025-03-23T23:26:31.176Z"
   },
   {
    "duration": 169,
    "start_time": "2025-03-23T23:26:31.322Z"
   },
   {
    "duration": 84,
    "start_time": "2025-03-23T23:26:31.492Z"
   },
   {
    "duration": 40,
    "start_time": "2025-03-23T23:26:31.578Z"
   },
   {
    "duration": 560,
    "start_time": "2025-03-23T23:26:31.620Z"
   },
   {
    "duration": 5,
    "start_time": "2025-03-23T23:26:32.182Z"
   },
   {
    "duration": 789,
    "start_time": "2025-03-23T23:26:32.189Z"
   },
   {
    "duration": 6,
    "start_time": "2025-03-23T23:26:32.979Z"
   },
   {
    "duration": 21,
    "start_time": "2025-03-23T23:26:32.987Z"
   },
   {
    "duration": 14,
    "start_time": "2025-03-23T23:26:33.010Z"
   },
   {
    "duration": 5,
    "start_time": "2025-03-23T23:26:33.026Z"
   },
   {
    "duration": 17,
    "start_time": "2025-03-23T23:26:33.032Z"
   },
   {
    "duration": 7,
    "start_time": "2025-03-23T23:26:33.050Z"
   },
   {
    "duration": 9,
    "start_time": "2025-03-23T23:26:33.059Z"
   },
   {
    "duration": 41,
    "start_time": "2025-03-23T23:26:33.070Z"
   },
   {
    "duration": 134,
    "start_time": "2025-03-23T23:57:42.014Z"
   },
   {
    "duration": 119,
    "start_time": "2025-03-23T23:57:53.776Z"
   },
   {
    "duration": 22,
    "start_time": "2025-03-23T23:57:59.316Z"
   },
   {
    "duration": 16,
    "start_time": "2025-03-23T23:58:06.165Z"
   },
   {
    "duration": 24,
    "start_time": "2025-03-24T00:01:08.682Z"
   },
   {
    "duration": 31,
    "start_time": "2025-03-24T00:10:23.877Z"
   },
   {
    "duration": 13,
    "start_time": "2025-03-24T00:11:29.530Z"
   },
   {
    "duration": 12,
    "start_time": "2025-03-24T00:11:36.980Z"
   },
   {
    "duration": 135,
    "start_time": "2025-03-24T00:17:10.899Z"
   },
   {
    "duration": 7,
    "start_time": "2025-03-24T00:17:15.616Z"
   },
   {
    "duration": 1386,
    "start_time": "2025-03-24T00:18:02.584Z"
   },
   {
    "duration": 4,
    "start_time": "2025-03-24T00:18:20.133Z"
   },
   {
    "duration": 4,
    "start_time": "2025-03-24T00:18:27.736Z"
   },
   {
    "duration": 6,
    "start_time": "2025-03-24T00:18:46.739Z"
   },
   {
    "duration": 5,
    "start_time": "2025-03-24T00:18:54.054Z"
   },
   {
    "duration": 6,
    "start_time": "2025-03-24T00:21:12.516Z"
   },
   {
    "duration": 1303,
    "start_time": "2025-03-24T00:57:54.417Z"
   },
   {
    "duration": 35,
    "start_time": "2025-03-24T00:57:55.722Z"
   },
   {
    "duration": 18,
    "start_time": "2025-03-24T00:57:55.759Z"
   },
   {
    "duration": 11,
    "start_time": "2025-03-24T00:57:55.778Z"
   },
   {
    "duration": 53,
    "start_time": "2025-03-24T00:57:55.791Z"
   },
   {
    "duration": 7,
    "start_time": "2025-03-24T00:57:55.846Z"
   },
   {
    "duration": 5,
    "start_time": "2025-03-24T00:57:55.855Z"
   },
   {
    "duration": 8,
    "start_time": "2025-03-24T00:57:55.861Z"
   },
   {
    "duration": 9,
    "start_time": "2025-03-24T00:57:55.871Z"
   },
   {
    "duration": 26,
    "start_time": "2025-03-24T00:57:55.881Z"
   },
   {
    "duration": 38,
    "start_time": "2025-03-24T00:57:55.909Z"
   },
   {
    "duration": 34,
    "start_time": "2025-03-24T00:57:55.948Z"
   },
   {
    "duration": 4,
    "start_time": "2025-03-24T00:57:55.983Z"
   },
   {
    "duration": 9,
    "start_time": "2025-03-24T00:57:55.990Z"
   },
   {
    "duration": 4,
    "start_time": "2025-03-24T00:57:56.001Z"
   },
   {
    "duration": 4,
    "start_time": "2025-03-24T00:57:56.006Z"
   },
   {
    "duration": 13,
    "start_time": "2025-03-24T00:57:56.011Z"
   },
   {
    "duration": 13,
    "start_time": "2025-03-24T00:57:56.026Z"
   },
   {
    "duration": 11,
    "start_time": "2025-03-24T00:57:56.040Z"
   },
   {
    "duration": 9,
    "start_time": "2025-03-24T00:57:56.053Z"
   },
   {
    "duration": 20,
    "start_time": "2025-03-24T00:57:56.064Z"
   },
   {
    "duration": 7,
    "start_time": "2025-03-24T00:57:56.085Z"
   },
   {
    "duration": 20,
    "start_time": "2025-03-24T00:57:56.093Z"
   },
   {
    "duration": 13,
    "start_time": "2025-03-24T00:57:56.114Z"
   },
   {
    "duration": 13,
    "start_time": "2025-03-24T00:57:56.129Z"
   },
   {
    "duration": 22,
    "start_time": "2025-03-24T00:57:56.143Z"
   },
   {
    "duration": 18,
    "start_time": "2025-03-24T00:57:56.167Z"
   },
   {
    "duration": 23,
    "start_time": "2025-03-24T00:57:56.186Z"
   },
   {
    "duration": 6,
    "start_time": "2025-03-24T00:57:56.211Z"
   },
   {
    "duration": 6,
    "start_time": "2025-03-24T00:57:56.218Z"
   },
   {
    "duration": 16,
    "start_time": "2025-03-24T00:57:56.225Z"
   },
   {
    "duration": 86,
    "start_time": "2025-03-24T00:57:56.242Z"
   },
   {
    "duration": 19,
    "start_time": "2025-03-24T00:57:56.329Z"
   },
   {
    "duration": 16,
    "start_time": "2025-03-24T00:57:56.349Z"
   },
   {
    "duration": 5,
    "start_time": "2025-03-24T00:57:56.366Z"
   },
   {
    "duration": 15,
    "start_time": "2025-03-24T00:57:56.373Z"
   },
   {
    "duration": 11,
    "start_time": "2025-03-24T00:57:56.389Z"
   },
   {
    "duration": 30,
    "start_time": "2025-03-24T00:57:56.402Z"
   },
   {
    "duration": 24,
    "start_time": "2025-03-24T00:57:56.433Z"
   },
   {
    "duration": 7,
    "start_time": "2025-03-24T00:57:56.459Z"
   },
   {
    "duration": 356,
    "start_time": "2025-03-24T00:57:56.471Z"
   },
   {
    "duration": 13663,
    "start_time": "2025-03-24T00:57:56.829Z"
   },
   {
    "duration": 1051,
    "start_time": "2025-03-24T00:58:10.494Z"
   },
   {
    "duration": 421,
    "start_time": "2025-03-24T00:58:11.548Z"
   },
   {
    "duration": 6,
    "start_time": "2025-03-24T00:58:11.971Z"
   },
   {
    "duration": 199,
    "start_time": "2025-03-24T00:58:11.978Z"
   },
   {
    "duration": 181,
    "start_time": "2025-03-24T00:58:12.179Z"
   },
   {
    "duration": 144,
    "start_time": "2025-03-24T00:58:12.362Z"
   },
   {
    "duration": 134,
    "start_time": "2025-03-24T00:58:12.508Z"
   },
   {
    "duration": 136,
    "start_time": "2025-03-24T00:58:12.644Z"
   },
   {
    "duration": 158,
    "start_time": "2025-03-24T00:58:12.782Z"
   },
   {
    "duration": 77,
    "start_time": "2025-03-24T00:58:12.942Z"
   },
   {
    "duration": 21,
    "start_time": "2025-03-24T00:58:13.021Z"
   },
   {
    "duration": 511,
    "start_time": "2025-03-24T00:58:13.044Z"
   },
   {
    "duration": 8,
    "start_time": "2025-03-24T00:58:13.557Z"
   },
   {
    "duration": 682,
    "start_time": "2025-03-24T00:58:13.566Z"
   },
   {
    "duration": 7,
    "start_time": "2025-03-24T00:58:14.250Z"
   },
   {
    "duration": 6,
    "start_time": "2025-03-24T00:58:14.259Z"
   },
   {
    "duration": 5,
    "start_time": "2025-03-24T00:58:14.266Z"
   },
   {
    "duration": 18,
    "start_time": "2025-03-24T00:58:14.304Z"
   },
   {
    "duration": 19,
    "start_time": "2025-03-24T00:58:14.324Z"
   },
   {
    "duration": 8,
    "start_time": "2025-03-24T00:58:14.345Z"
   },
   {
    "duration": 8,
    "start_time": "2025-03-24T00:58:14.354Z"
   },
   {
    "duration": 14,
    "start_time": "2025-03-24T00:58:14.364Z"
   },
   {
    "duration": 31,
    "start_time": "2025-03-24T00:58:14.380Z"
   },
   {
    "duration": 11,
    "start_time": "2025-03-24T00:58:14.413Z"
   },
   {
    "duration": 16,
    "start_time": "2025-03-24T00:58:14.426Z"
   },
   {
    "duration": 6,
    "start_time": "2025-03-24T00:58:14.444Z"
   },
   {
    "duration": 1467,
    "start_time": "2025-03-24T11:34:12.949Z"
   },
   {
    "duration": 39,
    "start_time": "2025-03-24T11:34:14.418Z"
   },
   {
    "duration": 20,
    "start_time": "2025-03-24T11:34:14.458Z"
   },
   {
    "duration": 44,
    "start_time": "2025-03-24T11:34:14.480Z"
   },
   {
    "duration": 40,
    "start_time": "2025-03-24T11:34:14.525Z"
   },
   {
    "duration": 7,
    "start_time": "2025-03-24T11:34:14.566Z"
   },
   {
    "duration": 10,
    "start_time": "2025-03-24T11:34:14.574Z"
   },
   {
    "duration": 15,
    "start_time": "2025-03-24T11:34:14.586Z"
   },
   {
    "duration": 9,
    "start_time": "2025-03-24T11:34:14.603Z"
   },
   {
    "duration": 4,
    "start_time": "2025-03-24T11:34:14.614Z"
   },
   {
    "duration": 23,
    "start_time": "2025-03-24T11:34:14.634Z"
   },
   {
    "duration": 13,
    "start_time": "2025-03-24T11:34:14.658Z"
   },
   {
    "duration": 3,
    "start_time": "2025-03-24T11:34:14.673Z"
   },
   {
    "duration": 8,
    "start_time": "2025-03-24T11:34:14.677Z"
   },
   {
    "duration": 4,
    "start_time": "2025-03-24T11:34:14.686Z"
   },
   {
    "duration": 4,
    "start_time": "2025-03-24T11:34:14.691Z"
   },
   {
    "duration": 40,
    "start_time": "2025-03-24T11:34:14.696Z"
   },
   {
    "duration": 13,
    "start_time": "2025-03-24T11:34:14.737Z"
   },
   {
    "duration": 11,
    "start_time": "2025-03-24T11:34:14.752Z"
   },
   {
    "duration": 4,
    "start_time": "2025-03-24T11:34:14.764Z"
   },
   {
    "duration": 5,
    "start_time": "2025-03-24T11:34:14.770Z"
   },
   {
    "duration": 4,
    "start_time": "2025-03-24T11:34:14.776Z"
   },
   {
    "duration": 25,
    "start_time": "2025-03-24T11:34:14.782Z"
   },
   {
    "duration": 39,
    "start_time": "2025-03-24T11:34:14.809Z"
   },
   {
    "duration": 13,
    "start_time": "2025-03-24T11:34:14.850Z"
   },
   {
    "duration": 4,
    "start_time": "2025-03-24T11:34:14.864Z"
   },
   {
    "duration": 13,
    "start_time": "2025-03-24T11:34:14.869Z"
   },
   {
    "duration": 8,
    "start_time": "2025-03-24T11:34:14.885Z"
   },
   {
    "duration": 42,
    "start_time": "2025-03-24T11:34:14.895Z"
   },
   {
    "duration": 7,
    "start_time": "2025-03-24T11:34:14.939Z"
   },
   {
    "duration": 13,
    "start_time": "2025-03-24T11:34:14.947Z"
   },
   {
    "duration": 28,
    "start_time": "2025-03-24T11:34:14.961Z"
   },
   {
    "duration": 4,
    "start_time": "2025-03-24T11:34:14.991Z"
   },
   {
    "duration": 58,
    "start_time": "2025-03-24T11:34:14.996Z"
   },
   {
    "duration": 102,
    "start_time": "2025-03-24T11:34:15.055Z"
   },
   {
    "duration": 14,
    "start_time": "2025-03-24T11:34:15.159Z"
   },
   {
    "duration": 6,
    "start_time": "2025-03-24T11:34:15.174Z"
   },
   {
    "duration": 6,
    "start_time": "2025-03-24T11:34:15.181Z"
   },
   {
    "duration": 19,
    "start_time": "2025-03-24T11:34:15.188Z"
   },
   {
    "duration": 4,
    "start_time": "2025-03-24T11:34:15.208Z"
   },
   {
    "duration": 431,
    "start_time": "2025-03-24T11:34:15.213Z"
   },
   {
    "duration": 13482,
    "start_time": "2025-03-24T11:34:15.645Z"
   },
   {
    "duration": 1182,
    "start_time": "2025-03-24T11:34:29.129Z"
   },
   {
    "duration": 573,
    "start_time": "2025-03-24T11:34:30.313Z"
   },
   {
    "duration": 5,
    "start_time": "2025-03-24T11:34:30.888Z"
   },
   {
    "duration": 318,
    "start_time": "2025-03-24T11:34:30.895Z"
   },
   {
    "duration": 276,
    "start_time": "2025-03-24T11:34:31.215Z"
   },
   {
    "duration": 273,
    "start_time": "2025-03-24T11:34:31.493Z"
   },
   {
    "duration": 224,
    "start_time": "2025-03-24T11:34:31.767Z"
   },
   {
    "duration": 269,
    "start_time": "2025-03-24T11:34:31.992Z"
   },
   {
    "duration": 230,
    "start_time": "2025-03-24T11:34:32.263Z"
   },
   {
    "duration": 72,
    "start_time": "2025-03-24T11:34:32.495Z"
   },
   {
    "duration": 18,
    "start_time": "2025-03-24T11:34:32.568Z"
   },
   {
    "duration": 425,
    "start_time": "2025-03-24T11:34:32.588Z"
   },
   {
    "duration": 6,
    "start_time": "2025-03-24T11:34:33.015Z"
   },
   {
    "duration": 814,
    "start_time": "2025-03-24T11:34:33.023Z"
   },
   {
    "duration": 5,
    "start_time": "2025-03-24T11:34:33.838Z"
   },
   {
    "duration": 41,
    "start_time": "2025-03-24T11:34:33.844Z"
   },
   {
    "duration": 6,
    "start_time": "2025-03-24T11:34:33.887Z"
   },
   {
    "duration": 5,
    "start_time": "2025-03-24T11:34:33.895Z"
   },
   {
    "duration": 12,
    "start_time": "2025-03-24T11:34:33.901Z"
   },
   {
    "duration": 8,
    "start_time": "2025-03-24T11:34:33.914Z"
   },
   {
    "duration": 13,
    "start_time": "2025-03-24T11:34:33.923Z"
   },
   {
    "duration": 13,
    "start_time": "2025-03-24T11:34:33.938Z"
   },
   {
    "duration": 11,
    "start_time": "2025-03-24T11:34:33.953Z"
   },
   {
    "duration": 10,
    "start_time": "2025-03-24T11:34:33.965Z"
   },
   {
    "duration": 16,
    "start_time": "2025-03-24T11:34:33.976Z"
   },
   {
    "duration": 4,
    "start_time": "2025-03-24T11:34:33.994Z"
   },
   {
    "duration": 47,
    "start_time": "2025-03-24T12:46:53.920Z"
   },
   {
    "duration": 1651,
    "start_time": "2025-03-24T12:47:03.919Z"
   },
   {
    "duration": 71,
    "start_time": "2025-03-24T12:47:05.572Z"
   },
   {
    "duration": 18,
    "start_time": "2025-03-24T12:47:05.645Z"
   },
   {
    "duration": 45,
    "start_time": "2025-03-24T12:47:05.666Z"
   },
   {
    "duration": 56,
    "start_time": "2025-03-24T12:47:05.713Z"
   },
   {
    "duration": 8,
    "start_time": "2025-03-24T12:47:05.770Z"
   },
   {
    "duration": 26,
    "start_time": "2025-03-24T12:47:05.779Z"
   },
   {
    "duration": 6,
    "start_time": "2025-03-24T12:47:05.807Z"
   },
   {
    "duration": 11,
    "start_time": "2025-03-24T12:47:05.815Z"
   },
   {
    "duration": 5,
    "start_time": "2025-03-24T12:47:05.828Z"
   },
   {
    "duration": 59,
    "start_time": "2025-03-24T12:47:05.835Z"
   },
   {
    "duration": 20,
    "start_time": "2025-03-24T12:47:05.896Z"
   },
   {
    "duration": 4,
    "start_time": "2025-03-24T12:47:05.917Z"
   },
   {
    "duration": 24,
    "start_time": "2025-03-24T12:47:05.923Z"
   },
   {
    "duration": 48,
    "start_time": "2025-03-24T12:47:05.949Z"
   },
   {
    "duration": 21,
    "start_time": "2025-03-24T12:47:06.000Z"
   },
   {
    "duration": 29,
    "start_time": "2025-03-24T12:47:06.023Z"
   },
   {
    "duration": 44,
    "start_time": "2025-03-24T12:47:06.053Z"
   },
   {
    "duration": 27,
    "start_time": "2025-03-24T12:47:06.099Z"
   },
   {
    "duration": 5,
    "start_time": "2025-03-24T12:47:06.128Z"
   },
   {
    "duration": 5,
    "start_time": "2025-03-24T12:47:06.135Z"
   },
   {
    "duration": 14,
    "start_time": "2025-03-24T12:47:06.141Z"
   },
   {
    "duration": 40,
    "start_time": "2025-03-24T12:47:06.157Z"
   },
   {
    "duration": 17,
    "start_time": "2025-03-24T12:47:06.198Z"
   },
   {
    "duration": 30,
    "start_time": "2025-03-24T12:47:06.217Z"
   },
   {
    "duration": 4,
    "start_time": "2025-03-24T12:47:06.248Z"
   },
   {
    "duration": 31,
    "start_time": "2025-03-24T12:47:06.253Z"
   },
   {
    "duration": 9,
    "start_time": "2025-03-24T12:47:06.287Z"
   },
   {
    "duration": 6,
    "start_time": "2025-03-24T12:47:06.298Z"
   },
   {
    "duration": 29,
    "start_time": "2025-03-24T12:47:06.306Z"
   },
   {
    "duration": 6,
    "start_time": "2025-03-24T12:47:06.336Z"
   },
   {
    "duration": 19,
    "start_time": "2025-03-24T12:47:06.344Z"
   },
   {
    "duration": 14,
    "start_time": "2025-03-24T12:47:06.365Z"
   },
   {
    "duration": 12,
    "start_time": "2025-03-24T12:47:06.381Z"
   },
   {
    "duration": 4,
    "start_time": "2025-03-24T12:47:06.395Z"
   },
   {
    "duration": 8,
    "start_time": "2025-03-24T12:47:06.400Z"
   },
   {
    "duration": 9,
    "start_time": "2025-03-24T12:47:06.410Z"
   },
   {
    "duration": 5,
    "start_time": "2025-03-24T12:47:06.421Z"
   },
   {
    "duration": 32,
    "start_time": "2025-03-24T12:47:06.427Z"
   },
   {
    "duration": 10,
    "start_time": "2025-03-24T12:47:06.460Z"
   },
   {
    "duration": 343,
    "start_time": "2025-03-24T12:47:06.471Z"
   },
   {
    "duration": 13405,
    "start_time": "2025-03-24T12:47:06.815Z"
   },
   {
    "duration": 1049,
    "start_time": "2025-03-24T12:47:20.221Z"
   },
   {
    "duration": 432,
    "start_time": "2025-03-24T12:47:21.272Z"
   },
   {
    "duration": 5,
    "start_time": "2025-03-24T12:47:21.705Z"
   },
   {
    "duration": 224,
    "start_time": "2025-03-24T12:47:21.711Z"
   },
   {
    "duration": 161,
    "start_time": "2025-03-24T12:47:21.937Z"
   },
   {
    "duration": 137,
    "start_time": "2025-03-24T12:47:22.099Z"
   },
   {
    "duration": 134,
    "start_time": "2025-03-24T12:47:22.238Z"
   },
   {
    "duration": 139,
    "start_time": "2025-03-24T12:47:22.373Z"
   },
   {
    "duration": 155,
    "start_time": "2025-03-24T12:47:22.514Z"
   },
   {
    "duration": 62,
    "start_time": "2025-03-24T12:47:22.671Z"
   },
   {
    "duration": 34,
    "start_time": "2025-03-24T12:47:22.735Z"
   },
   {
    "duration": 530,
    "start_time": "2025-03-24T12:47:22.771Z"
   },
   {
    "duration": 6,
    "start_time": "2025-03-24T12:47:23.303Z"
   },
   {
    "duration": 649,
    "start_time": "2025-03-24T12:47:23.310Z"
   },
   {
    "duration": 5,
    "start_time": "2025-03-24T12:47:23.961Z"
   },
   {
    "duration": 6,
    "start_time": "2025-03-24T12:47:23.968Z"
   },
   {
    "duration": 6,
    "start_time": "2025-03-24T12:47:23.975Z"
   },
   {
    "duration": 17,
    "start_time": "2025-03-24T12:47:23.983Z"
   },
   {
    "duration": 21,
    "start_time": "2025-03-24T12:47:24.002Z"
   },
   {
    "duration": 6,
    "start_time": "2025-03-24T12:47:24.024Z"
   },
   {
    "duration": 6,
    "start_time": "2025-03-24T12:47:24.032Z"
   },
   {
    "duration": 13,
    "start_time": "2025-03-24T12:47:24.058Z"
   },
   {
    "duration": 20,
    "start_time": "2025-03-24T12:47:24.072Z"
   },
   {
    "duration": 9,
    "start_time": "2025-03-24T12:47:24.094Z"
   },
   {
    "duration": 10,
    "start_time": "2025-03-24T12:47:24.105Z"
   },
   {
    "duration": 9,
    "start_time": "2025-03-24T12:47:24.116Z"
   },
   {
    "duration": 1148,
    "start_time": "2025-03-24T12:51:00.654Z"
   },
   {
    "duration": 31,
    "start_time": "2025-03-24T12:51:01.805Z"
   },
   {
    "duration": 18,
    "start_time": "2025-03-24T12:51:01.838Z"
   },
   {
    "duration": 37,
    "start_time": "2025-03-24T12:51:01.858Z"
   },
   {
    "duration": 61,
    "start_time": "2025-03-24T12:51:01.897Z"
   },
   {
    "duration": 6,
    "start_time": "2025-03-24T12:51:01.960Z"
   },
   {
    "duration": 26,
    "start_time": "2025-03-24T12:51:01.967Z"
   },
   {
    "duration": 7,
    "start_time": "2025-03-24T12:51:01.995Z"
   },
   {
    "duration": 34,
    "start_time": "2025-03-24T12:51:02.004Z"
   },
   {
    "duration": 30,
    "start_time": "2025-03-24T12:51:02.040Z"
   },
   {
    "duration": 34,
    "start_time": "2025-03-24T12:51:02.072Z"
   },
   {
    "duration": 23,
    "start_time": "2025-03-24T12:51:02.108Z"
   },
   {
    "duration": 4,
    "start_time": "2025-03-24T12:51:02.132Z"
   },
   {
    "duration": 12,
    "start_time": "2025-03-24T12:51:02.138Z"
   },
   {
    "duration": 44,
    "start_time": "2025-03-24T12:51:02.152Z"
   },
   {
    "duration": 46,
    "start_time": "2025-03-24T12:51:02.197Z"
   },
   {
    "duration": 4,
    "start_time": "2025-03-24T12:51:02.244Z"
   },
   {
    "duration": 23,
    "start_time": "2025-03-24T12:51:02.249Z"
   },
   {
    "duration": 20,
    "start_time": "2025-03-24T12:51:02.274Z"
   },
   {
    "duration": 34,
    "start_time": "2025-03-24T12:51:02.295Z"
   },
   {
    "duration": 17,
    "start_time": "2025-03-24T12:51:02.331Z"
   },
   {
    "duration": 37,
    "start_time": "2025-03-24T12:51:02.350Z"
   },
   {
    "duration": 23,
    "start_time": "2025-03-24T12:51:02.388Z"
   },
   {
    "duration": 18,
    "start_time": "2025-03-24T12:51:02.413Z"
   },
   {
    "duration": 4,
    "start_time": "2025-03-24T12:51:02.432Z"
   },
   {
    "duration": 26,
    "start_time": "2025-03-24T12:51:02.438Z"
   },
   {
    "duration": 63,
    "start_time": "2025-03-24T12:51:02.465Z"
   },
   {
    "duration": 7,
    "start_time": "2025-03-24T12:51:02.532Z"
   },
   {
    "duration": 5,
    "start_time": "2025-03-24T12:51:02.540Z"
   },
   {
    "duration": 41,
    "start_time": "2025-03-24T12:51:02.547Z"
   },
   {
    "duration": 7,
    "start_time": "2025-03-24T12:51:02.589Z"
   },
   {
    "duration": 39,
    "start_time": "2025-03-24T12:51:02.597Z"
   },
   {
    "duration": 7,
    "start_time": "2025-03-24T12:51:02.638Z"
   },
   {
    "duration": 33,
    "start_time": "2025-03-24T12:51:02.646Z"
   },
   {
    "duration": 32,
    "start_time": "2025-03-24T12:51:02.680Z"
   },
   {
    "duration": 32,
    "start_time": "2025-03-24T12:51:02.714Z"
   },
   {
    "duration": 51,
    "start_time": "2025-03-24T12:51:02.748Z"
   },
   {
    "duration": 87,
    "start_time": "2025-03-24T12:51:02.801Z"
   },
   {
    "duration": 79,
    "start_time": "2025-03-24T12:51:02.890Z"
   },
   {
    "duration": 46,
    "start_time": "2025-03-24T12:51:02.970Z"
   },
   {
    "duration": 321,
    "start_time": "2025-03-24T12:51:03.018Z"
   },
   {
    "duration": 13052,
    "start_time": "2025-03-24T12:51:03.340Z"
   },
   {
    "duration": 970,
    "start_time": "2025-03-24T12:51:16.394Z"
   },
   {
    "duration": 396,
    "start_time": "2025-03-24T12:51:17.366Z"
   },
   {
    "duration": 5,
    "start_time": "2025-03-24T12:51:17.763Z"
   },
   {
    "duration": 211,
    "start_time": "2025-03-24T12:51:17.770Z"
   },
   {
    "duration": 161,
    "start_time": "2025-03-24T12:51:17.983Z"
   },
   {
    "duration": 137,
    "start_time": "2025-03-24T12:51:18.146Z"
   },
   {
    "duration": 133,
    "start_time": "2025-03-24T12:51:18.284Z"
   },
   {
    "duration": 135,
    "start_time": "2025-03-24T12:51:18.419Z"
   },
   {
    "duration": 147,
    "start_time": "2025-03-24T12:51:18.556Z"
   },
   {
    "duration": 68,
    "start_time": "2025-03-24T12:51:18.705Z"
   },
   {
    "duration": 18,
    "start_time": "2025-03-24T12:51:18.774Z"
   },
   {
    "duration": 456,
    "start_time": "2025-03-24T12:51:18.793Z"
   },
   {
    "duration": 10,
    "start_time": "2025-03-24T12:51:19.251Z"
   },
   {
    "duration": 650,
    "start_time": "2025-03-24T12:51:19.263Z"
   },
   {
    "duration": 6,
    "start_time": "2025-03-24T12:51:19.914Z"
   },
   {
    "duration": 4,
    "start_time": "2025-03-24T12:51:19.922Z"
   },
   {
    "duration": 11,
    "start_time": "2025-03-24T12:51:19.928Z"
   },
   {
    "duration": 22,
    "start_time": "2025-03-24T12:51:19.940Z"
   },
   {
    "duration": 12,
    "start_time": "2025-03-24T12:51:19.963Z"
   },
   {
    "duration": 7,
    "start_time": "2025-03-24T12:51:19.976Z"
   },
   {
    "duration": 9,
    "start_time": "2025-03-24T12:51:19.984Z"
   },
   {
    "duration": 13,
    "start_time": "2025-03-24T12:51:19.995Z"
   },
   {
    "duration": 12,
    "start_time": "2025-03-24T12:51:20.009Z"
   },
   {
    "duration": 11,
    "start_time": "2025-03-24T12:51:20.059Z"
   },
   {
    "duration": 39,
    "start_time": "2025-03-24T12:51:20.071Z"
   },
   {
    "duration": 19,
    "start_time": "2025-03-24T12:51:20.112Z"
   },
   {
    "duration": 123,
    "start_time": "2025-03-24T13:01:22.044Z"
   },
   {
    "duration": 13,
    "start_time": "2025-03-24T13:02:53.490Z"
   },
   {
    "duration": 14,
    "start_time": "2025-03-24T13:03:05.869Z"
   },
   {
    "duration": 14,
    "start_time": "2025-03-24T13:03:32.296Z"
   },
   {
    "duration": 14,
    "start_time": "2025-03-24T13:05:11.508Z"
   },
   {
    "duration": 1170,
    "start_time": "2025-03-24T13:05:38.374Z"
   },
   {
    "duration": 31,
    "start_time": "2025-03-24T13:05:39.546Z"
   },
   {
    "duration": 18,
    "start_time": "2025-03-24T13:05:39.578Z"
   },
   {
    "duration": 25,
    "start_time": "2025-03-24T13:05:39.599Z"
   },
   {
    "duration": 40,
    "start_time": "2025-03-24T13:05:39.625Z"
   },
   {
    "duration": 6,
    "start_time": "2025-03-24T13:05:39.667Z"
   },
   {
    "duration": 16,
    "start_time": "2025-03-24T13:05:39.675Z"
   },
   {
    "duration": 5,
    "start_time": "2025-03-24T13:05:39.693Z"
   },
   {
    "duration": 12,
    "start_time": "2025-03-24T13:05:39.700Z"
   },
   {
    "duration": 4,
    "start_time": "2025-03-24T13:05:39.715Z"
   },
   {
    "duration": 13,
    "start_time": "2025-03-24T13:05:39.720Z"
   },
   {
    "duration": 15,
    "start_time": "2025-03-24T13:05:39.758Z"
   },
   {
    "duration": 4,
    "start_time": "2025-03-24T13:05:39.775Z"
   },
   {
    "duration": 10,
    "start_time": "2025-03-24T13:05:39.781Z"
   },
   {
    "duration": 14,
    "start_time": "2025-03-24T13:05:39.793Z"
   },
   {
    "duration": 23,
    "start_time": "2025-03-24T13:05:39.809Z"
   },
   {
    "duration": 24,
    "start_time": "2025-03-24T13:05:39.834Z"
   },
   {
    "duration": 23,
    "start_time": "2025-03-24T13:05:39.860Z"
   },
   {
    "duration": 26,
    "start_time": "2025-03-24T13:05:39.884Z"
   },
   {
    "duration": 9,
    "start_time": "2025-03-24T13:05:39.912Z"
   },
   {
    "duration": 16,
    "start_time": "2025-03-24T13:05:39.922Z"
   },
   {
    "duration": 19,
    "start_time": "2025-03-24T13:05:39.940Z"
   },
   {
    "duration": 13,
    "start_time": "2025-03-24T13:05:39.961Z"
   },
   {
    "duration": 4,
    "start_time": "2025-03-24T13:05:39.976Z"
   },
   {
    "duration": 16,
    "start_time": "2025-03-24T13:05:39.981Z"
   },
   {
    "duration": 23,
    "start_time": "2025-03-24T13:05:39.998Z"
   },
   {
    "duration": 26,
    "start_time": "2025-03-24T13:05:40.023Z"
   },
   {
    "duration": 30,
    "start_time": "2025-03-24T13:05:40.053Z"
   },
   {
    "duration": 11,
    "start_time": "2025-03-24T13:05:40.085Z"
   },
   {
    "duration": 13,
    "start_time": "2025-03-24T13:05:40.098Z"
   },
   {
    "duration": 6,
    "start_time": "2025-03-24T13:05:40.112Z"
   },
   {
    "duration": 18,
    "start_time": "2025-03-24T13:05:40.119Z"
   },
   {
    "duration": 4,
    "start_time": "2025-03-24T13:05:40.139Z"
   },
   {
    "duration": 20,
    "start_time": "2025-03-24T13:05:40.144Z"
   },
   {
    "duration": 24,
    "start_time": "2025-03-24T13:05:40.166Z"
   },
   {
    "duration": 7,
    "start_time": "2025-03-24T13:05:40.192Z"
   },
   {
    "duration": 7,
    "start_time": "2025-03-24T13:05:40.201Z"
   },
   {
    "duration": 14,
    "start_time": "2025-03-24T13:05:40.209Z"
   },
   {
    "duration": 16,
    "start_time": "2025-03-24T13:05:40.225Z"
   },
   {
    "duration": 18,
    "start_time": "2025-03-24T13:05:40.243Z"
   },
   {
    "duration": 355,
    "start_time": "2025-03-24T13:05:40.263Z"
   },
   {
    "duration": 13560,
    "start_time": "2025-03-24T13:05:40.620Z"
   },
   {
    "duration": 1019,
    "start_time": "2025-03-24T13:05:54.182Z"
   },
   {
    "duration": 413,
    "start_time": "2025-03-24T13:05:55.203Z"
   },
   {
    "duration": 4,
    "start_time": "2025-03-24T13:05:55.618Z"
   },
   {
    "duration": 227,
    "start_time": "2025-03-24T13:05:55.623Z"
   },
   {
    "duration": 165,
    "start_time": "2025-03-24T13:05:55.857Z"
   },
   {
    "duration": 143,
    "start_time": "2025-03-24T13:05:56.024Z"
   },
   {
    "duration": 145,
    "start_time": "2025-03-24T13:05:56.168Z"
   },
   {
    "duration": 133,
    "start_time": "2025-03-24T13:05:56.315Z"
   },
   {
    "duration": 153,
    "start_time": "2025-03-24T13:05:56.457Z"
   },
   {
    "duration": 70,
    "start_time": "2025-03-24T13:05:56.612Z"
   },
   {
    "duration": 16,
    "start_time": "2025-03-24T13:05:56.684Z"
   },
   {
    "duration": 463,
    "start_time": "2025-03-24T13:05:56.702Z"
   },
   {
    "duration": 6,
    "start_time": "2025-03-24T13:05:57.166Z"
   },
   {
    "duration": 648,
    "start_time": "2025-03-24T13:05:57.174Z"
   },
   {
    "duration": 5,
    "start_time": "2025-03-24T13:05:57.824Z"
   },
   {
    "duration": 5,
    "start_time": "2025-03-24T13:05:57.831Z"
   },
   {
    "duration": 22,
    "start_time": "2025-03-24T13:05:57.837Z"
   },
   {
    "duration": 9,
    "start_time": "2025-03-24T13:05:57.861Z"
   },
   {
    "duration": 14,
    "start_time": "2025-03-24T13:05:57.871Z"
   },
   {
    "duration": 7,
    "start_time": "2025-03-24T13:05:57.886Z"
   },
   {
    "duration": 13,
    "start_time": "2025-03-24T13:05:57.894Z"
   },
   {
    "duration": 29,
    "start_time": "2025-03-24T13:05:57.909Z"
   },
   {
    "duration": 25,
    "start_time": "2025-03-24T13:05:57.940Z"
   },
   {
    "duration": 11,
    "start_time": "2025-03-24T13:05:57.966Z"
   },
   {
    "duration": 10,
    "start_time": "2025-03-24T13:05:57.979Z"
   },
   {
    "duration": 5,
    "start_time": "2025-03-24T13:05:57.991Z"
   },
   {
    "duration": 217,
    "start_time": "2025-03-24T13:34:09.618Z"
   },
   {
    "duration": 204,
    "start_time": "2025-03-24T13:34:21.553Z"
   },
   {
    "duration": 154,
    "start_time": "2025-03-24T13:48:08.925Z"
   },
   {
    "duration": 1189,
    "start_time": "2025-03-24T13:48:22.178Z"
   },
   {
    "duration": 43,
    "start_time": "2025-03-24T13:48:23.368Z"
   },
   {
    "duration": 18,
    "start_time": "2025-03-24T13:48:23.412Z"
   },
   {
    "duration": 13,
    "start_time": "2025-03-24T13:48:23.433Z"
   },
   {
    "duration": 44,
    "start_time": "2025-03-24T13:48:23.447Z"
   },
   {
    "duration": 6,
    "start_time": "2025-03-24T13:48:23.493Z"
   },
   {
    "duration": 11,
    "start_time": "2025-03-24T13:48:23.501Z"
   },
   {
    "duration": 13,
    "start_time": "2025-03-24T13:48:23.514Z"
   },
   {
    "duration": 10,
    "start_time": "2025-03-24T13:48:23.529Z"
   },
   {
    "duration": 17,
    "start_time": "2025-03-24T13:48:23.541Z"
   },
   {
    "duration": 36,
    "start_time": "2025-03-24T13:48:23.560Z"
   },
   {
    "duration": 14,
    "start_time": "2025-03-24T13:48:23.598Z"
   },
   {
    "duration": 3,
    "start_time": "2025-03-24T13:48:23.614Z"
   },
   {
    "duration": 14,
    "start_time": "2025-03-24T13:48:23.618Z"
   },
   {
    "duration": 13,
    "start_time": "2025-03-24T13:48:23.634Z"
   },
   {
    "duration": 14,
    "start_time": "2025-03-24T13:48:23.649Z"
   },
   {
    "duration": 4,
    "start_time": "2025-03-24T13:48:23.664Z"
   },
   {
    "duration": 13,
    "start_time": "2025-03-24T13:48:23.669Z"
   },
   {
    "duration": 24,
    "start_time": "2025-03-24T13:48:23.684Z"
   },
   {
    "duration": 8,
    "start_time": "2025-03-24T13:48:23.710Z"
   },
   {
    "duration": 19,
    "start_time": "2025-03-24T13:48:23.719Z"
   },
   {
    "duration": 22,
    "start_time": "2025-03-24T13:48:23.739Z"
   },
   {
    "duration": 14,
    "start_time": "2025-03-24T13:48:23.763Z"
   },
   {
    "duration": 5,
    "start_time": "2025-03-24T13:48:23.778Z"
   },
   {
    "duration": 4,
    "start_time": "2025-03-24T13:48:23.784Z"
   },
   {
    "duration": 3,
    "start_time": "2025-03-24T13:48:23.790Z"
   },
   {
    "duration": 11,
    "start_time": "2025-03-24T13:48:23.795Z"
   },
   {
    "duration": 7,
    "start_time": "2025-03-24T13:48:23.809Z"
   },
   {
    "duration": 44,
    "start_time": "2025-03-24T13:48:23.818Z"
   },
   {
    "duration": 6,
    "start_time": "2025-03-24T13:48:23.864Z"
   },
   {
    "duration": 6,
    "start_time": "2025-03-24T13:48:23.871Z"
   },
   {
    "duration": 20,
    "start_time": "2025-03-24T13:48:23.878Z"
   },
   {
    "duration": 4,
    "start_time": "2025-03-24T13:48:23.900Z"
   },
   {
    "duration": 7,
    "start_time": "2025-03-24T13:48:23.905Z"
   },
   {
    "duration": 5,
    "start_time": "2025-03-24T13:48:23.914Z"
   },
   {
    "duration": 5,
    "start_time": "2025-03-24T13:48:23.957Z"
   },
   {
    "duration": 5,
    "start_time": "2025-03-24T13:48:23.963Z"
   },
   {
    "duration": 5,
    "start_time": "2025-03-24T13:48:23.969Z"
   },
   {
    "duration": 12,
    "start_time": "2025-03-24T13:48:23.975Z"
   },
   {
    "duration": 3,
    "start_time": "2025-03-24T13:48:23.989Z"
   },
   {
    "duration": 358,
    "start_time": "2025-03-24T13:48:23.993Z"
   },
   {
    "duration": 13392,
    "start_time": "2025-03-24T13:48:24.352Z"
   },
   {
    "duration": 1047,
    "start_time": "2025-03-24T13:48:37.745Z"
   },
   {
    "duration": 434,
    "start_time": "2025-03-24T13:48:38.793Z"
   },
   {
    "duration": 5,
    "start_time": "2025-03-24T13:48:39.228Z"
   },
   {
    "duration": 225,
    "start_time": "2025-03-24T13:48:39.234Z"
   },
   {
    "duration": 172,
    "start_time": "2025-03-24T13:48:39.468Z"
   },
   {
    "duration": 157,
    "start_time": "2025-03-24T13:48:39.642Z"
   },
   {
    "duration": 154,
    "start_time": "2025-03-24T13:48:39.801Z"
   },
   {
    "duration": 156,
    "start_time": "2025-03-24T13:48:39.956Z"
   },
   {
    "duration": 172,
    "start_time": "2025-03-24T13:48:40.114Z"
   },
   {
    "duration": 81,
    "start_time": "2025-03-24T13:48:40.287Z"
   },
   {
    "duration": 18,
    "start_time": "2025-03-24T13:48:40.372Z"
   },
   {
    "duration": 412,
    "start_time": "2025-03-24T13:48:40.392Z"
   },
   {
    "duration": 5,
    "start_time": "2025-03-24T13:48:40.805Z"
   },
   {
    "duration": 703,
    "start_time": "2025-03-24T13:48:40.812Z"
   },
   {
    "duration": 6,
    "start_time": "2025-03-24T13:48:41.517Z"
   },
   {
    "duration": 5,
    "start_time": "2025-03-24T13:48:41.525Z"
   },
   {
    "duration": 42,
    "start_time": "2025-03-24T13:48:41.532Z"
   },
   {
    "duration": 5,
    "start_time": "2025-03-24T13:48:41.576Z"
   },
   {
    "duration": 12,
    "start_time": "2025-03-24T13:48:41.582Z"
   },
   {
    "duration": 6,
    "start_time": "2025-03-24T13:48:41.596Z"
   },
   {
    "duration": 6,
    "start_time": "2025-03-24T13:48:41.603Z"
   },
   {
    "duration": 14,
    "start_time": "2025-03-24T13:48:41.610Z"
   },
   {
    "duration": 48,
    "start_time": "2025-03-24T13:48:41.625Z"
   },
   {
    "duration": 10,
    "start_time": "2025-03-24T13:48:41.674Z"
   },
   {
    "duration": 10,
    "start_time": "2025-03-24T13:48:41.685Z"
   },
   {
    "duration": 5,
    "start_time": "2025-03-24T13:48:41.696Z"
   },
   {
    "duration": 104,
    "start_time": "2025-03-24T13:57:39.947Z"
   },
   {
    "duration": 13,
    "start_time": "2025-03-24T13:59:17.700Z"
   },
   {
    "duration": 15,
    "start_time": "2025-03-24T13:59:39.547Z"
   },
   {
    "duration": 10,
    "start_time": "2025-03-24T14:10:09.577Z"
   },
   {
    "duration": 14,
    "start_time": "2025-03-24T14:10:15.034Z"
   },
   {
    "duration": 13,
    "start_time": "2025-03-24T14:11:00.244Z"
   },
   {
    "duration": 15,
    "start_time": "2025-03-24T14:11:18.213Z"
   },
   {
    "duration": 14,
    "start_time": "2025-03-24T14:11:53.018Z"
   },
   {
    "duration": 1228,
    "start_time": "2025-03-24T14:12:13.854Z"
   },
   {
    "duration": 32,
    "start_time": "2025-03-24T14:12:15.084Z"
   },
   {
    "duration": 41,
    "start_time": "2025-03-24T14:12:15.118Z"
   },
   {
    "duration": 54,
    "start_time": "2025-03-24T14:12:15.162Z"
   },
   {
    "duration": 55,
    "start_time": "2025-03-24T14:12:15.217Z"
   },
   {
    "duration": 11,
    "start_time": "2025-03-24T14:12:15.274Z"
   },
   {
    "duration": 36,
    "start_time": "2025-03-24T14:12:15.287Z"
   },
   {
    "duration": 53,
    "start_time": "2025-03-24T14:12:15.324Z"
   },
   {
    "duration": 58,
    "start_time": "2025-03-24T14:12:15.379Z"
   },
   {
    "duration": 47,
    "start_time": "2025-03-24T14:12:15.440Z"
   },
   {
    "duration": 16,
    "start_time": "2025-03-24T14:12:15.489Z"
   },
   {
    "duration": 14,
    "start_time": "2025-03-24T14:12:15.507Z"
   },
   {
    "duration": 3,
    "start_time": "2025-03-24T14:12:15.523Z"
   },
   {
    "duration": 14,
    "start_time": "2025-03-24T14:12:15.528Z"
   },
   {
    "duration": 25,
    "start_time": "2025-03-24T14:12:15.543Z"
   },
   {
    "duration": 16,
    "start_time": "2025-03-24T14:12:15.569Z"
   },
   {
    "duration": 3,
    "start_time": "2025-03-24T14:12:15.587Z"
   },
   {
    "duration": 12,
    "start_time": "2025-03-24T14:12:15.592Z"
   },
   {
    "duration": 17,
    "start_time": "2025-03-24T14:12:15.605Z"
   },
   {
    "duration": 5,
    "start_time": "2025-03-24T14:12:15.623Z"
   },
   {
    "duration": 23,
    "start_time": "2025-03-24T14:12:15.629Z"
   },
   {
    "duration": 28,
    "start_time": "2025-03-24T14:12:15.654Z"
   },
   {
    "duration": 16,
    "start_time": "2025-03-24T14:12:15.684Z"
   },
   {
    "duration": 5,
    "start_time": "2025-03-24T14:12:15.702Z"
   },
   {
    "duration": 12,
    "start_time": "2025-03-24T14:12:15.709Z"
   },
   {
    "duration": 5,
    "start_time": "2025-03-24T14:12:15.723Z"
   },
   {
    "duration": 34,
    "start_time": "2025-03-24T14:12:15.729Z"
   },
   {
    "duration": 8,
    "start_time": "2025-03-24T14:12:15.768Z"
   },
   {
    "duration": 7,
    "start_time": "2025-03-24T14:12:15.778Z"
   },
   {
    "duration": 19,
    "start_time": "2025-03-24T14:12:15.787Z"
   },
   {
    "duration": 7,
    "start_time": "2025-03-24T14:12:15.808Z"
   },
   {
    "duration": 43,
    "start_time": "2025-03-24T14:12:15.817Z"
   },
   {
    "duration": 5,
    "start_time": "2025-03-24T14:12:15.861Z"
   },
   {
    "duration": 33,
    "start_time": "2025-03-24T14:12:15.867Z"
   },
   {
    "duration": 24,
    "start_time": "2025-03-24T14:12:15.902Z"
   },
   {
    "duration": 5,
    "start_time": "2025-03-24T14:12:15.928Z"
   },
   {
    "duration": 16,
    "start_time": "2025-03-24T14:12:15.935Z"
   },
   {
    "duration": 10,
    "start_time": "2025-03-24T14:12:15.953Z"
   },
   {
    "duration": 15,
    "start_time": "2025-03-24T14:12:15.964Z"
   },
   {
    "duration": 6,
    "start_time": "2025-03-24T14:12:15.981Z"
   },
   {
    "duration": 336,
    "start_time": "2025-03-24T14:12:15.989Z"
   },
   {
    "duration": 13020,
    "start_time": "2025-03-24T14:12:16.326Z"
   },
   {
    "duration": 977,
    "start_time": "2025-03-24T14:12:29.347Z"
   },
   {
    "duration": 411,
    "start_time": "2025-03-24T14:12:30.325Z"
   },
   {
    "duration": 4,
    "start_time": "2025-03-24T14:12:30.738Z"
   },
   {
    "duration": 229,
    "start_time": "2025-03-24T14:12:30.743Z"
   },
   {
    "duration": 176,
    "start_time": "2025-03-24T14:12:30.973Z"
   },
   {
    "duration": 158,
    "start_time": "2025-03-24T14:12:31.150Z"
   },
   {
    "duration": 166,
    "start_time": "2025-03-24T14:12:31.310Z"
   },
   {
    "duration": 142,
    "start_time": "2025-03-24T14:12:31.478Z"
   },
   {
    "duration": 167,
    "start_time": "2025-03-24T14:12:31.621Z"
   },
   {
    "duration": 70,
    "start_time": "2025-03-24T14:12:31.789Z"
   },
   {
    "duration": 18,
    "start_time": "2025-03-24T14:12:31.860Z"
   },
   {
    "duration": 422,
    "start_time": "2025-03-24T14:12:31.879Z"
   },
   {
    "duration": 6,
    "start_time": "2025-03-24T14:12:32.303Z"
   },
   {
    "duration": 623,
    "start_time": "2025-03-24T14:12:32.310Z"
   },
   {
    "duration": 5,
    "start_time": "2025-03-24T14:12:32.935Z"
   },
   {
    "duration": 37,
    "start_time": "2025-03-24T14:12:32.942Z"
   },
   {
    "duration": 28,
    "start_time": "2025-03-24T14:12:32.981Z"
   },
   {
    "duration": 4,
    "start_time": "2025-03-24T14:12:33.011Z"
   },
   {
    "duration": 21,
    "start_time": "2025-03-24T14:12:33.016Z"
   },
   {
    "duration": 6,
    "start_time": "2025-03-24T14:12:33.039Z"
   },
   {
    "duration": 14,
    "start_time": "2025-03-24T14:12:33.046Z"
   },
   {
    "duration": 21,
    "start_time": "2025-03-24T14:12:33.061Z"
   },
   {
    "duration": 15,
    "start_time": "2025-03-24T14:12:33.083Z"
   },
   {
    "duration": 10,
    "start_time": "2025-03-24T14:12:33.099Z"
   },
   {
    "duration": 11,
    "start_time": "2025-03-24T14:12:33.111Z"
   },
   {
    "duration": 11,
    "start_time": "2025-03-24T14:12:33.123Z"
   },
   {
    "duration": 1108,
    "start_time": "2025-03-24T14:14:23.484Z"
   },
   {
    "duration": 30,
    "start_time": "2025-03-24T14:14:24.594Z"
   },
   {
    "duration": 16,
    "start_time": "2025-03-24T14:14:24.626Z"
   },
   {
    "duration": 15,
    "start_time": "2025-03-24T14:14:24.643Z"
   },
   {
    "duration": 37,
    "start_time": "2025-03-24T14:14:24.660Z"
   },
   {
    "duration": 6,
    "start_time": "2025-03-24T14:14:24.699Z"
   },
   {
    "duration": 4,
    "start_time": "2025-03-24T14:14:24.706Z"
   },
   {
    "duration": 5,
    "start_time": "2025-03-24T14:14:24.711Z"
   },
   {
    "duration": 40,
    "start_time": "2025-03-24T14:14:24.717Z"
   },
   {
    "duration": 5,
    "start_time": "2025-03-24T14:14:24.759Z"
   },
   {
    "duration": 17,
    "start_time": "2025-03-24T14:14:24.766Z"
   },
   {
    "duration": 14,
    "start_time": "2025-03-24T14:14:24.785Z"
   },
   {
    "duration": 4,
    "start_time": "2025-03-24T14:14:24.801Z"
   },
   {
    "duration": 8,
    "start_time": "2025-03-24T14:14:24.807Z"
   },
   {
    "duration": 41,
    "start_time": "2025-03-24T14:14:24.817Z"
   },
   {
    "duration": 15,
    "start_time": "2025-03-24T14:14:24.859Z"
   },
   {
    "duration": 4,
    "start_time": "2025-03-24T14:14:24.875Z"
   },
   {
    "duration": 12,
    "start_time": "2025-03-24T14:14:24.880Z"
   },
   {
    "duration": 4,
    "start_time": "2025-03-24T14:14:24.894Z"
   },
   {
    "duration": 3,
    "start_time": "2025-03-24T14:14:24.900Z"
   },
   {
    "duration": 14,
    "start_time": "2025-03-24T14:14:24.904Z"
   },
   {
    "duration": 46,
    "start_time": "2025-03-24T14:14:24.919Z"
   },
   {
    "duration": 14,
    "start_time": "2025-03-24T14:14:24.966Z"
   },
   {
    "duration": 5,
    "start_time": "2025-03-24T14:14:24.981Z"
   },
   {
    "duration": 3,
    "start_time": "2025-03-24T14:14:24.988Z"
   },
   {
    "duration": 13,
    "start_time": "2025-03-24T14:14:24.993Z"
   },
   {
    "duration": 24,
    "start_time": "2025-03-24T14:14:25.008Z"
   },
   {
    "duration": 10,
    "start_time": "2025-03-24T14:14:25.033Z"
   },
   {
    "duration": 40,
    "start_time": "2025-03-24T14:14:25.044Z"
   },
   {
    "duration": 6,
    "start_time": "2025-03-24T14:14:25.086Z"
   },
   {
    "duration": 5,
    "start_time": "2025-03-24T14:14:25.094Z"
   },
   {
    "duration": 17,
    "start_time": "2025-03-24T14:14:25.101Z"
   },
   {
    "duration": 4,
    "start_time": "2025-03-24T14:14:25.119Z"
   },
   {
    "duration": 18,
    "start_time": "2025-03-24T14:14:25.124Z"
   },
   {
    "duration": 12,
    "start_time": "2025-03-24T14:14:25.144Z"
   },
   {
    "duration": 21,
    "start_time": "2025-03-24T14:14:25.157Z"
   },
   {
    "duration": 7,
    "start_time": "2025-03-24T14:14:25.179Z"
   },
   {
    "duration": 20,
    "start_time": "2025-03-24T14:14:25.187Z"
   },
   {
    "duration": 12,
    "start_time": "2025-03-24T14:14:25.208Z"
   },
   {
    "duration": 3,
    "start_time": "2025-03-24T14:14:25.221Z"
   },
   {
    "duration": 320,
    "start_time": "2025-03-24T14:14:25.228Z"
   },
   {
    "duration": 12685,
    "start_time": "2025-03-24T14:14:25.550Z"
   },
   {
    "duration": 1001,
    "start_time": "2025-03-24T14:14:38.236Z"
   },
   {
    "duration": 401,
    "start_time": "2025-03-24T14:14:39.238Z"
   },
   {
    "duration": 4,
    "start_time": "2025-03-24T14:14:39.640Z"
   },
   {
    "duration": 226,
    "start_time": "2025-03-24T14:14:39.646Z"
   },
   {
    "duration": 177,
    "start_time": "2025-03-24T14:14:39.874Z"
   },
   {
    "duration": 150,
    "start_time": "2025-03-24T14:14:40.053Z"
   },
   {
    "duration": 140,
    "start_time": "2025-03-24T14:14:40.204Z"
   },
   {
    "duration": 139,
    "start_time": "2025-03-24T14:14:40.346Z"
   },
   {
    "duration": 170,
    "start_time": "2025-03-24T14:14:40.486Z"
   },
   {
    "duration": 60,
    "start_time": "2025-03-24T14:14:40.658Z"
   },
   {
    "duration": 16,
    "start_time": "2025-03-24T14:14:40.719Z"
   },
   {
    "duration": 424,
    "start_time": "2025-03-24T14:14:40.736Z"
   },
   {
    "duration": 5,
    "start_time": "2025-03-24T14:14:41.162Z"
   },
   {
    "duration": 618,
    "start_time": "2025-03-24T14:14:41.169Z"
   },
   {
    "duration": 5,
    "start_time": "2025-03-24T14:14:41.789Z"
   },
   {
    "duration": 9,
    "start_time": "2025-03-24T14:14:41.795Z"
   },
   {
    "duration": 7,
    "start_time": "2025-03-24T14:14:41.805Z"
   },
   {
    "duration": 9,
    "start_time": "2025-03-24T14:14:41.813Z"
   },
   {
    "duration": 11,
    "start_time": "2025-03-24T14:14:41.823Z"
   },
   {
    "duration": 27,
    "start_time": "2025-03-24T14:14:41.835Z"
   },
   {
    "duration": 6,
    "start_time": "2025-03-24T14:14:41.863Z"
   },
   {
    "duration": 13,
    "start_time": "2025-03-24T14:14:41.870Z"
   },
   {
    "duration": 11,
    "start_time": "2025-03-24T14:14:41.884Z"
   },
   {
    "duration": 10,
    "start_time": "2025-03-24T14:14:41.896Z"
   },
   {
    "duration": 9,
    "start_time": "2025-03-24T14:14:41.907Z"
   },
   {
    "duration": 42,
    "start_time": "2025-03-24T14:14:41.918Z"
   },
   {
    "duration": 1329,
    "start_time": "2025-03-25T08:13:04.313Z"
   },
   {
    "duration": 31,
    "start_time": "2025-03-25T08:24:08.577Z"
   },
   {
    "duration": 29,
    "start_time": "2025-03-25T08:24:17.017Z"
   },
   {
    "duration": 1107,
    "start_time": "2025-03-25T08:24:22.306Z"
   },
   {
    "duration": 30,
    "start_time": "2025-03-25T08:24:23.415Z"
   },
   {
    "duration": 15,
    "start_time": "2025-03-25T08:24:23.447Z"
   },
   {
    "duration": 24,
    "start_time": "2025-03-25T08:24:23.464Z"
   },
   {
    "duration": 38,
    "start_time": "2025-03-25T08:24:23.490Z"
   },
   {
    "duration": 7,
    "start_time": "2025-03-25T08:24:23.530Z"
   },
   {
    "duration": 32,
    "start_time": "2025-03-25T08:24:23.539Z"
   },
   {
    "duration": 4,
    "start_time": "2025-03-25T08:24:23.573Z"
   },
   {
    "duration": 10,
    "start_time": "2025-03-25T08:24:23.579Z"
   },
   {
    "duration": 33,
    "start_time": "2025-03-25T08:24:23.591Z"
   },
   {
    "duration": 16,
    "start_time": "2025-03-25T08:24:23.626Z"
   },
   {
    "duration": 29,
    "start_time": "2025-03-25T08:24:23.644Z"
   },
   {
    "duration": 4,
    "start_time": "2025-03-25T08:24:23.675Z"
   },
   {
    "duration": 9,
    "start_time": "2025-03-25T08:24:23.681Z"
   },
   {
    "duration": 19,
    "start_time": "2025-03-25T08:24:23.691Z"
   },
   {
    "duration": 25,
    "start_time": "2025-03-25T08:24:23.712Z"
   },
   {
    "duration": 4,
    "start_time": "2025-03-25T08:24:23.738Z"
   },
   {
    "duration": 16,
    "start_time": "2025-03-25T08:24:23.743Z"
   },
   {
    "duration": 4,
    "start_time": "2025-03-25T08:24:23.760Z"
   },
   {
    "duration": 5,
    "start_time": "2025-03-25T08:24:23.765Z"
   },
   {
    "duration": 13,
    "start_time": "2025-03-25T08:24:23.771Z"
   },
   {
    "duration": 23,
    "start_time": "2025-03-25T08:24:23.785Z"
   },
   {
    "duration": 13,
    "start_time": "2025-03-25T08:24:23.809Z"
   },
   {
    "duration": 4,
    "start_time": "2025-03-25T08:24:23.824Z"
   },
   {
    "duration": 4,
    "start_time": "2025-03-25T08:24:23.829Z"
   },
   {
    "duration": 13,
    "start_time": "2025-03-25T08:24:23.834Z"
   },
   {
    "duration": 13,
    "start_time": "2025-03-25T08:24:23.848Z"
   },
   {
    "duration": 6,
    "start_time": "2025-03-25T08:24:23.863Z"
   },
   {
    "duration": 6,
    "start_time": "2025-03-25T08:24:23.870Z"
   },
   {
    "duration": 35,
    "start_time": "2025-03-25T08:24:23.877Z"
   },
   {
    "duration": 13,
    "start_time": "2025-03-25T08:24:23.913Z"
   },
   {
    "duration": 19,
    "start_time": "2025-03-25T08:24:23.927Z"
   },
   {
    "duration": 3,
    "start_time": "2025-03-25T08:24:23.948Z"
   },
   {
    "duration": 15,
    "start_time": "2025-03-25T08:24:23.953Z"
   },
   {
    "duration": 3,
    "start_time": "2025-03-25T08:24:23.970Z"
   },
   {
    "duration": 6,
    "start_time": "2025-03-25T08:24:23.975Z"
   },
   {
    "duration": 5,
    "start_time": "2025-03-25T08:24:23.983Z"
   },
   {
    "duration": 18,
    "start_time": "2025-03-25T08:24:23.989Z"
   },
   {
    "duration": 11,
    "start_time": "2025-03-25T08:24:24.009Z"
   },
   {
    "duration": 10,
    "start_time": "2025-03-25T08:24:24.022Z"
   },
   {
    "duration": 307,
    "start_time": "2025-03-25T08:24:24.036Z"
   },
   {
    "duration": 12155,
    "start_time": "2025-03-25T08:24:24.344Z"
   },
   {
    "duration": 943,
    "start_time": "2025-03-25T08:24:36.501Z"
   },
   {
    "duration": 386,
    "start_time": "2025-03-25T08:24:37.446Z"
   },
   {
    "duration": 3,
    "start_time": "2025-03-25T08:24:37.834Z"
   },
   {
    "duration": 202,
    "start_time": "2025-03-25T08:24:37.839Z"
   },
   {
    "duration": 165,
    "start_time": "2025-03-25T08:24:38.043Z"
   },
   {
    "duration": 139,
    "start_time": "2025-03-25T08:24:38.210Z"
   },
   {
    "duration": 143,
    "start_time": "2025-03-25T08:24:38.351Z"
   },
   {
    "duration": 142,
    "start_time": "2025-03-25T08:24:38.496Z"
   },
   {
    "duration": 152,
    "start_time": "2025-03-25T08:24:38.639Z"
   },
   {
    "duration": 63,
    "start_time": "2025-03-25T08:24:38.792Z"
   },
   {
    "duration": 16,
    "start_time": "2025-03-25T08:24:38.856Z"
   },
   {
    "duration": 428,
    "start_time": "2025-03-25T08:24:38.874Z"
   },
   {
    "duration": 5,
    "start_time": "2025-03-25T08:24:39.304Z"
   },
   {
    "duration": 664,
    "start_time": "2025-03-25T08:24:39.311Z"
   },
   {
    "duration": 6,
    "start_time": "2025-03-25T08:24:39.976Z"
   },
   {
    "duration": 6,
    "start_time": "2025-03-25T08:24:39.983Z"
   },
   {
    "duration": 18,
    "start_time": "2025-03-25T08:24:39.991Z"
   },
   {
    "duration": 23,
    "start_time": "2025-03-25T08:24:40.010Z"
   },
   {
    "duration": 26,
    "start_time": "2025-03-25T08:24:40.035Z"
   },
   {
    "duration": 86,
    "start_time": "2025-03-25T08:24:40.062Z"
   },
   {
    "duration": 6,
    "start_time": "2025-03-25T08:24:40.150Z"
   },
   {
    "duration": 15,
    "start_time": "2025-03-25T08:24:40.157Z"
   },
   {
    "duration": 11,
    "start_time": "2025-03-25T08:24:40.174Z"
   },
   {
    "duration": 11,
    "start_time": "2025-03-25T08:24:40.187Z"
   },
   {
    "duration": 10,
    "start_time": "2025-03-25T08:24:40.200Z"
   },
   {
    "duration": 5,
    "start_time": "2025-03-25T08:24:40.212Z"
   },
   {
    "duration": 62,
    "start_time": "2025-03-25T08:48:05.008Z"
   },
   {
    "duration": 16,
    "start_time": "2025-03-25T08:48:10.667Z"
   },
   {
    "duration": 1479,
    "start_time": "2025-03-25T09:14:41.745Z"
   },
   {
    "duration": 621,
    "start_time": "2025-03-25T09:14:53.494Z"
   },
   {
    "duration": 5,
    "start_time": "2025-03-25T10:00:45.338Z"
   },
   {
    "duration": 95,
    "start_time": "2025-03-25T10:15:17.617Z"
   },
   {
    "duration": 11,
    "start_time": "2025-03-25T10:15:30.316Z"
   },
   {
    "duration": 90,
    "start_time": "2025-03-25T10:19:15.670Z"
   },
   {
    "duration": 7,
    "start_time": "2025-03-25T10:19:28.802Z"
   },
   {
    "duration": 102,
    "start_time": "2025-03-25T10:20:36.061Z"
   },
   {
    "duration": 4,
    "start_time": "2025-03-25T10:20:42.589Z"
   },
   {
    "duration": 12,
    "start_time": "2025-03-25T10:27:25.099Z"
   },
   {
    "duration": 6,
    "start_time": "2025-03-25T10:30:29.233Z"
   },
   {
    "duration": 1393,
    "start_time": "2025-03-25T10:31:01.092Z"
   },
   {
    "duration": 1352,
    "start_time": "2025-03-25T10:32:12.369Z"
   },
   {
    "duration": 17,
    "start_time": "2025-03-25T10:33:00.249Z"
   },
   {
    "duration": 1323,
    "start_time": "2025-03-25T10:35:06.016Z"
   },
   {
    "duration": 1225,
    "start_time": "2025-03-25T10:35:16.518Z"
   },
   {
    "duration": 30,
    "start_time": "2025-03-25T10:35:17.745Z"
   },
   {
    "duration": 19,
    "start_time": "2025-03-25T10:35:17.776Z"
   },
   {
    "duration": 17,
    "start_time": "2025-03-25T10:35:17.798Z"
   },
   {
    "duration": 12,
    "start_time": "2025-03-25T10:35:17.816Z"
   },
   {
    "duration": 40,
    "start_time": "2025-03-25T10:35:17.830Z"
   },
   {
    "duration": 6,
    "start_time": "2025-03-25T10:35:17.872Z"
   },
   {
    "duration": 33,
    "start_time": "2025-03-25T10:35:17.879Z"
   },
   {
    "duration": 7,
    "start_time": "2025-03-25T10:35:17.914Z"
   },
   {
    "duration": 22,
    "start_time": "2025-03-25T10:35:17.924Z"
   },
   {
    "duration": 5,
    "start_time": "2025-03-25T10:35:17.948Z"
   },
   {
    "duration": 14,
    "start_time": "2025-03-25T10:35:17.954Z"
   },
   {
    "duration": 12,
    "start_time": "2025-03-25T10:35:17.970Z"
   },
   {
    "duration": 3,
    "start_time": "2025-03-25T10:35:18.007Z"
   },
   {
    "duration": 94,
    "start_time": "2025-03-25T10:35:18.012Z"
   },
   {
    "duration": 38,
    "start_time": "2025-03-25T10:35:18.108Z"
   },
   {
    "duration": 18,
    "start_time": "2025-03-25T10:35:18.147Z"
   },
   {
    "duration": 3,
    "start_time": "2025-03-25T10:35:18.167Z"
   },
   {
    "duration": 23,
    "start_time": "2025-03-25T10:35:18.173Z"
   },
   {
    "duration": 14,
    "start_time": "2025-03-25T10:35:18.198Z"
   },
   {
    "duration": 8,
    "start_time": "2025-03-25T10:35:18.213Z"
   },
   {
    "duration": 21,
    "start_time": "2025-03-25T10:35:18.223Z"
   },
   {
    "duration": 25,
    "start_time": "2025-03-25T10:35:18.246Z"
   },
   {
    "duration": 34,
    "start_time": "2025-03-25T10:35:18.272Z"
   },
   {
    "duration": 5,
    "start_time": "2025-03-25T10:35:18.308Z"
   },
   {
    "duration": 5,
    "start_time": "2025-03-25T10:35:18.315Z"
   },
   {
    "duration": 4,
    "start_time": "2025-03-25T10:35:18.321Z"
   },
   {
    "duration": 12,
    "start_time": "2025-03-25T10:35:18.328Z"
   },
   {
    "duration": 7,
    "start_time": "2025-03-25T10:35:18.341Z"
   },
   {
    "duration": 6,
    "start_time": "2025-03-25T10:35:18.349Z"
   },
   {
    "duration": 7,
    "start_time": "2025-03-25T10:35:18.356Z"
   },
   {
    "duration": 47,
    "start_time": "2025-03-25T10:35:18.364Z"
   },
   {
    "duration": 18,
    "start_time": "2025-03-25T10:35:18.413Z"
   },
   {
    "duration": 5,
    "start_time": "2025-03-25T10:35:18.433Z"
   },
   {
    "duration": 8,
    "start_time": "2025-03-25T10:35:18.439Z"
   },
   {
    "duration": 8,
    "start_time": "2025-03-25T10:35:18.449Z"
   },
   {
    "duration": 4,
    "start_time": "2025-03-25T10:35:18.459Z"
   },
   {
    "duration": 44,
    "start_time": "2025-03-25T10:35:18.465Z"
   },
   {
    "duration": 4,
    "start_time": "2025-03-25T10:35:18.511Z"
   },
   {
    "duration": 18,
    "start_time": "2025-03-25T10:35:18.516Z"
   },
   {
    "duration": 3,
    "start_time": "2025-03-25T10:35:18.535Z"
   },
   {
    "duration": 397,
    "start_time": "2025-03-25T10:35:18.540Z"
   },
   {
    "duration": 12756,
    "start_time": "2025-03-25T10:35:18.939Z"
   },
   {
    "duration": 989,
    "start_time": "2025-03-25T10:35:31.697Z"
   },
   {
    "duration": 405,
    "start_time": "2025-03-25T10:35:32.687Z"
   },
   {
    "duration": 12,
    "start_time": "2025-03-25T10:35:33.094Z"
   },
   {
    "duration": 235,
    "start_time": "2025-03-25T10:35:33.107Z"
   },
   {
    "duration": 181,
    "start_time": "2025-03-25T10:35:33.344Z"
   },
   {
    "duration": 156,
    "start_time": "2025-03-25T10:35:33.527Z"
   },
   {
    "duration": 146,
    "start_time": "2025-03-25T10:35:33.685Z"
   },
   {
    "duration": 145,
    "start_time": "2025-03-25T10:35:33.833Z"
   },
   {
    "duration": 162,
    "start_time": "2025-03-25T10:35:33.980Z"
   },
   {
    "duration": 73,
    "start_time": "2025-03-25T10:35:34.144Z"
   },
   {
    "duration": 17,
    "start_time": "2025-03-25T10:35:34.219Z"
   },
   {
    "duration": 464,
    "start_time": "2025-03-25T10:35:34.238Z"
   },
   {
    "duration": 6,
    "start_time": "2025-03-25T10:35:34.706Z"
   },
   {
    "duration": 639,
    "start_time": "2025-03-25T10:35:34.714Z"
   },
   {
    "duration": 5,
    "start_time": "2025-03-25T10:35:35.355Z"
   },
   {
    "duration": 98,
    "start_time": "2025-03-25T10:35:35.362Z"
   },
   {
    "duration": 24,
    "start_time": "2025-03-25T10:35:35.462Z"
   },
   {
    "duration": 29,
    "start_time": "2025-03-25T10:35:35.488Z"
   },
   {
    "duration": 31,
    "start_time": "2025-03-25T10:35:35.519Z"
   },
   {
    "duration": 64,
    "start_time": "2025-03-25T10:35:35.552Z"
   },
   {
    "duration": 54,
    "start_time": "2025-03-25T10:35:35.618Z"
   },
   {
    "duration": 23,
    "start_time": "2025-03-25T10:35:35.673Z"
   },
   {
    "duration": 16,
    "start_time": "2025-03-25T10:35:35.698Z"
   },
   {
    "duration": 32,
    "start_time": "2025-03-25T10:35:35.716Z"
   },
   {
    "duration": 1483,
    "start_time": "2025-03-25T10:35:35.750Z"
   },
   {
    "duration": 7,
    "start_time": "2025-03-25T10:36:02.795Z"
   },
   {
    "duration": 1372,
    "start_time": "2025-03-25T10:39:44.899Z"
   },
   {
    "duration": 1367,
    "start_time": "2025-03-25T10:39:54.342Z"
   },
   {
    "duration": 12,
    "start_time": "2025-03-25T10:40:07.131Z"
   },
   {
    "duration": 1395,
    "start_time": "2025-03-25T10:40:17.377Z"
   },
   {
    "duration": 1612,
    "start_time": "2025-03-25T10:40:28.743Z"
   },
   {
    "duration": 1410,
    "start_time": "2025-03-25T10:40:50.479Z"
   },
   {
    "duration": 10,
    "start_time": "2025-03-25T10:41:09.871Z"
   },
   {
    "duration": 6,
    "start_time": "2025-03-25T10:42:55.180Z"
   },
   {
    "duration": 5,
    "start_time": "2025-03-25T10:47:53.647Z"
   },
   {
    "duration": 5,
    "start_time": "2025-03-25T10:51:25.844Z"
   },
   {
    "duration": 5,
    "start_time": "2025-03-25T10:52:38.722Z"
   },
   {
    "duration": 97,
    "start_time": "2025-03-25T11:00:52.660Z"
   },
   {
    "duration": 131,
    "start_time": "2025-03-25T11:01:44.875Z"
   },
   {
    "duration": 19,
    "start_time": "2025-03-25T11:02:59.967Z"
   },
   {
    "duration": 7,
    "start_time": "2025-03-25T11:08:05.105Z"
   },
   {
    "duration": 1008,
    "start_time": "2025-03-25T11:08:11.059Z"
   },
   {
    "duration": 7,
    "start_time": "2025-03-25T11:08:15.123Z"
   },
   {
    "duration": 7,
    "start_time": "2025-03-25T11:09:17.956Z"
   },
   {
    "duration": 7,
    "start_time": "2025-03-25T11:09:27.925Z"
   },
   {
    "duration": 11,
    "start_time": "2025-03-25T11:09:47.825Z"
   },
   {
    "duration": 12,
    "start_time": "2025-03-25T11:10:36.900Z"
   },
   {
    "duration": 13,
    "start_time": "2025-03-25T11:15:10.636Z"
   },
   {
    "duration": 10,
    "start_time": "2025-03-25T11:57:19.955Z"
   },
   {
    "duration": 13,
    "start_time": "2025-03-25T12:21:08.572Z"
   },
   {
    "duration": 1109,
    "start_time": "2025-03-25T13:04:26.839Z"
   },
   {
    "duration": 30,
    "start_time": "2025-03-25T13:04:27.950Z"
   },
   {
    "duration": 63,
    "start_time": "2025-03-25T13:04:27.982Z"
   },
   {
    "duration": 17,
    "start_time": "2025-03-25T13:04:28.047Z"
   },
   {
    "duration": 13,
    "start_time": "2025-03-25T13:04:28.065Z"
   },
   {
    "duration": 39,
    "start_time": "2025-03-25T13:04:28.079Z"
   },
   {
    "duration": 6,
    "start_time": "2025-03-25T13:04:28.120Z"
   },
   {
    "duration": 18,
    "start_time": "2025-03-25T13:04:28.127Z"
   },
   {
    "duration": 16,
    "start_time": "2025-03-25T13:04:28.147Z"
   },
   {
    "duration": 9,
    "start_time": "2025-03-25T13:04:28.167Z"
   },
   {
    "duration": 4,
    "start_time": "2025-03-25T13:04:28.178Z"
   },
   {
    "duration": 23,
    "start_time": "2025-03-25T13:04:28.184Z"
   },
   {
    "duration": 29,
    "start_time": "2025-03-25T13:04:28.209Z"
   },
   {
    "duration": 15,
    "start_time": "2025-03-25T13:04:28.239Z"
   },
   {
    "duration": 9,
    "start_time": "2025-03-25T13:04:28.256Z"
   },
   {
    "duration": 20,
    "start_time": "2025-03-25T13:04:28.267Z"
   },
   {
    "duration": 9,
    "start_time": "2025-03-25T13:04:28.289Z"
   },
   {
    "duration": 3,
    "start_time": "2025-03-25T13:04:28.300Z"
   },
   {
    "duration": 33,
    "start_time": "2025-03-25T13:04:28.304Z"
   },
   {
    "duration": 9,
    "start_time": "2025-03-25T13:04:28.338Z"
   },
   {
    "duration": 5,
    "start_time": "2025-03-25T13:04:28.348Z"
   },
   {
    "duration": 17,
    "start_time": "2025-03-25T13:04:28.354Z"
   },
   {
    "duration": 19,
    "start_time": "2025-03-25T13:04:28.372Z"
   },
   {
    "duration": 14,
    "start_time": "2025-03-25T13:04:28.392Z"
   },
   {
    "duration": 4,
    "start_time": "2025-03-25T13:04:28.407Z"
   },
   {
    "duration": 9,
    "start_time": "2025-03-25T13:04:28.412Z"
   },
   {
    "duration": 21,
    "start_time": "2025-03-25T13:04:28.423Z"
   },
   {
    "duration": 15,
    "start_time": "2025-03-25T13:04:28.448Z"
   },
   {
    "duration": 7,
    "start_time": "2025-03-25T13:04:28.464Z"
   },
   {
    "duration": 6,
    "start_time": "2025-03-25T13:04:28.472Z"
   },
   {
    "duration": 6,
    "start_time": "2025-03-25T13:04:28.479Z"
   },
   {
    "duration": 11,
    "start_time": "2025-03-25T13:04:28.486Z"
   },
   {
    "duration": 22,
    "start_time": "2025-03-25T13:04:28.498Z"
   },
   {
    "duration": 5,
    "start_time": "2025-03-25T13:04:28.522Z"
   },
   {
    "duration": 8,
    "start_time": "2025-03-25T13:04:28.529Z"
   },
   {
    "duration": 4,
    "start_time": "2025-03-25T13:04:28.538Z"
   },
   {
    "duration": 3,
    "start_time": "2025-03-25T13:04:28.543Z"
   },
   {
    "duration": 5,
    "start_time": "2025-03-25T13:04:28.547Z"
   },
   {
    "duration": 3,
    "start_time": "2025-03-25T13:04:28.553Z"
   },
   {
    "duration": 11,
    "start_time": "2025-03-25T13:04:28.558Z"
   },
   {
    "duration": 37,
    "start_time": "2025-03-25T13:04:28.570Z"
   },
   {
    "duration": 367,
    "start_time": "2025-03-25T13:04:28.608Z"
   },
   {
    "duration": 13156,
    "start_time": "2025-03-25T13:04:28.976Z"
   },
   {
    "duration": 1009,
    "start_time": "2025-03-25T13:04:42.133Z"
   },
   {
    "duration": 401,
    "start_time": "2025-03-25T13:04:43.144Z"
   },
   {
    "duration": 4,
    "start_time": "2025-03-25T13:04:43.547Z"
   },
   {
    "duration": 220,
    "start_time": "2025-03-25T13:04:43.552Z"
   },
   {
    "duration": 173,
    "start_time": "2025-03-25T13:04:43.774Z"
   },
   {
    "duration": 159,
    "start_time": "2025-03-25T13:04:43.949Z"
   },
   {
    "duration": 157,
    "start_time": "2025-03-25T13:04:44.110Z"
   },
   {
    "duration": 145,
    "start_time": "2025-03-25T13:04:44.268Z"
   },
   {
    "duration": 164,
    "start_time": "2025-03-25T13:04:44.414Z"
   },
   {
    "duration": 76,
    "start_time": "2025-03-25T13:04:44.580Z"
   },
   {
    "duration": 16,
    "start_time": "2025-03-25T13:04:44.658Z"
   },
   {
    "duration": 465,
    "start_time": "2025-03-25T13:04:44.675Z"
   },
   {
    "duration": 6,
    "start_time": "2025-03-25T13:04:45.141Z"
   },
   {
    "duration": 663,
    "start_time": "2025-03-25T13:04:45.148Z"
   },
   {
    "duration": 5,
    "start_time": "2025-03-25T13:04:45.813Z"
   },
   {
    "duration": 4,
    "start_time": "2025-03-25T13:04:45.820Z"
   },
   {
    "duration": 7,
    "start_time": "2025-03-25T13:04:45.825Z"
   },
   {
    "duration": 11,
    "start_time": "2025-03-25T13:04:45.833Z"
   },
   {
    "duration": 6,
    "start_time": "2025-03-25T13:04:45.846Z"
   },
   {
    "duration": 11,
    "start_time": "2025-03-25T13:04:45.854Z"
   },
   {
    "duration": 47,
    "start_time": "2025-03-25T13:04:45.866Z"
   },
   {
    "duration": 20,
    "start_time": "2025-03-25T13:04:45.915Z"
   },
   {
    "duration": 10,
    "start_time": "2025-03-25T13:04:45.936Z"
   },
   {
    "duration": 73,
    "start_time": "2025-03-25T13:04:45.948Z"
   },
   {
    "duration": 5,
    "start_time": "2025-03-25T13:04:46.023Z"
   },
   {
    "duration": 9,
    "start_time": "2025-03-25T15:46:17.681Z"
   },
   {
    "duration": 394,
    "start_time": "2025-03-25T16:13:14.157Z"
   },
   {
    "duration": 367,
    "start_time": "2025-03-25T16:13:21.514Z"
   },
   {
    "duration": 396,
    "start_time": "2025-03-25T16:13:34.478Z"
   },
   {
    "duration": 1186,
    "start_time": "2025-03-25T16:32:51.633Z"
   },
   {
    "duration": 30,
    "start_time": "2025-03-25T16:32:52.821Z"
   },
   {
    "duration": 18,
    "start_time": "2025-03-25T16:32:52.852Z"
   },
   {
    "duration": 18,
    "start_time": "2025-03-25T16:32:52.872Z"
   },
   {
    "duration": 20,
    "start_time": "2025-03-25T16:32:52.891Z"
   },
   {
    "duration": 50,
    "start_time": "2025-03-25T16:32:52.913Z"
   },
   {
    "duration": 7,
    "start_time": "2025-03-25T16:32:52.964Z"
   },
   {
    "duration": 5,
    "start_time": "2025-03-25T16:32:52.972Z"
   },
   {
    "duration": 12,
    "start_time": "2025-03-25T16:32:52.978Z"
   },
   {
    "duration": 22,
    "start_time": "2025-03-25T16:32:52.993Z"
   },
   {
    "duration": 4,
    "start_time": "2025-03-25T16:32:53.017Z"
   },
   {
    "duration": 15,
    "start_time": "2025-03-25T16:32:53.023Z"
   },
   {
    "duration": 12,
    "start_time": "2025-03-25T16:32:53.040Z"
   },
   {
    "duration": 3,
    "start_time": "2025-03-25T16:32:53.053Z"
   },
   {
    "duration": 29,
    "start_time": "2025-03-25T16:32:53.058Z"
   },
   {
    "duration": 12,
    "start_time": "2025-03-25T16:32:53.089Z"
   },
   {
    "duration": 12,
    "start_time": "2025-03-25T16:32:53.107Z"
   },
   {
    "duration": 6,
    "start_time": "2025-03-25T16:32:53.121Z"
   },
   {
    "duration": 13,
    "start_time": "2025-03-25T16:32:53.129Z"
   },
   {
    "duration": 8,
    "start_time": "2025-03-25T16:32:53.143Z"
   },
   {
    "duration": 4,
    "start_time": "2025-03-25T16:32:53.152Z"
   },
   {
    "duration": 19,
    "start_time": "2025-03-25T16:32:53.157Z"
   },
   {
    "duration": 38,
    "start_time": "2025-03-25T16:32:53.177Z"
   },
   {
    "duration": 16,
    "start_time": "2025-03-25T16:32:53.217Z"
   },
   {
    "duration": 4,
    "start_time": "2025-03-25T16:32:53.234Z"
   },
   {
    "duration": 4,
    "start_time": "2025-03-25T16:32:53.239Z"
   },
   {
    "duration": 3,
    "start_time": "2025-03-25T16:32:53.244Z"
   },
   {
    "duration": 10,
    "start_time": "2025-03-25T16:32:53.250Z"
   },
   {
    "duration": 9,
    "start_time": "2025-03-25T16:32:53.261Z"
   },
   {
    "duration": 45,
    "start_time": "2025-03-25T16:32:53.272Z"
   },
   {
    "duration": 9,
    "start_time": "2025-03-25T16:32:53.319Z"
   },
   {
    "duration": 59,
    "start_time": "2025-03-25T16:32:53.329Z"
   },
   {
    "duration": 15,
    "start_time": "2025-03-25T16:32:53.390Z"
   },
   {
    "duration": 6,
    "start_time": "2025-03-25T16:32:53.407Z"
   },
   {
    "duration": 10,
    "start_time": "2025-03-25T16:32:53.415Z"
   },
   {
    "duration": 5,
    "start_time": "2025-03-25T16:32:53.427Z"
   },
   {
    "duration": 5,
    "start_time": "2025-03-25T16:32:53.435Z"
   },
   {
    "duration": 6,
    "start_time": "2025-03-25T16:32:53.441Z"
   },
   {
    "duration": 4,
    "start_time": "2025-03-25T16:32:53.448Z"
   },
   {
    "duration": 11,
    "start_time": "2025-03-25T16:32:53.453Z"
   },
   {
    "duration": 8,
    "start_time": "2025-03-25T16:32:53.465Z"
   },
   {
    "duration": 362,
    "start_time": "2025-03-25T16:32:53.474Z"
   },
   {
    "duration": 13277,
    "start_time": "2025-03-25T16:32:53.838Z"
   },
   {
    "duration": 960,
    "start_time": "2025-03-25T16:33:07.117Z"
   },
   {
    "duration": 391,
    "start_time": "2025-03-25T16:33:08.079Z"
   },
   {
    "duration": 4,
    "start_time": "2025-03-25T16:33:08.472Z"
   },
   {
    "duration": 212,
    "start_time": "2025-03-25T16:33:08.477Z"
   },
   {
    "duration": 171,
    "start_time": "2025-03-25T16:33:08.691Z"
   },
   {
    "duration": 154,
    "start_time": "2025-03-25T16:33:08.864Z"
   },
   {
    "duration": 158,
    "start_time": "2025-03-25T16:33:09.021Z"
   },
   {
    "duration": 141,
    "start_time": "2025-03-25T16:33:09.181Z"
   },
   {
    "duration": 162,
    "start_time": "2025-03-25T16:33:09.323Z"
   },
   {
    "duration": 74,
    "start_time": "2025-03-25T16:33:09.486Z"
   },
   {
    "duration": 16,
    "start_time": "2025-03-25T16:33:09.562Z"
   },
   {
    "duration": 433,
    "start_time": "2025-03-25T16:33:09.580Z"
   },
   {
    "duration": 7,
    "start_time": "2025-03-25T16:33:10.015Z"
   },
   {
    "duration": 679,
    "start_time": "2025-03-25T16:33:10.024Z"
   },
   {
    "duration": 5,
    "start_time": "2025-03-25T16:33:10.705Z"
   },
   {
    "duration": 17,
    "start_time": "2025-03-25T16:33:10.712Z"
   },
   {
    "duration": 27,
    "start_time": "2025-03-25T16:33:10.731Z"
   },
   {
    "duration": 25,
    "start_time": "2025-03-25T16:33:10.760Z"
   },
   {
    "duration": 11,
    "start_time": "2025-03-25T16:33:10.787Z"
   },
   {
    "duration": 56,
    "start_time": "2025-03-25T16:33:10.800Z"
   },
   {
    "duration": 11,
    "start_time": "2025-03-25T16:33:10.858Z"
   },
   {
    "duration": 28,
    "start_time": "2025-03-25T16:33:10.870Z"
   },
   {
    "duration": 25,
    "start_time": "2025-03-25T16:33:10.900Z"
   },
   {
    "duration": 15,
    "start_time": "2025-03-25T16:33:10.927Z"
   },
   {
    "duration": 11,
    "start_time": "2025-03-25T16:33:10.944Z"
   },
   {
    "duration": 1566,
    "start_time": "2025-03-26T10:50:27.815Z"
   },
   {
    "duration": 149,
    "start_time": "2025-03-26T10:50:29.383Z"
   },
   {
    "duration": 29,
    "start_time": "2025-03-26T10:50:29.534Z"
   },
   {
    "duration": 27,
    "start_time": "2025-03-26T10:50:29.566Z"
   },
   {
    "duration": 13,
    "start_time": "2025-03-26T10:50:29.594Z"
   },
   {
    "duration": 61,
    "start_time": "2025-03-26T10:50:29.608Z"
   },
   {
    "duration": 7,
    "start_time": "2025-03-26T10:50:29.671Z"
   },
   {
    "duration": 21,
    "start_time": "2025-03-26T10:50:29.679Z"
   },
   {
    "duration": 31,
    "start_time": "2025-03-26T10:50:29.702Z"
   },
   {
    "duration": 18,
    "start_time": "2025-03-26T10:50:29.736Z"
   },
   {
    "duration": 17,
    "start_time": "2025-03-26T10:50:29.756Z"
   },
   {
    "duration": 19,
    "start_time": "2025-03-26T10:50:29.775Z"
   },
   {
    "duration": 23,
    "start_time": "2025-03-26T10:50:29.796Z"
   },
   {
    "duration": 4,
    "start_time": "2025-03-26T10:50:29.821Z"
   },
   {
    "duration": 313,
    "start_time": "2025-03-26T10:50:29.827Z"
   },
   {
    "duration": 32,
    "start_time": "2025-03-26T10:50:30.141Z"
   },
   {
    "duration": 50,
    "start_time": "2025-03-26T10:50:30.174Z"
   },
   {
    "duration": 6,
    "start_time": "2025-03-26T10:50:30.226Z"
   },
   {
    "duration": 30,
    "start_time": "2025-03-26T10:50:30.233Z"
   },
   {
    "duration": 48,
    "start_time": "2025-03-26T10:50:30.265Z"
   },
   {
    "duration": 18,
    "start_time": "2025-03-26T10:50:30.314Z"
   },
   {
    "duration": 23,
    "start_time": "2025-03-26T10:50:30.334Z"
   },
   {
    "duration": 93,
    "start_time": "2025-03-26T10:50:30.359Z"
   },
   {
    "duration": 32,
    "start_time": "2025-03-26T10:50:30.454Z"
   },
   {
    "duration": 14,
    "start_time": "2025-03-26T10:50:30.488Z"
   },
   {
    "duration": 51,
    "start_time": "2025-03-26T10:50:30.504Z"
   },
   {
    "duration": 47,
    "start_time": "2025-03-26T10:50:30.557Z"
   },
   {
    "duration": 18,
    "start_time": "2025-03-26T10:50:30.610Z"
   },
   {
    "duration": 8,
    "start_time": "2025-03-26T10:50:30.630Z"
   },
   {
    "duration": 8,
    "start_time": "2025-03-26T10:50:30.639Z"
   },
   {
    "duration": 9,
    "start_time": "2025-03-26T10:50:30.648Z"
   },
   {
    "duration": 29,
    "start_time": "2025-03-26T10:50:30.658Z"
   },
   {
    "duration": 27,
    "start_time": "2025-03-26T10:50:30.689Z"
   },
   {
    "duration": 25,
    "start_time": "2025-03-26T10:50:30.718Z"
   },
   {
    "duration": 6,
    "start_time": "2025-03-26T10:50:30.745Z"
   },
   {
    "duration": 10,
    "start_time": "2025-03-26T10:50:30.753Z"
   },
   {
    "duration": 40,
    "start_time": "2025-03-26T10:50:30.765Z"
   },
   {
    "duration": 23,
    "start_time": "2025-03-26T10:50:30.806Z"
   },
   {
    "duration": 7,
    "start_time": "2025-03-26T10:50:30.831Z"
   },
   {
    "duration": 17,
    "start_time": "2025-03-26T10:50:30.839Z"
   },
   {
    "duration": 20,
    "start_time": "2025-03-26T10:50:30.858Z"
   },
   {
    "duration": 543,
    "start_time": "2025-03-26T10:50:30.880Z"
   },
   {
    "duration": 14470,
    "start_time": "2025-03-26T10:50:31.424Z"
   },
   {
    "duration": 1331,
    "start_time": "2025-03-26T10:50:45.896Z"
   },
   {
    "duration": 583,
    "start_time": "2025-03-26T10:50:47.229Z"
   },
   {
    "duration": 5,
    "start_time": "2025-03-26T10:50:47.813Z"
   },
   {
    "duration": 351,
    "start_time": "2025-03-26T10:50:47.819Z"
   },
   {
    "duration": 307,
    "start_time": "2025-03-26T10:50:48.173Z"
   },
   {
    "duration": 270,
    "start_time": "2025-03-26T10:50:48.482Z"
   },
   {
    "duration": 268,
    "start_time": "2025-03-26T10:50:48.754Z"
   },
   {
    "duration": 299,
    "start_time": "2025-03-26T10:50:49.025Z"
   },
   {
    "duration": 307,
    "start_time": "2025-03-26T10:50:49.326Z"
   },
   {
    "duration": 85,
    "start_time": "2025-03-26T10:50:49.634Z"
   },
   {
    "duration": 17,
    "start_time": "2025-03-26T10:50:49.721Z"
   },
   {
    "duration": 406,
    "start_time": "2025-03-26T10:50:49.740Z"
   },
   {
    "duration": 15,
    "start_time": "2025-03-26T10:50:50.148Z"
   },
   {
    "duration": 875,
    "start_time": "2025-03-26T10:50:50.166Z"
   },
   {
    "duration": 6,
    "start_time": "2025-03-26T10:50:51.043Z"
   },
   {
    "duration": 14,
    "start_time": "2025-03-26T10:50:51.051Z"
   },
   {
    "duration": 28,
    "start_time": "2025-03-26T10:50:51.068Z"
   },
   {
    "duration": 30,
    "start_time": "2025-03-26T10:50:51.098Z"
   },
   {
    "duration": 10,
    "start_time": "2025-03-26T10:50:51.130Z"
   },
   {
    "duration": 12,
    "start_time": "2025-03-26T10:50:51.141Z"
   },
   {
    "duration": 27,
    "start_time": "2025-03-26T10:50:51.155Z"
   },
   {
    "duration": 25,
    "start_time": "2025-03-26T10:50:51.183Z"
   },
   {
    "duration": 40,
    "start_time": "2025-03-26T10:50:51.210Z"
   },
   {
    "duration": 33,
    "start_time": "2025-03-26T10:50:51.252Z"
   },
   {
    "duration": 18,
    "start_time": "2025-03-26T10:50:51.286Z"
   },
   {
    "duration": 1570,
    "start_time": "2025-03-26T14:39:49.507Z"
   },
   {
    "duration": 33,
    "start_time": "2025-03-26T14:39:51.079Z"
   },
   {
    "duration": 20,
    "start_time": "2025-03-26T14:39:51.113Z"
   },
   {
    "duration": 31,
    "start_time": "2025-03-26T14:39:51.135Z"
   },
   {
    "duration": 30,
    "start_time": "2025-03-26T14:39:51.168Z"
   },
   {
    "duration": 108,
    "start_time": "2025-03-26T14:39:51.200Z"
   },
   {
    "duration": 22,
    "start_time": "2025-03-26T14:39:51.310Z"
   },
   {
    "duration": 43,
    "start_time": "2025-03-26T14:39:51.334Z"
   },
   {
    "duration": 18,
    "start_time": "2025-03-26T14:39:51.379Z"
   },
   {
    "duration": 37,
    "start_time": "2025-03-26T14:39:51.400Z"
   },
   {
    "duration": 6,
    "start_time": "2025-03-26T14:39:51.438Z"
   },
   {
    "duration": 50,
    "start_time": "2025-03-26T14:39:51.445Z"
   },
   {
    "duration": 27,
    "start_time": "2025-03-26T14:39:51.498Z"
   },
   {
    "duration": 4,
    "start_time": "2025-03-26T14:39:51.527Z"
   },
   {
    "duration": 29,
    "start_time": "2025-03-26T14:39:51.532Z"
   },
   {
    "duration": 19,
    "start_time": "2025-03-26T14:39:51.563Z"
   },
   {
    "duration": 40,
    "start_time": "2025-03-26T14:39:51.584Z"
   },
   {
    "duration": 41,
    "start_time": "2025-03-26T14:39:51.627Z"
   },
   {
    "duration": 56,
    "start_time": "2025-03-26T14:39:51.670Z"
   },
   {
    "duration": 28,
    "start_time": "2025-03-26T14:39:51.728Z"
   },
   {
    "duration": 16,
    "start_time": "2025-03-26T14:39:51.758Z"
   },
   {
    "duration": 17,
    "start_time": "2025-03-26T14:39:51.776Z"
   },
   {
    "duration": 25,
    "start_time": "2025-03-26T14:39:51.794Z"
   },
   {
    "duration": 22,
    "start_time": "2025-03-26T14:39:51.821Z"
   },
   {
    "duration": 5,
    "start_time": "2025-03-26T14:39:51.845Z"
   },
   {
    "duration": 34,
    "start_time": "2025-03-26T14:39:51.851Z"
   },
   {
    "duration": 14,
    "start_time": "2025-03-26T14:39:51.887Z"
   },
   {
    "duration": 17,
    "start_time": "2025-03-26T14:39:51.905Z"
   },
   {
    "duration": 15,
    "start_time": "2025-03-26T14:39:51.924Z"
   },
   {
    "duration": 167,
    "start_time": "2025-03-26T14:39:51.942Z"
   },
   {
    "duration": 60,
    "start_time": "2025-03-26T14:39:52.111Z"
   },
   {
    "duration": 19,
    "start_time": "2025-03-26T14:39:52.173Z"
   },
   {
    "duration": 26,
    "start_time": "2025-03-26T14:39:52.194Z"
   },
   {
    "duration": 12,
    "start_time": "2025-03-26T14:39:52.222Z"
   },
   {
    "duration": 9,
    "start_time": "2025-03-26T14:39:52.235Z"
   },
   {
    "duration": 20,
    "start_time": "2025-03-26T14:39:52.246Z"
   },
   {
    "duration": 36,
    "start_time": "2025-03-26T14:39:52.268Z"
   },
   {
    "duration": 33,
    "start_time": "2025-03-26T14:39:52.306Z"
   },
   {
    "duration": 6,
    "start_time": "2025-03-26T14:39:52.341Z"
   },
   {
    "duration": 27,
    "start_time": "2025-03-26T14:39:52.349Z"
   },
   {
    "duration": 13,
    "start_time": "2025-03-26T14:39:52.378Z"
   },
   {
    "duration": 491,
    "start_time": "2025-03-26T14:39:52.392Z"
   },
   {
    "duration": 14134,
    "start_time": "2025-03-26T14:39:52.886Z"
   },
   {
    "duration": 1308,
    "start_time": "2025-03-26T14:40:07.022Z"
   },
   {
    "duration": 588,
    "start_time": "2025-03-26T14:40:08.332Z"
   },
   {
    "duration": 6,
    "start_time": "2025-03-26T14:40:08.922Z"
   },
   {
    "duration": 353,
    "start_time": "2025-03-26T14:40:08.929Z"
   },
   {
    "duration": 267,
    "start_time": "2025-03-26T14:40:09.285Z"
   },
   {
    "duration": 263,
    "start_time": "2025-03-26T14:40:09.561Z"
   },
   {
    "duration": 282,
    "start_time": "2025-03-26T14:40:09.826Z"
   },
   {
    "duration": 253,
    "start_time": "2025-03-26T14:40:10.109Z"
   },
   {
    "duration": 266,
    "start_time": "2025-03-26T14:40:10.364Z"
   },
   {
    "duration": 80,
    "start_time": "2025-03-26T14:40:10.632Z"
   },
   {
    "duration": 17,
    "start_time": "2025-03-26T14:40:10.714Z"
   },
   {
    "duration": 448,
    "start_time": "2025-03-26T14:40:10.733Z"
   },
   {
    "duration": 6,
    "start_time": "2025-03-26T14:40:11.183Z"
   },
   {
    "duration": 942,
    "start_time": "2025-03-26T14:40:11.191Z"
   },
   {
    "duration": 6,
    "start_time": "2025-03-26T14:40:12.134Z"
   },
   {
    "duration": 11,
    "start_time": "2025-03-26T14:40:12.142Z"
   },
   {
    "duration": 35,
    "start_time": "2025-03-26T14:40:12.155Z"
   },
   {
    "duration": 48,
    "start_time": "2025-03-26T14:40:12.192Z"
   },
   {
    "duration": 9,
    "start_time": "2025-03-26T14:40:12.242Z"
   },
   {
    "duration": 19,
    "start_time": "2025-03-26T14:40:12.252Z"
   },
   {
    "duration": 40,
    "start_time": "2025-03-26T14:40:12.272Z"
   },
   {
    "duration": 19,
    "start_time": "2025-03-26T14:40:12.314Z"
   },
   {
    "duration": 19,
    "start_time": "2025-03-26T14:40:12.335Z"
   },
   {
    "duration": 14,
    "start_time": "2025-03-26T14:40:12.355Z"
   },
   {
    "duration": 5,
    "start_time": "2025-03-26T14:40:12.371Z"
   }
  ],
  "kernelspec": {
   "display_name": "Python 3 (ipykernel)",
   "language": "python",
   "name": "python3"
  },
  "language_info": {
   "codemirror_mode": {
    "name": "ipython",
    "version": 3
   },
   "file_extension": ".py",
   "mimetype": "text/x-python",
   "name": "python",
   "nbconvert_exporter": "python",
   "pygments_lexer": "ipython3",
   "version": "3.9.5"
  },
  "toc": {
   "base_numbering": 1,
   "nav_menu": {},
   "number_sections": true,
   "sideBar": true,
   "skip_h1_title": true,
   "title_cell": "Table of Contents",
   "title_sidebar": "Contents",
   "toc_cell": false,
   "toc_position": {},
   "toc_section_display": true,
   "toc_window_display": false
  }
 },
 "nbformat": 4,
 "nbformat_minor": 2
}
